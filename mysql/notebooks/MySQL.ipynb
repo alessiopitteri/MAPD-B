{
 "cells": [
  {
   "cell_type": "markdown",
   "id": "938f871d",
   "metadata": {},
   "source": [
    "# RDBMS - MySQL \n",
    "\n",
    "## 00 - Introduction\n",
    "\n",
    "Among the Relational DBMSs, the most widely known are Oracle, SQLite, Postgress, MariaDB, MySQL.\n",
    "\n",
    "Each one of them is characterized by a different set of \"variations\" on top of the base SQL language, although usually minor.\n",
    "\n",
    "We will use **MySQL** to run exercises about Relational DB transactions using the SQL language, as it is *today* at the top of the list of most widely used RDBs. \n",
    "\n",
    "https://db-engines.com/en/ranking_trend/relational+dbms\n",
    "\n",
    "https://www.statista.com/statistics/809750/worldwide-popularity-ranking-database-management-systems/\n",
    "\n",
    "https://insights.stackoverflow.com/survey/2021#most-popular-technologies-database"
   ]
  },
  {
   "cell_type": "markdown",
   "id": "3ce38833",
   "metadata": {},
   "source": [
    "MySQL programming interfaces exist for many languages, including C, C++, Go, Java, Perl, PHP, Python, etc...\n",
    "\n",
    "Even simply referring to Python, we can count on several options to connect and interact with the DBs. \n",
    "\n",
    "Let's explore a couple of them..."
   ]
  },
  {
   "cell_type": "markdown",
   "id": "4e97fb3a",
   "metadata": {},
   "source": [
    "## 01 - Create a connection to MySQL \n",
    "\n",
    "A MySQL server is in execution on one of your Docker containers.\n",
    "\n",
    "We can access it via the MySQL server credential we have defined in the docker-compose yml.\n",
    "\n",
    "A `root` user is created by default with:\n",
    "- user: `root`\n",
    "- password: `root_pwd`\n",
    "\n",
    "A non-`root` user is also created by default with:\n",
    "- user: `my_user`\n",
    "- password: `my_pwd`"
   ]
  },
  {
   "cell_type": "markdown",
   "id": "d66684cf",
   "metadata": {},
   "source": [
    "#### Interactive \n",
    "\n",
    "We can interact with the MySQL server by logging in interactively to its docker container.\n",
    "\n",
    "Check the `CONTAINER ID` of the container named `mysql_db` via:\n",
    "    \n",
    "```bash \n",
    "$ docker ps \n",
    "```\n",
    "\n",
    "And run `bash` (or `/bin/bash`) in interactive mode attaching it to the terminal (`-it`) on the container:\n",
    "\n",
    "```bash\n",
    "$ docker exec -it <YOUR CONTAINER ID> bash\n",
    "```\n",
    "\n",
    "From inside the container we can use the RDBMS interface as if we were logged into a remote MySQL server hosting our DBs\n",
    "\n",
    "```bash\n",
    "$ mysql -u <EITHER ROOT OR USER> -p\n",
    "``` "
   ]
  },
  {
   "cell_type": "markdown",
   "id": "1f0cb7ff",
   "metadata": {},
   "source": [
    "We can then inspect the MySQL server to show us all DBs:\n",
    "    \n",
    "```mysql\n",
    "SHOW DATABASES;\n",
    "```\n",
    "\n",
    "_NB_: remember to end a SQL command with a semicolon `;`"
   ]
  },
  {
   "cell_type": "markdown",
   "id": "55d9f2b8",
   "metadata": {},
   "source": [
    "#### mysql.connector"
   ]
  },
  {
   "cell_type": "markdown",
   "id": "bcb48d85",
   "metadata": {},
   "source": [
    "A more pythonic way of communicating with a MySQL server is by using a dedicated driver.\n",
    "\n",
    "We will use `mysql.connector`, which has already been installed in the Jupyter-notebook container for you.\n",
    "\n",
    "The connector offers an interface to declare a connection object to the server, and provides a series of functionalities to issue transactions and fetch records from DBs.\n",
    "\n",
    "We start by declaring a connection to our MySQL server.\n",
    "\n",
    "_NB_: the server is hosted in a different container from the notebook... we are simulating a connection between two differen machines, a client and a server."
   ]
  },
  {
   "cell_type": "code",
   "execution_count": 1,
   "id": "5591a13f",
   "metadata": {},
   "outputs": [
    {
     "name": "stdout",
     "output_type": "stream",
     "text": [
      "<mysql.connector.connection_cext.CMySQLConnection object at 0x7f1e7c27f8b0>\n"
     ]
    }
   ],
   "source": [
    "# import the connector\n",
    "import mysql.connector\n",
    "\n",
    "# declare a connection to the MySQL server \n",
    "# the hostname (or IP) of the server machine should be passed\n",
    "db = mysql.connector.connect(\n",
    "  user=\"root\",\n",
    "  password=\"root_pwd\",\n",
    "  host=\"db\", # in this case 'db' is the equivalent of the IP address of the server \n",
    "             # or 'localhost' if running mysql locally\n",
    ")\n",
    "\n",
    "print(db)"
   ]
  },
  {
   "cell_type": "markdown",
   "id": "93eb72df",
   "metadata": {},
   "source": [
    "\n",
    "\n",
    "\n",
    "At this point a DB connection is enstablished\n",
    "\n",
    "To interact with the DB via python and mysql.connector we need a \"handle\", known as a cursor, which has to be instantiated.\n",
    "\n",
    "Using this connector to interact with the DB, all SQL statements are executed using the cursor."
   ]
  },
  {
   "cell_type": "code",
   "execution_count": 2,
   "id": "052b7a2c",
   "metadata": {},
   "outputs": [],
   "source": [
    "# create our db cursor object\n",
    "dbc = db.cursor()"
   ]
  },
  {
   "cell_type": "markdown",
   "id": "42686539",
   "metadata": {},
   "source": [
    "The cursor allows to execute all SQL transactions on the DB as if we were logged into the server.\n",
    "\n",
    "If a transaction will fetch a result from the DB (a set of records are returned), the connector object will retain the results.\n",
    "\n",
    "This might come in handy for us to use it in a more \"pythonic\" way later on, interfacing our DB query with other Python statements.\n",
    "\n",
    "The syntax for issuing a generic SQL statement is the following:\n",
    "\n",
    "```python\n",
    "connector_object.execute(my_sql_query)\n",
    "```\n",
    "\n",
    "For instance, let's try to execute the same check as before, by asking MySQL to show us all available DBs..."
   ]
  },
  {
   "cell_type": "code",
   "execution_count": 3,
   "id": "2bdcf2ff",
   "metadata": {},
   "outputs": [],
   "source": [
    "# show all available databases\n",
    "dbc.execute(\n",
    "\"SHOW DATABASES\"\n",
    ")"
   ]
  },
  {
   "cell_type": "markdown",
   "id": "e1325e30",
   "metadata": {},
   "source": [
    "No output is printed as the result of this SQL transaction is in fact \"collected\" into the cursor as a list of records (tuples).\n",
    "\n",
    "We can simply loop over them to return the results."
   ]
  },
  {
   "cell_type": "code",
   "execution_count": 4,
   "id": "663dd988",
   "metadata": {},
   "outputs": [
    {
     "name": "stdout",
     "output_type": "stream",
     "text": [
      "('IMDb',)\n",
      "('information_schema',)\n",
      "('mysql',)\n",
      "('performance_schema',)\n",
      "('sys',)\n"
     ]
    }
   ],
   "source": [
    "# loop over the container to fetch the results\n",
    "for _ in dbc:\n",
    "    print(_)"
   ]
  },
  {
   "cell_type": "markdown",
   "id": "b11de704",
   "metadata": {},
   "source": [
    "If we are `root` users in this example, we are able to see inner structure of the mysql server, which already contains a few dbs by default. \n",
    "\n",
    "Once fetched the output of the transaction, the cursor reaches \"the end\" of the records, and is available to perform a new transaction"
   ]
  },
  {
   "cell_type": "code",
   "execution_count": 5,
   "id": "fe7dbbb5",
   "metadata": {},
   "outputs": [],
   "source": [
    "# use fetch to retrieve one, many, or all entries in the cursor\n",
    "dbc.fetchone()\n",
    "\n",
    "# dbc.fetchmany(2)\n",
    "\n",
    "# dbc.fetchall()"
   ]
  },
  {
   "cell_type": "markdown",
   "id": "91be5564",
   "metadata": {},
   "source": [
    "In the case one wants to perform a new transaction without collecting the output of the previos one from the cursor, a reset have to be issued first:\n",
    "\n",
    "```python \n",
    "connector_object.reset()\n",
    "```\n"
   ]
  },
  {
   "cell_type": "markdown",
   "id": "ea86a443",
   "metadata": {},
   "source": [
    "In the case a generic user is instead logged into the db (i.e. non the `root` user), it will not have access to a set of functionalities, and will not be able to see the previous list of all databases.\n",
    "\n",
    "Some of those are in fact protected and used to store additional information on the state of the MySQL server, the users connected, ..."
   ]
  },
  {
   "cell_type": "code",
   "execution_count": 6,
   "id": "1f71b747",
   "metadata": {},
   "outputs": [
    {
     "data": {
      "text/plain": [
       "[('information_schema',), ('performance_schema',)]"
      ]
     },
     "execution_count": 6,
     "metadata": {},
     "output_type": "execute_result"
    }
   ],
   "source": [
    "udb = mysql.connector.connect(\n",
    "  user=\"my_user\",\n",
    "  password=\"my_pwd\",\n",
    "  host=\"db\",\n",
    ")\n",
    "\n",
    "udbc = udb.cursor()\n",
    "\n",
    "udbc.execute(\n",
    "\"SHOW DATABASES\"\n",
    ")\n",
    "\n",
    "udbc.fetchall()"
   ]
  },
  {
   "cell_type": "markdown",
   "id": "b10b13ac",
   "metadata": {},
   "source": [
    "#### iPython magic\n",
    "\n",
    "An alternative way to perform queries from Python over a Jupyter-notebook is by using some notebook \"magic\", based on iPython and SQLAlchemy.\n",
    "\n",
    "This is a similar thing to what is usually done to load inline a figure from matplotlib (the `%matplotlib inline` thingy).\n",
    "\n",
    "To instruct iPython to interpret SQL commands, and to connect to the proper DB we have to: \n",
    "1. load the extension for SQL language\n",
    "2. set the environment variable to point to the connection to the DB"
   ]
  },
  {
   "cell_type": "code",
   "execution_count": 7,
   "id": "ba19dac1",
   "metadata": {},
   "outputs": [
    {
     "name": "stdout",
     "output_type": "stream",
     "text": [
      "env: DATABASE_URL=mysql+mysqlconnector://root:root_pwd@db\n"
     ]
    }
   ],
   "source": [
    "%load_ext sql\n",
    "\n",
    "%env DATABASE_URL=mysql+mysqlconnector://root:root_pwd@db"
   ]
  },
  {
   "cell_type": "markdown",
   "id": "f0ccff35",
   "metadata": {},
   "source": [
    "Now, the notebooks cells can perform SQL transactions directly in plain SQL, by starting the cell with `%%sql`.\n",
    "\n",
    "By default, the result is also printed with the `pretty` pandas-like format."
   ]
  },
  {
   "cell_type": "code",
   "execution_count": 8,
   "id": "1e9995eb",
   "metadata": {},
   "outputs": [
    {
     "name": "stdout",
     "output_type": "stream",
     "text": [
      "5 rows affected.\n"
     ]
    },
    {
     "data": {
      "text/html": [
       "<table>\n",
       "    <tr>\n",
       "        <th>Database</th>\n",
       "    </tr>\n",
       "    <tr>\n",
       "        <td>IMDb</td>\n",
       "    </tr>\n",
       "    <tr>\n",
       "        <td>information_schema</td>\n",
       "    </tr>\n",
       "    <tr>\n",
       "        <td>mysql</td>\n",
       "    </tr>\n",
       "    <tr>\n",
       "        <td>performance_schema</td>\n",
       "    </tr>\n",
       "    <tr>\n",
       "        <td>sys</td>\n",
       "    </tr>\n",
       "</table>"
      ],
      "text/plain": [
       "[('IMDb',),\n",
       " ('information_schema',),\n",
       " ('mysql',),\n",
       " ('performance_schema',),\n",
       " ('sys',)]"
      ]
     },
     "execution_count": 8,
     "metadata": {},
     "output_type": "execute_result"
    }
   ],
   "source": [
    "%%sql\n",
    "\n",
    "SHOW DATABASES;"
   ]
  },
  {
   "cell_type": "markdown",
   "id": "b6c9f988",
   "metadata": {},
   "source": [
    "An additional benefit is that a single `%slq` (not a double `%%sql`) can be used to join a SQL query with any Python command"
   ]
  },
  {
   "cell_type": "code",
   "execution_count": 9,
   "id": "2e3eb6c6",
   "metadata": {},
   "outputs": [
    {
     "name": "stdout",
     "output_type": "stream",
     "text": [
      " * mysql+mysqlconnector://root:***@db\n",
      "5 rows affected.\n",
      "+--------------------+\n",
      "|      Database      |\n",
      "+--------------------+\n",
      "|        IMDb        |\n",
      "| information_schema |\n",
      "|       mysql        |\n",
      "| performance_schema |\n",
      "|        sys         |\n",
      "+--------------------+\n"
     ]
    }
   ],
   "source": [
    "my_python_var = %sql SHOW DATABASES\n",
    "\n",
    "print(my_python_var)"
   ]
  },
  {
   "cell_type": "markdown",
   "id": "d3885276",
   "metadata": {},
   "source": [
    "The combination of either of the two pythonic methods can be used to easily redirect the output of DB transactions to exploit all other well-known python modules, e.g. plotting with matplotlib"
   ]
  },
  {
   "cell_type": "code",
   "execution_count": 10,
   "id": "ec00522f",
   "metadata": {},
   "outputs": [
    {
     "data": {
      "image/png": "[encoded data removed]",
      "text/plain": [
       "<Figure size 640x480 with 1 Axes>"
      ]
     },
     "metadata": {},
     "output_type": "display_data"
    }
   ],
   "source": [
    "import matplotlib.pyplot as plt\n",
    "%matplotlib inline\n",
    "\n",
    "plt.hist(my_python_var);\n",
    "plt.xticks(rotation='vertical');"
   ]
  },
  {
   "cell_type": "markdown",
   "id": "651dcb6b",
   "metadata": {},
   "source": [
    "## 02 Database and Table creation"
   ]
  },
  {
   "cell_type": "markdown",
   "id": "045ce129",
   "metadata": {},
   "source": [
    "We have already seen how we inspect the server to see which DBs are present via the command:\n",
    "\n",
    "```mysql\n",
    "SHOW DATABASES;\n",
    "```\n",
    "\n",
    "We can start interacting with a specific DB by selecting which one to use via \n",
    "\n",
    "```mysql\n",
    "USE <DB_NAME>;\n",
    "```\n",
    "\n",
    "If instead we want to create a new DB to work with, we can use the command\n",
    "\n",
    "```mysql\n",
    "CREATE DATABASE <DB_NAME>;\n",
    "```\n",
    "\n",
    "A more complex sintax can be used to create a new DB if and only if no other DB with the same name already exists.\n",
    "\n",
    "```mysql\n",
    "CREATE DATABASE IF NOT EXISTS <DB_NAME>;\n",
    "```\n",
    "\n",
    "If the user has been granted the right to access this DB, it's possible to start investigating the content of the DB in use."
   ]
  },
  {
   "cell_type": "markdown",
   "id": "8c848513",
   "metadata": {},
   "source": [
    "Check if a DB named `my_db` exist, and if not, create one. \n",
    "Then, switch to the new DB to start using it."
   ]
  },
  {
   "cell_type": "code",
   "execution_count": 11,
   "id": "8edbe225",
   "metadata": {},
   "outputs": [
    {
     "name": "stdout",
     "output_type": "stream",
     "text": [
      " * mysql+mysqlconnector://root:***@db\n",
      "1 rows affected.\n"
     ]
    },
    {
     "data": {
      "text/plain": [
       "[]"
      ]
     },
     "execution_count": 11,
     "metadata": {},
     "output_type": "execute_result"
    }
   ],
   "source": [
    "%%sql\n",
    "\n",
    "CREATE DATABASE IF NOT EXISTS my_db;"
   ]
  },
  {
   "cell_type": "code",
   "execution_count": 12,
   "id": "40509cdf",
   "metadata": {},
   "outputs": [
    {
     "name": "stdout",
     "output_type": "stream",
     "text": [
      " * mysql+mysqlconnector://root:***@db\n",
      "5 rows affected.\n"
     ]
    },
    {
     "data": {
      "text/html": [
       "<table>\n",
       "    <tr>\n",
       "        <th>Database</th>\n",
       "    </tr>\n",
       "    <tr>\n",
       "        <td>information_schema</td>\n",
       "    </tr>\n",
       "    <tr>\n",
       "        <td>my_db</td>\n",
       "    </tr>\n",
       "    <tr>\n",
       "        <td>mysql</td>\n",
       "    </tr>\n",
       "    <tr>\n",
       "        <td>performance_schema</td>\n",
       "    </tr>\n",
       "    <tr>\n",
       "        <td>sys</td>\n",
       "    </tr>\n",
       "</table>"
      ],
      "text/plain": [
       "[('information_schema',),\n",
       " ('my_db',),\n",
       " ('mysql',),\n",
       " ('performance_schema',),\n",
       " ('sys',)]"
      ]
     },
     "execution_count": 12,
     "metadata": {},
     "output_type": "execute_result"
    }
   ],
   "source": [
    "%%sql\n",
    "\n",
    "SHOW DATABASES;"
   ]
  },
  {
   "cell_type": "code",
   "execution_count": 13,
   "id": "a88a58af",
   "metadata": {},
   "outputs": [
    {
     "name": "stdout",
     "output_type": "stream",
     "text": [
      " * mysql+mysqlconnector://root:***@db\n",
      "0 rows affected.\n"
     ]
    },
    {
     "data": {
      "text/plain": [
       "[]"
      ]
     },
     "execution_count": 13,
     "metadata": {},
     "output_type": "execute_result"
    }
   ],
   "source": [
    "%%sql\n",
    "\n",
    "USE my_db;"
   ]
  },
  {
   "cell_type": "markdown",
   "id": "01bd56f7",
   "metadata": {},
   "source": [
    "All tables contained in the DB are shown in a similar way to what used to show all DBs on the server:\n",
    "\n",
    "```mysql\n",
    "SHOW TABLES;\n",
    "```\n",
    "\n",
    "_NB_: we are inspecting the content of a specific DB (the one selected with `USE <DB_NAME>`)"
   ]
  },
  {
   "cell_type": "code",
   "execution_count": 14,
   "id": "bae6e5c7",
   "metadata": {},
   "outputs": [
    {
     "name": "stdout",
     "output_type": "stream",
     "text": [
      " * mysql+mysqlconnector://root:***@db\n",
      "0 rows affected.\n"
     ]
    },
    {
     "data": {
      "text/html": [
       "<table>\n",
       "    <tr>\n",
       "        <th>Tables_in_my_db</th>\n",
       "    </tr>\n",
       "</table>"
      ],
      "text/plain": [
       "[]"
      ]
     },
     "execution_count": 14,
     "metadata": {},
     "output_type": "execute_result"
    }
   ],
   "source": [
    "%%sql \n",
    "\n",
    "SHOW TABLES;"
   ]
  },
  {
   "cell_type": "markdown",
   "id": "c27b3ca7",
   "metadata": {},
   "source": [
    "The analogous pythonic way to execute the same list of commands (using the mysql.connector driver) is the following.\n",
    "\n",
    "_NB_: This time, as we are not retrieving results from the server but we are instead creating a DB, we have to specify that we want to _commit_ a change to the server; "
   ]
  },
  {
   "cell_type": "code",
   "execution_count": 15,
   "id": "98b95e6e",
   "metadata": {},
   "outputs": [],
   "source": [
    "# defining the sql command line\n",
    "sql_ = \"CREATE DATABASE IF NOT EXISTS my_db;\"\n",
    "\n",
    "# instructing the cursor to execute it\n",
    "dbc.execute(sql_)\n",
    "\n",
    "# in this case the result of the sql transaction is not to return a list of items \n",
    "# it is instead a change in the DB structure\n",
    "# therefore, for the change to have effect, a the change is to be committed to the DB\n",
    "db.commit() "
   ]
  },
  {
   "cell_type": "markdown",
   "id": "5ece7e17",
   "metadata": {},
   "source": [
    "All other commands, `USE` and `SHOW`, do not require any change to be committed, therefore we can simply issue them via the cursor."
   ]
  },
  {
   "cell_type": "code",
   "execution_count": 16,
   "id": "0d96157a",
   "metadata": {},
   "outputs": [
    {
     "data": {
      "text/plain": [
       "[]"
      ]
     },
     "execution_count": 16,
     "metadata": {},
     "output_type": "execute_result"
    }
   ],
   "source": [
    "dbc.execute(\"USE my_db\")\n",
    "\n",
    "dbc.execute(\"SHOW TABLES\")\n",
    "dbc.fetchall()"
   ]
  },
  {
   "cell_type": "markdown",
   "id": "17f8781c",
   "metadata": {},
   "source": [
    "So far the DB is empty, so let's use the same lines presented in the slides to create a dummy `Users` table.\n",
    "\n",
    "Any table can then be inspected to check its schema by listing all attributes.\n",
    "\n",
    "1. Create the `Users` table declaring the schema by defining each attributes\n",
    "2. Check if the table has been created on the DB via a `SHOW` command\n",
    "3. Check the Table schema by issuing `DESCRIBE <TABLE_NAME>`"
   ]
  },
  {
   "cell_type": "code",
   "execution_count": 17,
   "id": "db09b101",
   "metadata": {},
   "outputs": [
    {
     "name": "stdout",
     "output_type": "stream",
     "text": [
      " * mysql+mysqlconnector://root:***@db\n",
      "0 rows affected.\n"
     ]
    },
    {
     "data": {
      "text/plain": [
       "[]"
      ]
     },
     "execution_count": 17,
     "metadata": {},
     "output_type": "execute_result"
    }
   ],
   "source": [
    "%%sql\n",
    "\n",
    "CREATE TABLE Users (\n",
    "    UserID varchar(30),\n",
    "    BadgeNum int(16),\n",
    "    FirstName varchar(255),\n",
    "    LastName varchar(255),\n",
    "    Age int,\n",
    "    OtherAttr float\n",
    ");"
   ]
  },
  {
   "cell_type": "code",
   "execution_count": 18,
   "id": "d9c98a2c",
   "metadata": {
    "scrolled": true
   },
   "outputs": [
    {
     "name": "stdout",
     "output_type": "stream",
     "text": [
      " * mysql+mysqlconnector://root:***@db\n",
      "1 rows affected.\n"
     ]
    },
    {
     "data": {
      "text/html": [
       "<table>\n",
       "    <tr>\n",
       "        <th>Tables_in_my_db</th>\n",
       "    </tr>\n",
       "    <tr>\n",
       "        <td>Users</td>\n",
       "    </tr>\n",
       "</table>"
      ],
      "text/plain": [
       "[('Users',)]"
      ]
     },
     "execution_count": 18,
     "metadata": {},
     "output_type": "execute_result"
    }
   ],
   "source": [
    "%%sql \n",
    "\n",
    "SHOW TABLES;"
   ]
  },
  {
   "cell_type": "code",
   "execution_count": 19,
   "id": "89052ab1",
   "metadata": {},
   "outputs": [
    {
     "name": "stdout",
     "output_type": "stream",
     "text": [
      " * mysql+mysqlconnector://root:***@db\n",
      "6 rows affected.\n"
     ]
    },
    {
     "data": {
      "text/html": [
       "<table>\n",
       "    <tr>\n",
       "        <th>Field</th>\n",
       "        <th>Type</th>\n",
       "        <th>Null</th>\n",
       "        <th>Key</th>\n",
       "        <th>Default</th>\n",
       "        <th>Extra</th>\n",
       "    </tr>\n",
       "    <tr>\n",
       "        <td>UserID</td>\n",
       "        <td>b&#x27;varchar(30)&#x27;</td>\n",
       "        <td>YES</td>\n",
       "        <td></td>\n",
       "        <td>None</td>\n",
       "        <td></td>\n",
       "    </tr>\n",
       "    <tr>\n",
       "        <td>BadgeNum</td>\n",
       "        <td>b&#x27;int&#x27;</td>\n",
       "        <td>YES</td>\n",
       "        <td></td>\n",
       "        <td>None</td>\n",
       "        <td></td>\n",
       "    </tr>\n",
       "    <tr>\n",
       "        <td>FirstName</td>\n",
       "        <td>b&#x27;varchar(255)&#x27;</td>\n",
       "        <td>YES</td>\n",
       "        <td></td>\n",
       "        <td>None</td>\n",
       "        <td></td>\n",
       "    </tr>\n",
       "    <tr>\n",
       "        <td>LastName</td>\n",
       "        <td>b&#x27;varchar(255)&#x27;</td>\n",
       "        <td>YES</td>\n",
       "        <td></td>\n",
       "        <td>None</td>\n",
       "        <td></td>\n",
       "    </tr>\n",
       "    <tr>\n",
       "        <td>Age</td>\n",
       "        <td>b&#x27;int&#x27;</td>\n",
       "        <td>YES</td>\n",
       "        <td></td>\n",
       "        <td>None</td>\n",
       "        <td></td>\n",
       "    </tr>\n",
       "    <tr>\n",
       "        <td>OtherAttr</td>\n",
       "        <td>b&#x27;float&#x27;</td>\n",
       "        <td>YES</td>\n",
       "        <td></td>\n",
       "        <td>None</td>\n",
       "        <td></td>\n",
       "    </tr>\n",
       "</table>"
      ],
      "text/plain": [
       "[('UserID', b'varchar(30)', 'YES', '', None, ''),\n",
       " ('BadgeNum', b'int', 'YES', '', None, ''),\n",
       " ('FirstName', b'varchar(255)', 'YES', '', None, ''),\n",
       " ('LastName', b'varchar(255)', 'YES', '', None, ''),\n",
       " ('Age', b'int', 'YES', '', None, ''),\n",
       " ('OtherAttr', b'float', 'YES', '', None, '')]"
      ]
     },
     "execution_count": 19,
     "metadata": {},
     "output_type": "execute_result"
    }
   ],
   "source": [
    "%%sql\n",
    "\n",
    "DESCRIBE Users;"
   ]
  },
  {
   "cell_type": "markdown",
   "id": "959376c7",
   "metadata": {},
   "source": [
    "Following on the lines of the previous examples, perform the same transactions with the `mysql.connector` driver.\n",
    "\n",
    "This time, as the `Users` table already exists, we can create a `Users_py` table.\n",
    "\n",
    "Remember:\n",
    "- Use the DB Cursor to execute the transactions\n",
    "- Transaction that change the content of the DB have to be _committed_ to the DB\n",
    "- Transactions returing the content of the DB host their results _in the cursor_"
   ]
  },
  {
   "cell_type": "code",
   "execution_count": 20,
   "id": "a9d01087",
   "metadata": {},
   "outputs": [],
   "source": [
    "dbc.reset()"
   ]
  },
  {
   "cell_type": "code",
   "execution_count": 21,
   "id": "2159b935",
   "metadata": {},
   "outputs": [],
   "source": [
    "# create table\n",
    "sql_ = \"CREATE TABLE Users_py (\\\n",
    "    UserID varchar(30),\\\n",
    "    BadgeNum int(16),\\\n",
    "    FirstName varchar(255),\\\n",
    "    LastName varchar(255),\\\n",
    "    Age int,\\\n",
    "    OtherAttr float\\\n",
    ");\"\n",
    "\n",
    "dbc.execute(sql_)\n",
    "\n",
    "db.commit()"
   ]
  },
  {
   "cell_type": "code",
   "execution_count": 22,
   "id": "4cb9e6ef",
   "metadata": {},
   "outputs": [],
   "source": [
    "dbc.execute(\"SHOW TABLES\")"
   ]
  },
  {
   "cell_type": "code",
   "execution_count": 23,
   "id": "18992578",
   "metadata": {},
   "outputs": [
    {
     "data": {
      "text/plain": [
       "[('Users',), ('Users_py',)]"
      ]
     },
     "execution_count": 23,
     "metadata": {},
     "output_type": "execute_result"
    }
   ],
   "source": [
    "dbc.fetchall()"
   ]
  },
  {
   "cell_type": "code",
   "execution_count": 24,
   "id": "21233ea2",
   "metadata": {},
   "outputs": [],
   "source": [
    "# describe table\n",
    "dbc.execute(\"DESCRIBE Users_py\")"
   ]
  },
  {
   "cell_type": "code",
   "execution_count": 25,
   "id": "aa0dde33",
   "metadata": {},
   "outputs": [
    {
     "data": {
      "text/plain": [
       "[('UserID', b'varchar(30)', 'YES', '', None, ''),\n",
       " ('BadgeNum', b'int', 'YES', '', None, ''),\n",
       " ('FirstName', b'varchar(255)', 'YES', '', None, ''),\n",
       " ('LastName', b'varchar(255)', 'YES', '', None, ''),\n",
       " ('Age', b'int', 'YES', '', None, ''),\n",
       " ('OtherAttr', b'float', 'YES', '', None, '')]"
      ]
     },
     "execution_count": 25,
     "metadata": {},
     "output_type": "execute_result"
    }
   ],
   "source": [
    "dbc.fetchall()"
   ]
  },
  {
   "cell_type": "markdown",
   "id": "362814c1",
   "metadata": {},
   "source": [
    "## 03 Declaring contstraints and altering tables"
   ]
  },
  {
   "cell_type": "markdown",
   "id": "c0443720",
   "metadata": {},
   "source": [
    "Let's clean up all existing tables in our database.\n",
    "\n",
    "To remove an existing table from a DB we can issue the instruction:\n",
    "    \n",
    "```mysql\n",
    "DROP TABLE IF EXISTS <NAME OF YOUR TABLE>;\n",
    "```\n",
    "\n",
    "Be ***extremely careful*** when doing this... Dropping a Table means losing all records from that table, and severing all connections with other tables based on foreign keys. The entire DB might become unusable!\n"
   ]
  },
  {
   "cell_type": "code",
   "execution_count": 26,
   "id": "04c9db37",
   "metadata": {},
   "outputs": [
    {
     "name": "stdout",
     "output_type": "stream",
     "text": [
      " * mysql+mysqlconnector://root:***@db\n",
      "0 rows affected.\n"
     ]
    },
    {
     "data": {
      "text/plain": [
       "[]"
      ]
     },
     "execution_count": 26,
     "metadata": {},
     "output_type": "execute_result"
    }
   ],
   "source": [
    "%%sql \n",
    "\n",
    "DROP TABLE IF EXISTS Users;"
   ]
  },
  {
   "cell_type": "markdown",
   "id": "710dad35",
   "metadata": {},
   "source": [
    "Let's also drop the `Users_py` table using the Python connetor"
   ]
  },
  {
   "cell_type": "code",
   "execution_count": 27,
   "id": "9e69859f",
   "metadata": {
    "scrolled": true
   },
   "outputs": [],
   "source": [
    "dbc.execute(\"DROP TABLE IF EXISTS Users_py\")\n",
    "db.commit()"
   ]
  },
  {
   "cell_type": "markdown",
   "id": "6e686164",
   "metadata": {},
   "source": [
    "Create a new `products` table with the following schema:\n",
    "\n",
    "| Attribute | Type | Extra info | Constraint | \n",
    "| --- | --- | --- |--- |\n",
    "| productID   | Integer | | NOT NULL AUTO_INCREMENT |\n",
    "| productName | String | Max length 30 | DEFAULT \"\" |\n",
    "| unitPrice   | Float | | NOT NULL DEFAULT 99999.99|\n",
    "| unitsInStock | Integer | Unsigned | NOT NULL DEFAULT 0 |\n",
    "\n",
    "`productID` will also be our `PRIMARY KEY`\n",
    "\n",
    "This can be declared either inline or at the end of the table definition:\n",
    "\n",
    "```mysql\n",
    "productID INT NOT NULL UNIQUE AUTO_INCREMENT PRIMARY KEY\n",
    "```\n",
    "\n",
    "or \n",
    "\n",
    "```mysql\n",
    "productID INT NOT NULL UNIQUE AUTO_INCREMENT\n",
    "...\n",
    "PRIMARY KEY (productID)\n",
    "```"
   ]
  },
  {
   "cell_type": "code",
   "execution_count": 28,
   "id": "76607839",
   "metadata": {},
   "outputs": [
    {
     "name": "stdout",
     "output_type": "stream",
     "text": [
      " * mysql+mysqlconnector://root:***@db\n",
      "0 rows affected.\n"
     ]
    },
    {
     "data": {
      "text/plain": [
       "[]"
      ]
     },
     "execution_count": 28,
     "metadata": {},
     "output_type": "execute_result"
    }
   ],
   "source": [
    "%%sql\n",
    "\n",
    "CREATE TABLE IF NOT EXISTS products (\n",
    "         productID    INT          NOT NULL UNIQUE AUTO_INCREMENT PRIMARY KEY,\n",
    "         productName  VARCHAR(30)  DEFAULT \"\" ,\n",
    "         unitPrice    FLOAT        NOT NULL DEFAULT 99999.99,\n",
    "         unitsInStock INT UNSIGNED NOT NULL DEFAULT 0\n",
    ");"
   ]
  },
  {
   "cell_type": "code",
   "execution_count": 29,
   "id": "c15a1cad",
   "metadata": {
    "scrolled": true
   },
   "outputs": [
    {
     "name": "stdout",
     "output_type": "stream",
     "text": [
      " * mysql+mysqlconnector://root:***@db\n",
      "4 rows affected.\n"
     ]
    },
    {
     "data": {
      "text/html": [
       "<table>\n",
       "    <tr>\n",
       "        <th>Field</th>\n",
       "        <th>Type</th>\n",
       "        <th>Null</th>\n",
       "        <th>Key</th>\n",
       "        <th>Default</th>\n",
       "        <th>Extra</th>\n",
       "    </tr>\n",
       "    <tr>\n",
       "        <td>productID</td>\n",
       "        <td>b&#x27;int&#x27;</td>\n",
       "        <td>NO</td>\n",
       "        <td>PRI</td>\n",
       "        <td>None</td>\n",
       "        <td>auto_increment</td>\n",
       "    </tr>\n",
       "    <tr>\n",
       "        <td>productName</td>\n",
       "        <td>b&#x27;varchar(30)&#x27;</td>\n",
       "        <td>YES</td>\n",
       "        <td></td>\n",
       "        <td>b&#x27;&#x27;</td>\n",
       "        <td></td>\n",
       "    </tr>\n",
       "    <tr>\n",
       "        <td>unitPrice</td>\n",
       "        <td>b&#x27;float&#x27;</td>\n",
       "        <td>NO</td>\n",
       "        <td></td>\n",
       "        <td>b&#x27;100000&#x27;</td>\n",
       "        <td></td>\n",
       "    </tr>\n",
       "    <tr>\n",
       "        <td>unitsInStock</td>\n",
       "        <td>b&#x27;int unsigned&#x27;</td>\n",
       "        <td>NO</td>\n",
       "        <td></td>\n",
       "        <td>b&#x27;0&#x27;</td>\n",
       "        <td></td>\n",
       "    </tr>\n",
       "</table>"
      ],
      "text/plain": [
       "[('productID', b'int', 'NO', 'PRI', None, 'auto_increment'),\n",
       " ('productName', b'varchar(30)', 'YES', '', b'', ''),\n",
       " ('unitPrice', b'float', 'NO', '', b'100000', ''),\n",
       " ('unitsInStock', b'int unsigned', 'NO', '', b'0', '')]"
      ]
     },
     "execution_count": 29,
     "metadata": {},
     "output_type": "execute_result"
    }
   ],
   "source": [
    "%%sql\n",
    "\n",
    "DESCRIBE products;"
   ]
  },
  {
   "cell_type": "markdown",
   "id": "d6603107",
   "metadata": {},
   "source": [
    "The table does not contain any constraint, default values, or keys.\n",
    "\n",
    "A table can be altered by adding/removing Attributes, as well as by adding constraints.\n",
    "\n",
    "Let's first add a new attribute to the table:\n",
    "\n",
    "| Attribute | Type | Extra info | Constraint | \n",
    "| --- | --- | --- |--- |\n",
    "| productID   | Integer | | NOT NULL AUTO_INCREMENT |\n",
    "| productName | String | Max length 30 | DEFAULT \"\" |\n",
    "| unitPrice   | Float | | NOT NULL DEFAULT 99999.99|\n",
    "| unitsInStock | Integer | Unsigned | NOT NULL DEFAULT 0 |\n",
    "| **isDiscontinued**  | **Bool** | | NOT NULL |\n",
    "\n",
    "To alter a table and create a new column we can act on it with:\n",
    "\n",
    "```mysql\n",
    "ALTER TABLE <THE TABLE>\n",
    "ADD COLUMN <NEW COL> <THE NEW ATTRIBUTE DECLARATION>;\n",
    "```\n"
   ]
  },
  {
   "cell_type": "markdown",
   "id": "d0dda2e9",
   "metadata": {},
   "source": [
    "Alter the `products` table and add the `isDiscontinued` attribute"
   ]
  },
  {
   "cell_type": "code",
   "execution_count": 30,
   "id": "56c92834",
   "metadata": {},
   "outputs": [
    {
     "name": "stdout",
     "output_type": "stream",
     "text": [
      " * mysql+mysqlconnector://root:***@db\n",
      "0 rows affected.\n"
     ]
    },
    {
     "data": {
      "text/plain": [
       "[]"
      ]
     },
     "execution_count": 30,
     "metadata": {},
     "output_type": "execute_result"
    }
   ],
   "source": [
    "%%sql\n",
    "\n",
    "ALTER TABLE products\n",
    "ADD COLUMN isDiscontinued BOOL NOT NULL;"
   ]
  },
  {
   "cell_type": "code",
   "execution_count": 31,
   "id": "1898ced9",
   "metadata": {},
   "outputs": [
    {
     "name": "stdout",
     "output_type": "stream",
     "text": [
      " * mysql+mysqlconnector://root:***@db\n",
      "5 rows affected.\n"
     ]
    },
    {
     "data": {
      "text/html": [
       "<table>\n",
       "    <tr>\n",
       "        <th>Field</th>\n",
       "        <th>Type</th>\n",
       "        <th>Null</th>\n",
       "        <th>Key</th>\n",
       "        <th>Default</th>\n",
       "        <th>Extra</th>\n",
       "    </tr>\n",
       "    <tr>\n",
       "        <td>productID</td>\n",
       "        <td>b&#x27;int&#x27;</td>\n",
       "        <td>NO</td>\n",
       "        <td>PRI</td>\n",
       "        <td>None</td>\n",
       "        <td>auto_increment</td>\n",
       "    </tr>\n",
       "    <tr>\n",
       "        <td>productName</td>\n",
       "        <td>b&#x27;varchar(30)&#x27;</td>\n",
       "        <td>YES</td>\n",
       "        <td></td>\n",
       "        <td>b&#x27;&#x27;</td>\n",
       "        <td></td>\n",
       "    </tr>\n",
       "    <tr>\n",
       "        <td>unitPrice</td>\n",
       "        <td>b&#x27;float&#x27;</td>\n",
       "        <td>NO</td>\n",
       "        <td></td>\n",
       "        <td>b&#x27;100000&#x27;</td>\n",
       "        <td></td>\n",
       "    </tr>\n",
       "    <tr>\n",
       "        <td>unitsInStock</td>\n",
       "        <td>b&#x27;int unsigned&#x27;</td>\n",
       "        <td>NO</td>\n",
       "        <td></td>\n",
       "        <td>b&#x27;0&#x27;</td>\n",
       "        <td></td>\n",
       "    </tr>\n",
       "    <tr>\n",
       "        <td>isDiscontinued</td>\n",
       "        <td>b&#x27;tinyint(1)&#x27;</td>\n",
       "        <td>NO</td>\n",
       "        <td></td>\n",
       "        <td>None</td>\n",
       "        <td></td>\n",
       "    </tr>\n",
       "</table>"
      ],
      "text/plain": [
       "[('productID', b'int', 'NO', 'PRI', None, 'auto_increment'),\n",
       " ('productName', b'varchar(30)', 'YES', '', b'', ''),\n",
       " ('unitPrice', b'float', 'NO', '', b'100000', ''),\n",
       " ('unitsInStock', b'int unsigned', 'NO', '', b'0', ''),\n",
       " ('isDiscontinued', b'tinyint(1)', 'NO', '', None, '')]"
      ]
     },
     "execution_count": 31,
     "metadata": {},
     "output_type": "execute_result"
    }
   ],
   "source": [
    "%%sql \n",
    "\n",
    "DESCRIBE products;"
   ]
  },
  {
   "cell_type": "markdown",
   "id": "fb44152a",
   "metadata": {},
   "source": [
    "`isDiscontinued` does however not contain any meaningful constraint or default value.\n",
    "Let's consider `0` as a good default value:\n",
    "\n",
    "| Attribute | Type | Extra info | Constraint | \n",
    "| --- | --- | --- |--- |\n",
    "| productID   | Integer | | NOT NULL AUTO_INCREMENT |\n",
    "| productName | String | Max length 30 | DEFAULT \"\" |\n",
    "| unitPrice   | Float | | NOT NULL DEFAULT 99999.99|\n",
    "| unitsInStock | Integer | Unsigned | NOT NULL DEFAULT 0 |\n",
    "| isDiscontinued  | Bool | | NOT NULL **DEFAULT 0** |\n",
    "\n",
    "\n",
    "We can use the same `ALTER TABLE` instruction to do this:\n",
    "    \n",
    "```mysql\n",
    "ALTER TABLE <THE TABLE>\n",
    "ALTER <ATTRIBUTE> SET DEFAULT <NEW DEFAULT>;\n",
    "```"
   ]
  },
  {
   "cell_type": "code",
   "execution_count": 32,
   "id": "588dca8b",
   "metadata": {},
   "outputs": [
    {
     "name": "stdout",
     "output_type": "stream",
     "text": [
      " * mysql+mysqlconnector://root:***@db\n",
      "0 rows affected.\n"
     ]
    },
    {
     "data": {
      "text/plain": [
       "[]"
      ]
     },
     "execution_count": 32,
     "metadata": {},
     "output_type": "execute_result"
    }
   ],
   "source": [
    "%%sql\n",
    "\n",
    "ALTER TABLE products\n",
    "ALTER isDiscontinued SET DEFAULT 0;"
   ]
  },
  {
   "cell_type": "code",
   "execution_count": 33,
   "id": "93517bd8",
   "metadata": {},
   "outputs": [
    {
     "name": "stdout",
     "output_type": "stream",
     "text": [
      " * mysql+mysqlconnector://root:***@db\n",
      "5 rows affected.\n"
     ]
    },
    {
     "data": {
      "text/html": [
       "<table>\n",
       "    <tr>\n",
       "        <th>Field</th>\n",
       "        <th>Type</th>\n",
       "        <th>Null</th>\n",
       "        <th>Key</th>\n",
       "        <th>Default</th>\n",
       "        <th>Extra</th>\n",
       "    </tr>\n",
       "    <tr>\n",
       "        <td>productID</td>\n",
       "        <td>b&#x27;int&#x27;</td>\n",
       "        <td>NO</td>\n",
       "        <td>PRI</td>\n",
       "        <td>None</td>\n",
       "        <td>auto_increment</td>\n",
       "    </tr>\n",
       "    <tr>\n",
       "        <td>productName</td>\n",
       "        <td>b&#x27;varchar(30)&#x27;</td>\n",
       "        <td>YES</td>\n",
       "        <td></td>\n",
       "        <td>b&#x27;&#x27;</td>\n",
       "        <td></td>\n",
       "    </tr>\n",
       "    <tr>\n",
       "        <td>unitPrice</td>\n",
       "        <td>b&#x27;float&#x27;</td>\n",
       "        <td>NO</td>\n",
       "        <td></td>\n",
       "        <td>b&#x27;100000&#x27;</td>\n",
       "        <td></td>\n",
       "    </tr>\n",
       "    <tr>\n",
       "        <td>unitsInStock</td>\n",
       "        <td>b&#x27;int unsigned&#x27;</td>\n",
       "        <td>NO</td>\n",
       "        <td></td>\n",
       "        <td>b&#x27;0&#x27;</td>\n",
       "        <td></td>\n",
       "    </tr>\n",
       "    <tr>\n",
       "        <td>isDiscontinued</td>\n",
       "        <td>b&#x27;tinyint(1)&#x27;</td>\n",
       "        <td>NO</td>\n",
       "        <td></td>\n",
       "        <td>b&#x27;0&#x27;</td>\n",
       "        <td></td>\n",
       "    </tr>\n",
       "</table>"
      ],
      "text/plain": [
       "[('productID', b'int', 'NO', 'PRI', None, 'auto_increment'),\n",
       " ('productName', b'varchar(30)', 'YES', '', b'', ''),\n",
       " ('unitPrice', b'float', 'NO', '', b'100000', ''),\n",
       " ('unitsInStock', b'int unsigned', 'NO', '', b'0', ''),\n",
       " ('isDiscontinued', b'tinyint(1)', 'NO', '', b'0', '')]"
      ]
     },
     "execution_count": 33,
     "metadata": {},
     "output_type": "execute_result"
    }
   ],
   "source": [
    "%%sql \n",
    "\n",
    "DESCRIBE products;"
   ]
  },
  {
   "cell_type": "markdown",
   "id": "1500dc54",
   "metadata": {},
   "source": [
    "We can also impose `productName` to be not-null altering the table one final time.\n",
    "\n",
    "| Attribute | Type | Extra info | Constraint | \n",
    "| --- | --- | --- |--- |\n",
    "| productID   | Integer | | NOT NULL AUTO_INCREMENT |\n",
    "| productName | String | Max length 30 | **NOT NULL** DEFAULT \"\" |\n",
    "| unitPrice   | Float | | NOT NULL DEFAULT 99999.99|\n",
    "| unitsInStock | Integer | Unsigned | NOT NULL DEFAULT 0 |\n",
    "| isDiscontinued  | Bool | | NOT NULL DEFAULT 0 |\n",
    "\n",
    "\n",
    "In MySQL, this implies to modify the entire attribute, thus the Type will have to be re-stated:\n",
    "    \n",
    "```mysql\n",
    "ALTER TABLE <THE TABLE>\n",
    "MODIFY <ATTRIBUTE> <ATTRIBUTE TYPE> <CONSTRAINT>;\n",
    "```"
   ]
  },
  {
   "cell_type": "code",
   "execution_count": 34,
   "id": "ab4bb7ea",
   "metadata": {},
   "outputs": [
    {
     "name": "stdout",
     "output_type": "stream",
     "text": [
      " * mysql+mysqlconnector://root:***@db\n",
      "0 rows affected.\n"
     ]
    },
    {
     "data": {
      "text/plain": [
       "[]"
      ]
     },
     "execution_count": 34,
     "metadata": {},
     "output_type": "execute_result"
    }
   ],
   "source": [
    "%%sql\n",
    "\n",
    "ALTER TABLE products\n",
    "MODIFY productName VARCHAR(30) NOT NULL DEFAULT \"\";"
   ]
  },
  {
   "cell_type": "code",
   "execution_count": 35,
   "id": "0a7aeef5",
   "metadata": {},
   "outputs": [
    {
     "name": "stdout",
     "output_type": "stream",
     "text": [
      " * mysql+mysqlconnector://root:***@db\n",
      "5 rows affected.\n"
     ]
    },
    {
     "data": {
      "text/html": [
       "<table>\n",
       "    <tr>\n",
       "        <th>Field</th>\n",
       "        <th>Type</th>\n",
       "        <th>Null</th>\n",
       "        <th>Key</th>\n",
       "        <th>Default</th>\n",
       "        <th>Extra</th>\n",
       "    </tr>\n",
       "    <tr>\n",
       "        <td>productID</td>\n",
       "        <td>b&#x27;int&#x27;</td>\n",
       "        <td>NO</td>\n",
       "        <td>PRI</td>\n",
       "        <td>None</td>\n",
       "        <td>auto_increment</td>\n",
       "    </tr>\n",
       "    <tr>\n",
       "        <td>productName</td>\n",
       "        <td>b&#x27;varchar(30)&#x27;</td>\n",
       "        <td>NO</td>\n",
       "        <td></td>\n",
       "        <td>b&#x27;&#x27;</td>\n",
       "        <td></td>\n",
       "    </tr>\n",
       "    <tr>\n",
       "        <td>unitPrice</td>\n",
       "        <td>b&#x27;float&#x27;</td>\n",
       "        <td>NO</td>\n",
       "        <td></td>\n",
       "        <td>b&#x27;100000&#x27;</td>\n",
       "        <td></td>\n",
       "    </tr>\n",
       "    <tr>\n",
       "        <td>unitsInStock</td>\n",
       "        <td>b&#x27;int unsigned&#x27;</td>\n",
       "        <td>NO</td>\n",
       "        <td></td>\n",
       "        <td>b&#x27;0&#x27;</td>\n",
       "        <td></td>\n",
       "    </tr>\n",
       "    <tr>\n",
       "        <td>isDiscontinued</td>\n",
       "        <td>b&#x27;tinyint(1)&#x27;</td>\n",
       "        <td>NO</td>\n",
       "        <td></td>\n",
       "        <td>b&#x27;0&#x27;</td>\n",
       "        <td></td>\n",
       "    </tr>\n",
       "</table>"
      ],
      "text/plain": [
       "[('productID', b'int', 'NO', 'PRI', None, 'auto_increment'),\n",
       " ('productName', b'varchar(30)', 'NO', '', b'', ''),\n",
       " ('unitPrice', b'float', 'NO', '', b'100000', ''),\n",
       " ('unitsInStock', b'int unsigned', 'NO', '', b'0', ''),\n",
       " ('isDiscontinued', b'tinyint(1)', 'NO', '', b'0', '')]"
      ]
     },
     "execution_count": 35,
     "metadata": {},
     "output_type": "execute_result"
    }
   ],
   "source": [
    "%%sql\n",
    "\n",
    "DESCRIBE products;"
   ]
  },
  {
   "cell_type": "markdown",
   "id": "4f0cc301",
   "metadata": {},
   "source": [
    "Let's now create a `suppliers` table with the following description:\n",
    "\n",
    "| Attribute | Type | Extra info | Constraint | \n",
    "| --- | --- | --- |--- |\n",
    "| supplierID   | Integer | | NOT NULL AUTO_INCREMENT |\n",
    "| supplierName | String | Max length 30 | NOT NULL DEFAULT \"\" |\n",
    "| countryCode   | Char | Length 3 | NOT NULL |\n",
    "| email   | String | Max length 30  | NOT NULL |\n",
    "\n",
    "`supplierID` is going to act as the table's primary key in this case."
   ]
  },
  {
   "cell_type": "code",
   "execution_count": 36,
   "id": "6148bc2a",
   "metadata": {},
   "outputs": [
    {
     "name": "stdout",
     "output_type": "stream",
     "text": [
      " * mysql+mysqlconnector://root:***@db\n",
      "0 rows affected.\n"
     ]
    },
    {
     "data": {
      "text/plain": [
       "[]"
      ]
     },
     "execution_count": 36,
     "metadata": {},
     "output_type": "execute_result"
    }
   ],
   "source": [
    "%%sql\n",
    "\n",
    "CREATE TABLE suppliers (\n",
    "    supplierID      INT NOT NULL UNIQUE AUTO_INCREMENT PRIMARY KEY,\n",
    "    supplierName    VARCHAR(30) NOT NULL DEFAULT \"\",\n",
    "    countryCode     CHAR(3) NOT NULL,\n",
    "    email           VARCHAR(30) NOT NULL\n",
    ");\n"
   ]
  },
  {
   "cell_type": "code",
   "execution_count": 37,
   "id": "be2bcf16",
   "metadata": {},
   "outputs": [
    {
     "name": "stdout",
     "output_type": "stream",
     "text": [
      " * mysql+mysqlconnector://root:***@db\n",
      "4 rows affected.\n"
     ]
    },
    {
     "data": {
      "text/html": [
       "<table>\n",
       "    <tr>\n",
       "        <th>Field</th>\n",
       "        <th>Type</th>\n",
       "        <th>Null</th>\n",
       "        <th>Key</th>\n",
       "        <th>Default</th>\n",
       "        <th>Extra</th>\n",
       "    </tr>\n",
       "    <tr>\n",
       "        <td>supplierID</td>\n",
       "        <td>b&#x27;int&#x27;</td>\n",
       "        <td>NO</td>\n",
       "        <td>PRI</td>\n",
       "        <td>None</td>\n",
       "        <td>auto_increment</td>\n",
       "    </tr>\n",
       "    <tr>\n",
       "        <td>supplierName</td>\n",
       "        <td>b&#x27;varchar(30)&#x27;</td>\n",
       "        <td>NO</td>\n",
       "        <td></td>\n",
       "        <td>b&#x27;&#x27;</td>\n",
       "        <td></td>\n",
       "    </tr>\n",
       "    <tr>\n",
       "        <td>countryCode</td>\n",
       "        <td>b&#x27;char(3)&#x27;</td>\n",
       "        <td>NO</td>\n",
       "        <td></td>\n",
       "        <td>None</td>\n",
       "        <td></td>\n",
       "    </tr>\n",
       "    <tr>\n",
       "        <td>email</td>\n",
       "        <td>b&#x27;varchar(30)&#x27;</td>\n",
       "        <td>NO</td>\n",
       "        <td></td>\n",
       "        <td>None</td>\n",
       "        <td></td>\n",
       "    </tr>\n",
       "</table>"
      ],
      "text/plain": [
       "[('supplierID', b'int', 'NO', 'PRI', None, 'auto_increment'),\n",
       " ('supplierName', b'varchar(30)', 'NO', '', b'', ''),\n",
       " ('countryCode', b'char(3)', 'NO', '', None, ''),\n",
       " ('email', b'varchar(30)', 'NO', '', None, '')]"
      ]
     },
     "execution_count": 37,
     "metadata": {},
     "output_type": "execute_result"
    }
   ],
   "source": [
    "%%sql\n",
    "\n",
    "DESCRIBE suppliers;"
   ]
  },
  {
   "cell_type": "markdown",
   "id": "20235130",
   "metadata": {},
   "source": [
    "Alter the table to include a default \"ITA\" for `countryCode`"
   ]
  },
  {
   "cell_type": "code",
   "execution_count": 38,
   "id": "b281a56f",
   "metadata": {},
   "outputs": [
    {
     "name": "stdout",
     "output_type": "stream",
     "text": [
      " * mysql+mysqlconnector://root:***@db\n",
      "0 rows affected.\n"
     ]
    },
    {
     "data": {
      "text/plain": [
       "[]"
      ]
     },
     "execution_count": 38,
     "metadata": {},
     "output_type": "execute_result"
    }
   ],
   "source": [
    "%%sql \n",
    "\n",
    "ALTER TABLE suppliers \n",
    "ALTER countryCode SET DEFAULT \"ITA\";"
   ]
  },
  {
   "cell_type": "code",
   "execution_count": 39,
   "id": "1429a26a",
   "metadata": {},
   "outputs": [
    {
     "name": "stdout",
     "output_type": "stream",
     "text": [
      " * mysql+mysqlconnector://root:***@db\n",
      "4 rows affected.\n"
     ]
    },
    {
     "data": {
      "text/html": [
       "<table>\n",
       "    <tr>\n",
       "        <th>Field</th>\n",
       "        <th>Type</th>\n",
       "        <th>Null</th>\n",
       "        <th>Key</th>\n",
       "        <th>Default</th>\n",
       "        <th>Extra</th>\n",
       "    </tr>\n",
       "    <tr>\n",
       "        <td>supplierID</td>\n",
       "        <td>b&#x27;int&#x27;</td>\n",
       "        <td>NO</td>\n",
       "        <td>PRI</td>\n",
       "        <td>None</td>\n",
       "        <td>auto_increment</td>\n",
       "    </tr>\n",
       "    <tr>\n",
       "        <td>supplierName</td>\n",
       "        <td>b&#x27;varchar(30)&#x27;</td>\n",
       "        <td>NO</td>\n",
       "        <td></td>\n",
       "        <td>b&#x27;&#x27;</td>\n",
       "        <td></td>\n",
       "    </tr>\n",
       "    <tr>\n",
       "        <td>countryCode</td>\n",
       "        <td>b&#x27;char(3)&#x27;</td>\n",
       "        <td>NO</td>\n",
       "        <td></td>\n",
       "        <td>b&#x27;ITA&#x27;</td>\n",
       "        <td></td>\n",
       "    </tr>\n",
       "    <tr>\n",
       "        <td>email</td>\n",
       "        <td>b&#x27;varchar(30)&#x27;</td>\n",
       "        <td>NO</td>\n",
       "        <td></td>\n",
       "        <td>None</td>\n",
       "        <td></td>\n",
       "    </tr>\n",
       "</table>"
      ],
      "text/plain": [
       "[('supplierID', b'int', 'NO', 'PRI', None, 'auto_increment'),\n",
       " ('supplierName', b'varchar(30)', 'NO', '', b'', ''),\n",
       " ('countryCode', b'char(3)', 'NO', '', b'ITA', ''),\n",
       " ('email', b'varchar(30)', 'NO', '', None, '')]"
      ]
     },
     "execution_count": 39,
     "metadata": {},
     "output_type": "execute_result"
    }
   ],
   "source": [
    "%%sql\n",
    "\n",
    "DESCRIBE suppliers;"
   ]
  },
  {
   "cell_type": "code",
   "execution_count": 40,
   "id": "d6781a55",
   "metadata": {},
   "outputs": [
    {
     "name": "stdout",
     "output_type": "stream",
     "text": [
      " * mysql+mysqlconnector://root:***@db\n",
      "2 rows affected.\n"
     ]
    },
    {
     "data": {
      "text/html": [
       "<table>\n",
       "    <tr>\n",
       "        <th>Tables_in_my_db</th>\n",
       "    </tr>\n",
       "    <tr>\n",
       "        <td>products</td>\n",
       "    </tr>\n",
       "    <tr>\n",
       "        <td>suppliers</td>\n",
       "    </tr>\n",
       "</table>"
      ],
      "text/plain": [
       "[('products',), ('suppliers',)]"
      ]
     },
     "execution_count": 40,
     "metadata": {},
     "output_type": "execute_result"
    }
   ],
   "source": [
    "%%sql\n",
    "\n",
    "SHOW TABLES;"
   ]
  },
  {
   "cell_type": "markdown",
   "id": "dc1acf30",
   "metadata": {},
   "source": [
    "To enstablish a relation between the `products` and `suppliers` tables, we have to consider that:\n",
    "    \n",
    "- a supplier can supply multiple products\n",
    "- a product can be supplied by multiple suppliers\n",
    "\n",
    "This is a many-to-many relationship, which requires a supporting external table.\n",
    "\n",
    "Create a new `supplier_to_product` table with the following attributes:\n",
    "    \n",
    "| Attribute | Type | Extra info | Constraint | \n",
    "| --- | --- | --- |--- |\n",
    "| prodID   | Integer | | NOT NULL |\n",
    "| supID    | Integer | | NOT NULL |\n"
   ]
  },
  {
   "cell_type": "code",
   "execution_count": 41,
   "id": "db88cd48",
   "metadata": {},
   "outputs": [
    {
     "name": "stdout",
     "output_type": "stream",
     "text": [
      " * mysql+mysqlconnector://root:***@db\n",
      "0 rows affected.\n"
     ]
    },
    {
     "data": {
      "text/plain": [
       "[]"
      ]
     },
     "execution_count": 41,
     "metadata": {},
     "output_type": "execute_result"
    }
   ],
   "source": [
    "%%sql \n",
    "\n",
    "CREATE TABLE supplier_to_product(\n",
    "    prodID INT NOT NULL,\n",
    "    supID  INT NOT NULL\n",
    ");"
   ]
  },
  {
   "cell_type": "code",
   "execution_count": 42,
   "id": "423c0c9d",
   "metadata": {},
   "outputs": [
    {
     "name": "stdout",
     "output_type": "stream",
     "text": [
      " * mysql+mysqlconnector://root:***@db\n",
      "2 rows affected.\n"
     ]
    },
    {
     "data": {
      "text/html": [
       "<table>\n",
       "    <tr>\n",
       "        <th>Field</th>\n",
       "        <th>Type</th>\n",
       "        <th>Null</th>\n",
       "        <th>Key</th>\n",
       "        <th>Default</th>\n",
       "        <th>Extra</th>\n",
       "    </tr>\n",
       "    <tr>\n",
       "        <td>prodID</td>\n",
       "        <td>b&#x27;int&#x27;</td>\n",
       "        <td>NO</td>\n",
       "        <td></td>\n",
       "        <td>None</td>\n",
       "        <td></td>\n",
       "    </tr>\n",
       "    <tr>\n",
       "        <td>supID</td>\n",
       "        <td>b&#x27;int&#x27;</td>\n",
       "        <td>NO</td>\n",
       "        <td></td>\n",
       "        <td>None</td>\n",
       "        <td></td>\n",
       "    </tr>\n",
       "</table>"
      ],
      "text/plain": [
       "[('prodID', b'int', 'NO', '', None, ''), ('supID', b'int', 'NO', '', None, '')]"
      ]
     },
     "execution_count": 42,
     "metadata": {},
     "output_type": "execute_result"
    }
   ],
   "source": [
    "%%sql \n",
    "\n",
    "DESCRIBE supplier_to_product;"
   ]
  },
  {
   "cell_type": "markdown",
   "id": "c4a331ac",
   "metadata": {},
   "source": [
    "Neither prodID nor supID is a good primary key in this case, as we can have both appearing multiple times in the table.\n",
    "\n",
    "However, a good primary key for this table is the combination (prodID,supID) which is absolutely unique, and thus, a good key.\n",
    "\n",
    "We can alter the table to add the primary key statement:\n",
    "    \n",
    "```mysql\n",
    "ALTER TABLE <TABLE>\n",
    "ADD PRIMARY KEY <ATTRIBUTE COMBINATION>;\n",
    "```"
   ]
  },
  {
   "cell_type": "code",
   "execution_count": 43,
   "id": "c9af8305",
   "metadata": {},
   "outputs": [
    {
     "name": "stdout",
     "output_type": "stream",
     "text": [
      " * mysql+mysqlconnector://root:***@db\n",
      "0 rows affected.\n"
     ]
    },
    {
     "data": {
      "text/plain": [
       "[]"
      ]
     },
     "execution_count": 43,
     "metadata": {},
     "output_type": "execute_result"
    }
   ],
   "source": [
    "%%sql\n",
    "\n",
    "ALTER TABLE supplier_to_product\n",
    "ADD PRIMARY KEY (prodID,supID);"
   ]
  },
  {
   "cell_type": "code",
   "execution_count": 44,
   "id": "bcf46951",
   "metadata": {},
   "outputs": [
    {
     "name": "stdout",
     "output_type": "stream",
     "text": [
      " * mysql+mysqlconnector://root:***@db\n",
      "2 rows affected.\n"
     ]
    },
    {
     "data": {
      "text/html": [
       "<table>\n",
       "    <tr>\n",
       "        <th>Field</th>\n",
       "        <th>Type</th>\n",
       "        <th>Null</th>\n",
       "        <th>Key</th>\n",
       "        <th>Default</th>\n",
       "        <th>Extra</th>\n",
       "    </tr>\n",
       "    <tr>\n",
       "        <td>prodID</td>\n",
       "        <td>b&#x27;int&#x27;</td>\n",
       "        <td>NO</td>\n",
       "        <td>PRI</td>\n",
       "        <td>None</td>\n",
       "        <td></td>\n",
       "    </tr>\n",
       "    <tr>\n",
       "        <td>supID</td>\n",
       "        <td>b&#x27;int&#x27;</td>\n",
       "        <td>NO</td>\n",
       "        <td>PRI</td>\n",
       "        <td>None</td>\n",
       "        <td></td>\n",
       "    </tr>\n",
       "</table>"
      ],
      "text/plain": [
       "[('prodID', b'int', 'NO', 'PRI', None, ''),\n",
       " ('supID', b'int', 'NO', 'PRI', None, '')]"
      ]
     },
     "execution_count": 44,
     "metadata": {},
     "output_type": "execute_result"
    }
   ],
   "source": [
    "%%sql\n",
    "\n",
    "DESCRIBE supplier_to_product;"
   ]
  },
  {
   "cell_type": "markdown",
   "id": "0cdf1d3f",
   "metadata": {},
   "source": [
    "Finally, we can link the 3 tables together by stating which attributes act as the foreign keys in the `supplier_to_product` table, and to which Attributes in the parent tables they refer to.\n",
    "\n",
    "- `prodID` points to the `productID` attribute of `products` table\n",
    "- `supID` points to the `supplierID` attribute of `supplier` table\n",
    "\n",
    "```mysql\n",
    "ALTER TABLE <TABLE>\n",
    "ADD FOREIGN KEY (<ATTRIBUTE IN THIS TABLE>) REFERENCES <OTHER TABLE>(<ATTRIBUTE IN OTHER TABLE>);\n",
    "```"
   ]
  },
  {
   "cell_type": "code",
   "execution_count": 45,
   "id": "18a93107",
   "metadata": {},
   "outputs": [
    {
     "name": "stdout",
     "output_type": "stream",
     "text": [
      " * mysql+mysqlconnector://root:***@db\n",
      "0 rows affected.\n"
     ]
    },
    {
     "data": {
      "text/plain": [
       "[]"
      ]
     },
     "execution_count": 45,
     "metadata": {},
     "output_type": "execute_result"
    }
   ],
   "source": [
    "%%sql \n",
    "\n",
    "ALTER TABLE supplier_to_product \n",
    "ADD CONSTRAINT FK_prod\n",
    "FOREIGN KEY (prodID) REFERENCES products(productID);"
   ]
  },
  {
   "cell_type": "code",
   "execution_count": 46,
   "id": "be11f100",
   "metadata": {},
   "outputs": [
    {
     "name": "stdout",
     "output_type": "stream",
     "text": [
      " * mysql+mysqlconnector://root:***@db\n",
      "0 rows affected.\n"
     ]
    },
    {
     "data": {
      "text/plain": [
       "[]"
      ]
     },
     "execution_count": 46,
     "metadata": {},
     "output_type": "execute_result"
    }
   ],
   "source": [
    "%%sql \n",
    "\n",
    "ALTER TABLE supplier_to_product \n",
    "ADD CONSTRAINT FK_sup\n",
    "FOREIGN KEY (supID) REFERENCES suppliers(supplierID);"
   ]
  },
  {
   "cell_type": "code",
   "execution_count": 47,
   "id": "93af46b3",
   "metadata": {},
   "outputs": [
    {
     "name": "stdout",
     "output_type": "stream",
     "text": [
      " * mysql+mysqlconnector://root:***@db\n",
      "2 rows affected.\n"
     ]
    },
    {
     "data": {
      "text/html": [
       "<table>\n",
       "    <tr>\n",
       "        <th>Field</th>\n",
       "        <th>Type</th>\n",
       "        <th>Null</th>\n",
       "        <th>Key</th>\n",
       "        <th>Default</th>\n",
       "        <th>Extra</th>\n",
       "    </tr>\n",
       "    <tr>\n",
       "        <td>prodID</td>\n",
       "        <td>b&#x27;int&#x27;</td>\n",
       "        <td>NO</td>\n",
       "        <td>PRI</td>\n",
       "        <td>None</td>\n",
       "        <td></td>\n",
       "    </tr>\n",
       "    <tr>\n",
       "        <td>supID</td>\n",
       "        <td>b&#x27;int&#x27;</td>\n",
       "        <td>NO</td>\n",
       "        <td>PRI</td>\n",
       "        <td>None</td>\n",
       "        <td></td>\n",
       "    </tr>\n",
       "</table>"
      ],
      "text/plain": [
       "[('prodID', b'int', 'NO', 'PRI', None, ''),\n",
       " ('supID', b'int', 'NO', 'PRI', None, '')]"
      ]
     },
     "execution_count": 47,
     "metadata": {},
     "output_type": "execute_result"
    }
   ],
   "source": [
    "%%sql\n",
    "\n",
    "DESCRIBE supplier_to_product;"
   ]
  },
  {
   "cell_type": "markdown",
   "id": "f814bec8",
   "metadata": {},
   "source": [
    "## 04 Inserting Updating and Deleting records"
   ]
  },
  {
   "cell_type": "markdown",
   "id": "fe24a550",
   "metadata": {},
   "source": [
    "The tables are currently empty. \n",
    "We can inspect the content of the tables by performing a simple query.\n",
    "\n",
    "```mysql\n",
    "SELECT * FROM <TABLE>;\n",
    "```\n",
    "\n",
    "To insert a single record into a table we can proceed in either of the two following ways:\n",
    "\n",
    "1. By explicitly specifying the names of the columns when passing the tuple containing the values\n",
    "```mysql\n",
    "INSERT INTO <TABLE> (<COLUMN1>, <COLUMN2>, <COLUMN3>, ...)\n",
    "VALUES (<VALUE1>, <VALUE2>, <VALUE3>, ...);\n",
    "```\n",
    "This will work also in the case attributes with a default value will not be explicitely passed\n",
    "\n",
    "\n",
    "2. By implicitly using all the columns when passing the tuple containing the values\n",
    "```mysql\n",
    "INSERT INTO <TABLE> \n",
    "VALUES (<VALUE1>, <VALUE2>, ..., <VALUEn>);\n",
    "```\n",
    "\n",
    "\n",
    "_NB_: 1. is the usually recommended way to perform a data insertion in SQL."
   ]
  },
  {
   "cell_type": "markdown",
   "id": "1df79446",
   "metadata": {},
   "source": [
    "Using the `mysql.connector` we can formulate the insert in a more pythonic way, e.g. to include this statement programmatically into a loop or a function call:\n",
    "    \n",
    "```python\n",
    "sql_ = \"INSERT INTO <TABLE> (<COLUMN1>, <COLUMN2>, <COLUMN3>, ...) VALUES (%s, %s, %s, ...)\"\n",
    "val_ = (<VALUE1>, <VALUE2>, <VALUE3>, ...)\n",
    "db_cursor.execute(sql_, val_)\n",
    "db.commit()\n",
    "```\n",
    "\n",
    "Being an active change to the DB istance (the data contained in the DB itself), remember to commit the insert."
   ]
  },
  {
   "cell_type": "markdown",
   "id": "1729007b",
   "metadata": {},
   "source": [
    "- Verify that the product table is actually empty\n",
    "- Isert the following list of products in the `products` table\n",
    "- Check the content of the table after the transaction, to verify that both the AUTO_INCREMENT key and the default values have taken into account\n",
    "\n",
    "\n",
    "| productName | unitPrice | unitsInStock | isDiscontinued | \n",
    "| --- | --- | --- |--- |\n",
    "| \"Founders Porter\" | 4.9 | 12 | 0 |\n"
   ]
  },
  {
   "cell_type": "code",
   "execution_count": 48,
   "id": "0f48e84c",
   "metadata": {},
   "outputs": [
    {
     "name": "stdout",
     "output_type": "stream",
     "text": [
      " * mysql+mysqlconnector://root:***@db\n",
      "0 rows affected.\n"
     ]
    },
    {
     "data": {
      "text/html": [
       "<table>\n",
       "    <tr>\n",
       "        <th>productID</th>\n",
       "        <th>productName</th>\n",
       "        <th>unitPrice</th>\n",
       "        <th>unitsInStock</th>\n",
       "        <th>isDiscontinued</th>\n",
       "    </tr>\n",
       "</table>"
      ],
      "text/plain": [
       "[]"
      ]
     },
     "execution_count": 48,
     "metadata": {},
     "output_type": "execute_result"
    }
   ],
   "source": [
    "%%sql\n",
    "\n",
    "SELECT * FROM products;"
   ]
  },
  {
   "cell_type": "code",
   "execution_count": 49,
   "id": "5d0b4661",
   "metadata": {},
   "outputs": [
    {
     "name": "stdout",
     "output_type": "stream",
     "text": [
      " * mysql+mysqlconnector://root:***@db\n",
      "1 rows affected.\n"
     ]
    },
    {
     "data": {
      "text/plain": [
       "[]"
      ]
     },
     "execution_count": 49,
     "metadata": {},
     "output_type": "execute_result"
    }
   ],
   "source": [
    "%%sql\n",
    "\n",
    "INSERT INTO products (productName, unitPrice, unitsInStock, isDiscontinued)\n",
    "VALUES (\"Founders Porter\", 4.9, 12, 0);"
   ]
  },
  {
   "cell_type": "code",
   "execution_count": 50,
   "id": "57ade142",
   "metadata": {},
   "outputs": [
    {
     "name": "stdout",
     "output_type": "stream",
     "text": [
      " * mysql+mysqlconnector://root:***@db\n",
      "1 rows affected.\n"
     ]
    },
    {
     "data": {
      "text/html": [
       "<table>\n",
       "    <tr>\n",
       "        <th>productID</th>\n",
       "        <th>productName</th>\n",
       "        <th>unitPrice</th>\n",
       "        <th>unitsInStock</th>\n",
       "        <th>isDiscontinued</th>\n",
       "    </tr>\n",
       "    <tr>\n",
       "        <td>1</td>\n",
       "        <td>Founders Porter</td>\n",
       "        <td>4.9</td>\n",
       "        <td>12</td>\n",
       "        <td>0</td>\n",
       "    </tr>\n",
       "</table>"
      ],
      "text/plain": [
       "[(1, 'Founders Porter', 4.9, 12, 0)]"
      ]
     },
     "execution_count": 50,
     "metadata": {},
     "output_type": "execute_result"
    }
   ],
   "source": [
    "%%sql\n",
    "\n",
    "SELECT * FROM products;"
   ]
  },
  {
   "cell_type": "markdown",
   "id": "df5f4ee3",
   "metadata": {},
   "source": [
    "Multi-values insert can be performed in a completely similar way, by separating multiple tuples by a comma:\n",
    "    \n",
    "```mysql\n",
    "INSERT INTO <TABLE> (<COLUMN1>, <COLUMN2>, <COLUMN3>, ...)\n",
    "VALUES \n",
    "(<VALUE11>, <VALUE12>, <VALUE13>, ...), \n",
    "(<VALUE21>, <VALUE22>, <VALUE23>, ...), \n",
    "(<VALUE31>, <VALUE32>, <VALUE33>, ...), \n",
    "\n",
    "```\n",
    "\n",
    "The python-based command is similar to the previous one, but is drop the `execute` in favor of `executemany`, using as value a list of tuples\n",
    "\n",
    "```python\n",
    "sql_ = \"INSERT INTO <TABLE> (<COLUMN1>, <COLUMN2>, <COLUMN3>, ...) VALUES (%s, %s, %s, ...)\"\n",
    "val_ = [\n",
    "    (<VALUE11>, <VALUE12>, <VALUE13>, ...),\n",
    "    (<VALUE21>, <VALUE22>, <VALUE23>, ...),\n",
    "    (<VALUE31>, <VALUE32>, <VALUE33>, ...) ]\n",
    "db_cursor.executemany(sql_, val_)\n",
    "db.commit()\n",
    "```\n"
   ]
  },
  {
   "cell_type": "markdown",
   "id": "f463c2ef",
   "metadata": {},
   "source": [
    "Add a few more products to the `product` table:\n",
    "    \n",
    "| productName | unitPrice | unitsInStock | isDiscontinued | \n",
    "| --- | --- | --- |--- |\n",
    "| \"Punk IPA\" | 5.2 | 45 |  |\n",
    "| \"HB Dunkel\" | 4.5 | 250 |  |\n",
    "| \"Forst Xmas \" | 8.0 | 2 |  |\n",
    "| \"Damm Complot \" | 3.7 | 120 |  |\n",
    "     "
   ]
  },
  {
   "cell_type": "code",
   "execution_count": 51,
   "id": "7f91ae53",
   "metadata": {},
   "outputs": [
    {
     "name": "stdout",
     "output_type": "stream",
     "text": [
      " * mysql+mysqlconnector://root:***@db\n",
      "4 rows affected.\n"
     ]
    },
    {
     "data": {
      "text/plain": [
       "[]"
      ]
     },
     "execution_count": 51,
     "metadata": {},
     "output_type": "execute_result"
    }
   ],
   "source": [
    "%%sql\n",
    "\n",
    "INSERT INTO products (productName, unitPrice, unitsInStock)\n",
    "VALUES     ('Punk IPA',     5.2,  45),\n",
    "    ('HB Dunkel',    4.5, 250),\n",
    "    ('Forst Xmas',   8.0,   2),\n",
    "    ('Damm Complot', 3.7, 120);\n"
   ]
  },
  {
   "cell_type": "code",
   "execution_count": 52,
   "id": "c172ab09",
   "metadata": {},
   "outputs": [
    {
     "name": "stdout",
     "output_type": "stream",
     "text": [
      " * mysql+mysqlconnector://root:***@db\n",
      "5 rows affected.\n"
     ]
    },
    {
     "data": {
      "text/html": [
       "<table>\n",
       "    <tr>\n",
       "        <th>productID</th>\n",
       "        <th>productName</th>\n",
       "        <th>unitPrice</th>\n",
       "        <th>unitsInStock</th>\n",
       "        <th>isDiscontinued</th>\n",
       "    </tr>\n",
       "    <tr>\n",
       "        <td>1</td>\n",
       "        <td>Founders Porter</td>\n",
       "        <td>4.9</td>\n",
       "        <td>12</td>\n",
       "        <td>0</td>\n",
       "    </tr>\n",
       "    <tr>\n",
       "        <td>2</td>\n",
       "        <td>Punk IPA</td>\n",
       "        <td>5.2</td>\n",
       "        <td>45</td>\n",
       "        <td>0</td>\n",
       "    </tr>\n",
       "    <tr>\n",
       "        <td>3</td>\n",
       "        <td>HB Dunkel</td>\n",
       "        <td>4.5</td>\n",
       "        <td>250</td>\n",
       "        <td>0</td>\n",
       "    </tr>\n",
       "    <tr>\n",
       "        <td>4</td>\n",
       "        <td>Forst Xmas</td>\n",
       "        <td>8.0</td>\n",
       "        <td>2</td>\n",
       "        <td>0</td>\n",
       "    </tr>\n",
       "    <tr>\n",
       "        <td>5</td>\n",
       "        <td>Damm Complot</td>\n",
       "        <td>3.7</td>\n",
       "        <td>120</td>\n",
       "        <td>0</td>\n",
       "    </tr>\n",
       "</table>"
      ],
      "text/plain": [
       "[(1, 'Founders Porter', 4.9, 12, 0),\n",
       " (2, 'Punk IPA', 5.2, 45, 0),\n",
       " (3, 'HB Dunkel', 4.5, 250, 0),\n",
       " (4, 'Forst Xmas', 8.0, 2, 0),\n",
       " (5, 'Damm Complot', 3.7, 120, 0)]"
      ]
     },
     "execution_count": 52,
     "metadata": {},
     "output_type": "execute_result"
    }
   ],
   "source": [
    "%%sql \n",
    "\n",
    "SELECT * FROM products;"
   ]
  },
  {
   "cell_type": "markdown",
   "id": "48a71bab",
   "metadata": {},
   "source": [
    "Updating entries is a more delicate issue, as in a DB we can in principle modify all records associated with a number of conditions.\n",
    "This makes the update operation quite powerful and possibly very error prone if not performed with extreme caution.\n",
    "\n",
    "```mysql\n",
    "UPDATE <TABLE>\n",
    "SET <ATTRIBUTE> = <NEW VALUE>\n",
    "WHERE <CONDITION>;\n",
    "```\n",
    "\n",
    "or\n",
    "\n",
    "```python\n",
    "sql_ = \"UPDATE <TABLE> SET <ATTRIBUTE> = <NEW VALUE> WHERE <CONDITION>\"\n",
    "db_cursor.execute(sql)\n",
    "db.commit()\n",
    "\n",
    "```\n",
    "\n",
    "Let's update a single record with a \"very explicit\" condition statement:\n",
    "\n",
    "- Assign `isDiscontinued` equal to 1 to the \"Forst Xmas\" product\n",
    "- Check if the update has taken place"
   ]
  },
  {
   "cell_type": "code",
   "execution_count": 53,
   "id": "f2a45dbd",
   "metadata": {},
   "outputs": [
    {
     "name": "stdout",
     "output_type": "stream",
     "text": [
      " * mysql+mysqlconnector://root:***@db\n",
      "1 rows affected.\n"
     ]
    },
    {
     "data": {
      "text/plain": [
       "[]"
      ]
     },
     "execution_count": 53,
     "metadata": {},
     "output_type": "execute_result"
    }
   ],
   "source": [
    "%%sql\n",
    "\n",
    "UPDATE products\n",
    "SET isDiscontinued = 1\n",
    "WHERE (productName = \"Forst Xmas\");"
   ]
  },
  {
   "cell_type": "code",
   "execution_count": 54,
   "id": "3c3ee12d",
   "metadata": {},
   "outputs": [
    {
     "name": "stdout",
     "output_type": "stream",
     "text": [
      " * mysql+mysqlconnector://root:***@db\n",
      "5 rows affected.\n"
     ]
    },
    {
     "data": {
      "text/html": [
       "<table>\n",
       "    <tr>\n",
       "        <th>productID</th>\n",
       "        <th>productName</th>\n",
       "        <th>unitPrice</th>\n",
       "        <th>unitsInStock</th>\n",
       "        <th>isDiscontinued</th>\n",
       "    </tr>\n",
       "    <tr>\n",
       "        <td>1</td>\n",
       "        <td>Founders Porter</td>\n",
       "        <td>4.9</td>\n",
       "        <td>12</td>\n",
       "        <td>0</td>\n",
       "    </tr>\n",
       "    <tr>\n",
       "        <td>2</td>\n",
       "        <td>Punk IPA</td>\n",
       "        <td>5.2</td>\n",
       "        <td>45</td>\n",
       "        <td>0</td>\n",
       "    </tr>\n",
       "    <tr>\n",
       "        <td>3</td>\n",
       "        <td>HB Dunkel</td>\n",
       "        <td>4.5</td>\n",
       "        <td>250</td>\n",
       "        <td>0</td>\n",
       "    </tr>\n",
       "    <tr>\n",
       "        <td>4</td>\n",
       "        <td>Forst Xmas</td>\n",
       "        <td>8.0</td>\n",
       "        <td>2</td>\n",
       "        <td>1</td>\n",
       "    </tr>\n",
       "    <tr>\n",
       "        <td>5</td>\n",
       "        <td>Damm Complot</td>\n",
       "        <td>3.7</td>\n",
       "        <td>120</td>\n",
       "        <td>0</td>\n",
       "    </tr>\n",
       "</table>"
      ],
      "text/plain": [
       "[(1, 'Founders Porter', 4.9, 12, 0),\n",
       " (2, 'Punk IPA', 5.2, 45, 0),\n",
       " (3, 'HB Dunkel', 4.5, 250, 0),\n",
       " (4, 'Forst Xmas', 8.0, 2, 1),\n",
       " (5, 'Damm Complot', 3.7, 120, 0)]"
      ]
     },
     "execution_count": 54,
     "metadata": {},
     "output_type": "execute_result"
    }
   ],
   "source": [
    "%%sql\n",
    "\n",
    "SELECT * FROM products;"
   ]
  },
  {
   "cell_type": "markdown",
   "id": "211e9d47",
   "metadata": {},
   "source": [
    "Similarly, deleting entries is quite a risky task if not done with plenty of caution, as a wrong `WHERE` condition might inadvertly lead to the deletion of a large part of your DB records. \n",
    "\n",
    "Remember, with `DELETE` we do remove entire records (i.e. tuples) from the DB, not just the content of the `WHERE` conditional statement. \n",
    "\n",
    "```mysql\n",
    "DELETE FROM <TABLE>\n",
    "WHERE <CONDITION>;\n",
    "```\n",
    "\n",
    "or\n",
    "\n",
    "```python\n",
    "sql_ = \"DELETE FROM <TABLE> WHERE <CONDITION>\"\n",
    "db_cursor.execute(sql)\n",
    "db.commit()\n",
    "\n",
    "```\n",
    "\n",
    "- Delete all products whose name begins with 'F' and ends with 's'\n",
    "- Check if the update has taken place"
   ]
  },
  {
   "cell_type": "code",
   "execution_count": 55,
   "id": "3d21c7f8",
   "metadata": {},
   "outputs": [
    {
     "name": "stdout",
     "output_type": "stream",
     "text": [
      " * mysql+mysqlconnector://root:***@db\n",
      "1 rows affected.\n"
     ]
    },
    {
     "data": {
      "text/plain": [
       "[]"
      ]
     },
     "execution_count": 55,
     "metadata": {},
     "output_type": "execute_result"
    }
   ],
   "source": [
    "%%sql\n",
    "\n",
    "DELETE FROM products\n",
    "WHERE (productName LIKE 'F%s');"
   ]
  },
  {
   "cell_type": "code",
   "execution_count": 56,
   "id": "e97c9569",
   "metadata": {},
   "outputs": [
    {
     "name": "stdout",
     "output_type": "stream",
     "text": [
      " * mysql+mysqlconnector://root:***@db\n",
      "4 rows affected.\n"
     ]
    },
    {
     "data": {
      "text/html": [
       "<table>\n",
       "    <tr>\n",
       "        <th>productID</th>\n",
       "        <th>productName</th>\n",
       "        <th>unitPrice</th>\n",
       "        <th>unitsInStock</th>\n",
       "        <th>isDiscontinued</th>\n",
       "    </tr>\n",
       "    <tr>\n",
       "        <td>1</td>\n",
       "        <td>Founders Porter</td>\n",
       "        <td>4.9</td>\n",
       "        <td>12</td>\n",
       "        <td>0</td>\n",
       "    </tr>\n",
       "    <tr>\n",
       "        <td>2</td>\n",
       "        <td>Punk IPA</td>\n",
       "        <td>5.2</td>\n",
       "        <td>45</td>\n",
       "        <td>0</td>\n",
       "    </tr>\n",
       "    <tr>\n",
       "        <td>3</td>\n",
       "        <td>HB Dunkel</td>\n",
       "        <td>4.5</td>\n",
       "        <td>250</td>\n",
       "        <td>0</td>\n",
       "    </tr>\n",
       "    <tr>\n",
       "        <td>5</td>\n",
       "        <td>Damm Complot</td>\n",
       "        <td>3.7</td>\n",
       "        <td>120</td>\n",
       "        <td>0</td>\n",
       "    </tr>\n",
       "</table>"
      ],
      "text/plain": [
       "[(1, 'Founders Porter', 4.9, 12, 0),\n",
       " (2, 'Punk IPA', 5.2, 45, 0),\n",
       " (3, 'HB Dunkel', 4.5, 250, 0),\n",
       " (5, 'Damm Complot', 3.7, 120, 0)]"
      ]
     },
     "execution_count": 56,
     "metadata": {},
     "output_type": "execute_result"
    }
   ],
   "source": [
    "%%sql\n",
    "\n",
    "SELECT * FROM products;"
   ]
  },
  {
   "cell_type": "markdown",
   "id": "b1d2c12b",
   "metadata": {},
   "source": [
    "- Populate the `suppliers` table according to the following list\n",
    "\n",
    "\n",
    "| supplierName | countryCode | email|\n",
    "| --- | --- | ---|\n",
    "| \"A hop in the park\" | \"USA\" | \"contactme@ahop.com\" |\n",
    "| \"Allez Hops! Cave à bièr\" | \"FRA\" | \"itsme@allezhops.com\" |\n",
    "| \"Wild Hops \" | \"ITA\" | \"myemail@wildhops.it\" |\n",
    "|\"Beer Paradise\"|\"ITA\"|\"beer@beerparadise.it\"|\n"
   ]
  },
  {
   "cell_type": "code",
   "execution_count": 57,
   "id": "66a22046",
   "metadata": {},
   "outputs": [
    {
     "name": "stdout",
     "output_type": "stream",
     "text": [
      " * mysql+mysqlconnector://root:***@db\n",
      "4 rows affected.\n"
     ]
    },
    {
     "data": {
      "text/plain": [
       "[]"
      ]
     },
     "execution_count": 57,
     "metadata": {},
     "output_type": "execute_result"
    }
   ],
   "source": [
    "%%sql\n",
    "\n",
    "INSERT INTO suppliers (supplierName, countryCode, email) \n",
    "VALUES\n",
    "(\"A hop in the park\",\"USA\",\"contactme@ahop.com\"),\n",
    "(\"Allez Hops! Cave à bièr\",\"FRA\",\"itsme@allezhops.com\"),\n",
    "(\"Wild Hops\",\"ITA\",\"myemail@wildhops.it\"),\n",
    "(\"Beer Paradise\",\"ITA\",\"beer@beerparadise.it\");"
   ]
  },
  {
   "cell_type": "code",
   "execution_count": 58,
   "id": "c7c83f1c",
   "metadata": {},
   "outputs": [
    {
     "name": "stdout",
     "output_type": "stream",
     "text": [
      " * mysql+mysqlconnector://root:***@db\n",
      "4 rows affected.\n"
     ]
    },
    {
     "data": {
      "text/html": [
       "<table>\n",
       "    <tr>\n",
       "        <th>supplierID</th>\n",
       "        <th>supplierName</th>\n",
       "        <th>countryCode</th>\n",
       "        <th>email</th>\n",
       "    </tr>\n",
       "    <tr>\n",
       "        <td>1</td>\n",
       "        <td>A hop in the park</td>\n",
       "        <td>USA</td>\n",
       "        <td>contactme@ahop.com</td>\n",
       "    </tr>\n",
       "    <tr>\n",
       "        <td>2</td>\n",
       "        <td>Allez Hops! Cave à bièr</td>\n",
       "        <td>FRA</td>\n",
       "        <td>itsme@allezhops.com</td>\n",
       "    </tr>\n",
       "    <tr>\n",
       "        <td>3</td>\n",
       "        <td>Wild Hops</td>\n",
       "        <td>ITA</td>\n",
       "        <td>myemail@wildhops.it</td>\n",
       "    </tr>\n",
       "    <tr>\n",
       "        <td>4</td>\n",
       "        <td>Beer Paradise</td>\n",
       "        <td>ITA</td>\n",
       "        <td>beer@beerparadise.it</td>\n",
       "    </tr>\n",
       "</table>"
      ],
      "text/plain": [
       "[(1, 'A hop in the park', 'USA', 'contactme@ahop.com'),\n",
       " (2, 'Allez Hops! Cave à bièr', 'FRA', 'itsme@allezhops.com'),\n",
       " (3, 'Wild Hops', 'ITA', 'myemail@wildhops.it'),\n",
       " (4, 'Beer Paradise', 'ITA', 'beer@beerparadise.it')]"
      ]
     },
     "execution_count": 58,
     "metadata": {},
     "output_type": "execute_result"
    }
   ],
   "source": [
    "%%sql\n",
    "\n",
    "SELECT * FROM suppliers;"
   ]
  },
  {
   "cell_type": "markdown",
   "id": "1ae2a140",
   "metadata": {},
   "source": [
    "Complete the DB with the two additional steps:\n",
    "\n",
    "- Update the \"A hop in the park\" email address to \"anewemail@ahop.com\"\n",
    "- Populate the table of connections between products and suppliers\n",
    "    - Remember that the `supplier_to_product` table is linked to the other two via the respective Foreign Keys \n",
    "\n",
    "| supplier | products provided |\n",
    "| --- | --- | \n",
    "| \"A hop in the park\" | \"Punk IPA\", \"HB Dunkel\" |"
   ]
  },
  {
   "cell_type": "code",
   "execution_count": 59,
   "id": "fe906041",
   "metadata": {},
   "outputs": [
    {
     "data": {
      "text/plain": [
       "[(1, 'A hop in the park', 'USA', 'anewemail@ahop.com'),\n",
       " (2, 'Allez Hops! Cave à bièr', 'FRA', 'itsme@allezhops.com'),\n",
       " (3, 'Wild Hops', 'ITA', 'myemail@wildhops.it'),\n",
       " (4, 'Beer Paradise', 'ITA', 'beer@beerparadise.it')]"
      ]
     },
     "execution_count": 59,
     "metadata": {},
     "output_type": "execute_result"
    }
   ],
   "source": [
    "sql_ = \"UPDATE suppliers SET email = %s WHERE supplierName LIKE %s;\"\n",
    "val_ = ('anewemail@ahop.com', 'A hop%')\n",
    "dbc.execute(sql_, val_)\n",
    "db.commit()\n",
    "     \n",
    "dbc.execute(\"SELECT * FROM suppliers\"); \n",
    "dbc.fetchall()"
   ]
  },
  {
   "cell_type": "code",
   "execution_count": 61,
   "id": "60cf0f77",
   "metadata": {},
   "outputs": [
    {
     "name": "stdout",
     "output_type": "stream",
     "text": [
      " * mysql+mysqlconnector://root:***@db\n",
      "4 rows affected.\n"
     ]
    },
    {
     "data": {
      "text/html": [
       "<table>\n",
       "    <tr>\n",
       "        <th>productID</th>\n",
       "        <th>productName</th>\n",
       "        <th>unitPrice</th>\n",
       "        <th>unitsInStock</th>\n",
       "        <th>isDiscontinued</th>\n",
       "    </tr>\n",
       "    <tr>\n",
       "        <td>1</td>\n",
       "        <td>Founders Porter</td>\n",
       "        <td>4.9</td>\n",
       "        <td>12</td>\n",
       "        <td>0</td>\n",
       "    </tr>\n",
       "    <tr>\n",
       "        <td>2</td>\n",
       "        <td>Punk IPA</td>\n",
       "        <td>5.2</td>\n",
       "        <td>45</td>\n",
       "        <td>0</td>\n",
       "    </tr>\n",
       "    <tr>\n",
       "        <td>3</td>\n",
       "        <td>HB Dunkel</td>\n",
       "        <td>4.5</td>\n",
       "        <td>250</td>\n",
       "        <td>0</td>\n",
       "    </tr>\n",
       "    <tr>\n",
       "        <td>5</td>\n",
       "        <td>Damm Complot</td>\n",
       "        <td>3.7</td>\n",
       "        <td>120</td>\n",
       "        <td>0</td>\n",
       "    </tr>\n",
       "</table>"
      ],
      "text/plain": [
       "[(1, 'Founders Porter', 4.9, 12, 0),\n",
       " (2, 'Punk IPA', 5.2, 45, 0),\n",
       " (3, 'HB Dunkel', 4.5, 250, 0),\n",
       " (5, 'Damm Complot', 3.7, 120, 0)]"
      ]
     },
     "execution_count": 61,
     "metadata": {},
     "output_type": "execute_result"
    }
   ],
   "source": [
    "%%sql \n",
    "\n",
    "SELECT * FROM products;"
   ]
  },
  {
   "cell_type": "code",
   "execution_count": 62,
   "id": "40a10f7a",
   "metadata": {},
   "outputs": [
    {
     "name": "stdout",
     "output_type": "stream",
     "text": [
      " * mysql+mysqlconnector://root:***@db\n",
      "4 rows affected.\n"
     ]
    },
    {
     "data": {
      "text/html": [
       "<table>\n",
       "    <tr>\n",
       "        <th>supplierID</th>\n",
       "        <th>supplierName</th>\n",
       "        <th>countryCode</th>\n",
       "        <th>email</th>\n",
       "    </tr>\n",
       "    <tr>\n",
       "        <td>1</td>\n",
       "        <td>A hop in the park</td>\n",
       "        <td>USA</td>\n",
       "        <td>anewemail@ahop.com</td>\n",
       "    </tr>\n",
       "    <tr>\n",
       "        <td>2</td>\n",
       "        <td>Allez Hops! Cave à bièr</td>\n",
       "        <td>FRA</td>\n",
       "        <td>itsme@allezhops.com</td>\n",
       "    </tr>\n",
       "    <tr>\n",
       "        <td>3</td>\n",
       "        <td>Wild Hops</td>\n",
       "        <td>ITA</td>\n",
       "        <td>myemail@wildhops.it</td>\n",
       "    </tr>\n",
       "    <tr>\n",
       "        <td>4</td>\n",
       "        <td>Beer Paradise</td>\n",
       "        <td>ITA</td>\n",
       "        <td>beer@beerparadise.it</td>\n",
       "    </tr>\n",
       "</table>"
      ],
      "text/plain": [
       "[(1, 'A hop in the park', 'USA', 'anewemail@ahop.com'),\n",
       " (2, 'Allez Hops! Cave à bièr', 'FRA', 'itsme@allezhops.com'),\n",
       " (3, 'Wild Hops', 'ITA', 'myemail@wildhops.it'),\n",
       " (4, 'Beer Paradise', 'ITA', 'beer@beerparadise.it')]"
      ]
     },
     "execution_count": 62,
     "metadata": {},
     "output_type": "execute_result"
    }
   ],
   "source": [
    "%%sql \n",
    "\n",
    "SELECT * FROM suppliers;"
   ]
  },
  {
   "cell_type": "code",
   "execution_count": 63,
   "id": "8b603496",
   "metadata": {},
   "outputs": [
    {
     "name": "stdout",
     "output_type": "stream",
     "text": [
      " * mysql+mysqlconnector://root:***@db\n",
      "2 rows affected.\n"
     ]
    },
    {
     "data": {
      "text/html": [
       "<table>\n",
       "    <tr>\n",
       "        <th>Field</th>\n",
       "        <th>Type</th>\n",
       "        <th>Null</th>\n",
       "        <th>Key</th>\n",
       "        <th>Default</th>\n",
       "        <th>Extra</th>\n",
       "    </tr>\n",
       "    <tr>\n",
       "        <td>prodID</td>\n",
       "        <td>b&#x27;int&#x27;</td>\n",
       "        <td>NO</td>\n",
       "        <td>PRI</td>\n",
       "        <td>None</td>\n",
       "        <td></td>\n",
       "    </tr>\n",
       "    <tr>\n",
       "        <td>supID</td>\n",
       "        <td>b&#x27;int&#x27;</td>\n",
       "        <td>NO</td>\n",
       "        <td>PRI</td>\n",
       "        <td>None</td>\n",
       "        <td></td>\n",
       "    </tr>\n",
       "</table>"
      ],
      "text/plain": [
       "[('prodID', b'int', 'NO', 'PRI', None, ''),\n",
       " ('supID', b'int', 'NO', 'PRI', None, '')]"
      ]
     },
     "execution_count": 63,
     "metadata": {},
     "output_type": "execute_result"
    }
   ],
   "source": [
    "%%sql\n",
    "\n",
    "DESCRIBE supplier_to_product;"
   ]
  },
  {
   "cell_type": "code",
   "execution_count": 64,
   "id": "ffeaa6eb",
   "metadata": {},
   "outputs": [
    {
     "name": "stdout",
     "output_type": "stream",
     "text": [
      " * mysql+mysqlconnector://root:***@db\n",
      "2 rows affected.\n"
     ]
    },
    {
     "data": {
      "text/plain": [
       "[]"
      ]
     },
     "execution_count": 64,
     "metadata": {},
     "output_type": "execute_result"
    }
   ],
   "source": [
    "%%sql\n",
    "\n",
    "INSERT INTO supplier_to_product (supID, prodID)\n",
    "VALUES (1, 2),\n",
    "       (1, 3);"
   ]
  },
  {
   "cell_type": "code",
   "execution_count": 65,
   "id": "0770fc67",
   "metadata": {},
   "outputs": [
    {
     "name": "stdout",
     "output_type": "stream",
     "text": [
      " * mysql+mysqlconnector://root:***@db\n",
      "2 rows affected.\n"
     ]
    },
    {
     "data": {
      "text/html": [
       "<table>\n",
       "    <tr>\n",
       "        <th>prodID</th>\n",
       "        <th>supID</th>\n",
       "    </tr>\n",
       "    <tr>\n",
       "        <td>2</td>\n",
       "        <td>1</td>\n",
       "    </tr>\n",
       "    <tr>\n",
       "        <td>3</td>\n",
       "        <td>1</td>\n",
       "    </tr>\n",
       "</table>"
      ],
      "text/plain": [
       "[(2, 1), (3, 1)]"
      ]
     },
     "execution_count": 65,
     "metadata": {},
     "output_type": "execute_result"
    }
   ],
   "source": [
    "%%sql \n",
    "\n",
    "SELECT * FROM supplier_to_product;"
   ]
  },
  {
   "cell_type": "markdown",
   "id": "6efb0512",
   "metadata": {},
   "source": [
    "Export the DB you have created into a .sql file, and store it for later use.\n",
    "\n",
    "1. connect to the \"server\" docker container using bash\n",
    "2. dump the DB via the command:\n",
    "    \n",
    "```bash\n",
    "$ mysqldump -u <USER> -p <DB NAME>  >  <FULL/PATH/TO/NEW/DB_DUMP.sql>\n",
    "```\n",
    "\n",
    "3. use the folder `/mapd-workspace/dbs` to store the file, as it's the one currently visible from both in- and out-side the container"
   ]
  },
  {
   "cell_type": "markdown",
   "id": "b6e3c94e",
   "metadata": {},
   "source": [
    "## 04 Basic queries "
   ]
  },
  {
   "cell_type": "markdown",
   "id": "cbdbb924",
   "metadata": {},
   "source": [
    "### EDIT (same info in Section 05) ###\n",
    "\n",
    "If you have saved your DB locally into a `.sql` file, you can restore it by loading it into the server.\n",
    "\n",
    "1. Create a new DB named `my_db`\n",
    "```\n",
    "CREATE DATABASE IF NOT EXISTS my_db;\n",
    "```\n",
    "2. Login in interactive mode into the MySQL server \n",
    "```bash \n",
    "$ docker exec -it mysql_db_1 bash\n",
    "```\n",
    "2. Import the content of the `.sql` file (e.g. `/mapd-workspace/dbs/my_db.sql`) into the newly created DB\n",
    "    \n",
    "```bash\n",
    "$ mysql -u root -p my_db < /mapd-workspace/dbs/my_db.sql\n",
    "```\n"
   ]
  },
  {
   "cell_type": "markdown",
   "id": "7f903ed5",
   "metadata": {},
   "source": [
    "The `SELECT` statement allows to perform queries and to retrieve data from a DB.\n",
    "\n",
    "We can perform queries on 1 single Table in the DB, as well as perform complex queries that span multiple interconnected Tables, with one-to-one, one-to-many and many-to-many relationships across records.\n",
    "\n",
    "Any `SELECT` statement is composed by at least:\n",
    "    \n",
    "```mysql\n",
    "SELECT <TABLE2.ATTRIBUTE1>, <TABLE1.ATTRIBUTE2>   --# the list of attributes to show\n",
    "                                                  --# the * wildcard symbol means ALL attributes\n",
    "    \n",
    "FROM <TABLE1>, <TABLE2>                           --# the table, or list of tables \n",
    "                                                  --# from which to extract the attributes\n",
    "\n",
    "WHERE <CONDITIONS>                                --# (optional) condition statement\n",
    "```\n",
    "\n",
    "The same goes for the pythonc connector-based way\n",
    "\n",
    "```python\n",
    "db_cursor.execute(\"\"\"SELECT <TABLE2.ATTRIBUTE1>, <TABLE1.ATTRIBUTE2>\"\"\"\n",
    "                  \"\"\"FROM <TABLE1>, <TABLE2>\"\"\"\n",
    "                  \"\"\"WHERE <CONDITIONS>\"\"\")\n",
    "res_ = db_cursor.fetchall()\n",
    "for _ in res_:\n",
    "    print(_)\n",
    "```\n",
    "\n",
    "As an alternative, `db_cursor.fetchone()` can be used to printout only 1 out of possibly many records.\n"
   ]
  },
  {
   "cell_type": "markdown",
   "id": "2a3bae29",
   "metadata": {},
   "source": [
    "- Get the email of all suppliers from Italy"
   ]
  },
  {
   "cell_type": "code",
   "execution_count": 6,
   "id": "eb827045",
   "metadata": {},
   "outputs": [
    {
     "name": "stdout",
     "output_type": "stream",
     "text": [
      " * mysql+mysqlconnector://root:***@db\n",
      "0 rows affected.\n"
     ]
    },
    {
     "data": {
      "text/plain": [
       "[]"
      ]
     },
     "execution_count": 6,
     "metadata": {},
     "output_type": "execute_result"
    }
   ],
   "source": [
    "%%sql\n",
    "use my_db"
   ]
  },
  {
   "cell_type": "code",
   "execution_count": 7,
   "id": "cd1ed864",
   "metadata": {},
   "outputs": [
    {
     "name": "stdout",
     "output_type": "stream",
     "text": [
      " * mysql+mysqlconnector://root:***@db\n",
      "3 rows affected.\n"
     ]
    },
    {
     "data": {
      "text/html": [
       "<table>\n",
       "    <tr>\n",
       "        <th>Tables_in_my_db</th>\n",
       "    </tr>\n",
       "    <tr>\n",
       "        <td>products</td>\n",
       "    </tr>\n",
       "    <tr>\n",
       "        <td>supplier_to_product</td>\n",
       "    </tr>\n",
       "    <tr>\n",
       "        <td>suppliers</td>\n",
       "    </tr>\n",
       "</table>"
      ],
      "text/plain": [
       "[('products',), ('supplier_to_product',), ('suppliers',)]"
      ]
     },
     "execution_count": 7,
     "metadata": {},
     "output_type": "execute_result"
    }
   ],
   "source": [
    "%%sql\n",
    "\n",
    "SHOW TABLES;"
   ]
  },
  {
   "cell_type": "code",
   "execution_count": 8,
   "id": "0e551aca",
   "metadata": {},
   "outputs": [
    {
     "name": "stdout",
     "output_type": "stream",
     "text": [
      " * mysql+mysqlconnector://root:***@db\n",
      "4 rows affected.\n"
     ]
    },
    {
     "data": {
      "text/html": [
       "<table>\n",
       "    <tr>\n",
       "        <th>Field</th>\n",
       "        <th>Type</th>\n",
       "        <th>Null</th>\n",
       "        <th>Key</th>\n",
       "        <th>Default</th>\n",
       "        <th>Extra</th>\n",
       "    </tr>\n",
       "    <tr>\n",
       "        <td>supplierID</td>\n",
       "        <td>b&#x27;int&#x27;</td>\n",
       "        <td>NO</td>\n",
       "        <td>PRI</td>\n",
       "        <td>None</td>\n",
       "        <td>auto_increment</td>\n",
       "    </tr>\n",
       "    <tr>\n",
       "        <td>supplierName</td>\n",
       "        <td>b&#x27;varchar(30)&#x27;</td>\n",
       "        <td>NO</td>\n",
       "        <td></td>\n",
       "        <td>b&#x27;&#x27;</td>\n",
       "        <td></td>\n",
       "    </tr>\n",
       "    <tr>\n",
       "        <td>countryCode</td>\n",
       "        <td>b&#x27;char(3)&#x27;</td>\n",
       "        <td>NO</td>\n",
       "        <td></td>\n",
       "        <td>b&#x27;ITA&#x27;</td>\n",
       "        <td></td>\n",
       "    </tr>\n",
       "    <tr>\n",
       "        <td>email</td>\n",
       "        <td>b&#x27;varchar(30)&#x27;</td>\n",
       "        <td>NO</td>\n",
       "        <td></td>\n",
       "        <td>None</td>\n",
       "        <td></td>\n",
       "    </tr>\n",
       "</table>"
      ],
      "text/plain": [
       "[('supplierID', b'int', 'NO', 'PRI', None, 'auto_increment'),\n",
       " ('supplierName', b'varchar(30)', 'NO', '', b'', ''),\n",
       " ('countryCode', b'char(3)', 'NO', '', b'ITA', ''),\n",
       " ('email', b'varchar(30)', 'NO', '', None, '')]"
      ]
     },
     "execution_count": 8,
     "metadata": {},
     "output_type": "execute_result"
    }
   ],
   "source": [
    "%%sql\n",
    "\n",
    "DESCRIBE suppliers;"
   ]
  },
  {
   "cell_type": "code",
   "execution_count": 9,
   "id": "ca3bdc10",
   "metadata": {},
   "outputs": [
    {
     "name": "stdout",
     "output_type": "stream",
     "text": [
      " * mysql+mysqlconnector://root:***@db\n",
      "2 rows affected.\n"
     ]
    },
    {
     "data": {
      "text/html": [
       "<table>\n",
       "    <tr>\n",
       "        <th>email</th>\n",
       "    </tr>\n",
       "    <tr>\n",
       "        <td>myemail@wildhops.it</td>\n",
       "    </tr>\n",
       "    <tr>\n",
       "        <td>beer@beerparadise.it</td>\n",
       "    </tr>\n",
       "</table>"
      ],
      "text/plain": [
       "[('myemail@wildhops.it',), ('beer@beerparadise.it',)]"
      ]
     },
     "execution_count": 9,
     "metadata": {},
     "output_type": "execute_result"
    }
   ],
   "source": [
    "%%sql\n",
    "\n",
    "SELECT email\n",
    "FROM suppliers\n",
    "WHERE (countryCode = \"ITA\");"
   ]
  },
  {
   "cell_type": "markdown",
   "id": "204da1bf",
   "metadata": {},
   "source": [
    "- Get all information for products with unit price greater than 4"
   ]
  },
  {
   "cell_type": "code",
   "execution_count": 10,
   "id": "da6f4538",
   "metadata": {},
   "outputs": [
    {
     "name": "stdout",
     "output_type": "stream",
     "text": [
      " * mysql+mysqlconnector://root:***@db\n",
      "5 rows affected.\n"
     ]
    },
    {
     "data": {
      "text/html": [
       "<table>\n",
       "    <tr>\n",
       "        <th>Field</th>\n",
       "        <th>Type</th>\n",
       "        <th>Null</th>\n",
       "        <th>Key</th>\n",
       "        <th>Default</th>\n",
       "        <th>Extra</th>\n",
       "    </tr>\n",
       "    <tr>\n",
       "        <td>productID</td>\n",
       "        <td>b&#x27;int&#x27;</td>\n",
       "        <td>NO</td>\n",
       "        <td>PRI</td>\n",
       "        <td>None</td>\n",
       "        <td>auto_increment</td>\n",
       "    </tr>\n",
       "    <tr>\n",
       "        <td>productName</td>\n",
       "        <td>b&#x27;varchar(30)&#x27;</td>\n",
       "        <td>NO</td>\n",
       "        <td></td>\n",
       "        <td>b&#x27;&#x27;</td>\n",
       "        <td></td>\n",
       "    </tr>\n",
       "    <tr>\n",
       "        <td>unitPrice</td>\n",
       "        <td>b&#x27;float&#x27;</td>\n",
       "        <td>NO</td>\n",
       "        <td></td>\n",
       "        <td>b&#x27;100000&#x27;</td>\n",
       "        <td></td>\n",
       "    </tr>\n",
       "    <tr>\n",
       "        <td>unitsInStock</td>\n",
       "        <td>b&#x27;int unsigned&#x27;</td>\n",
       "        <td>NO</td>\n",
       "        <td></td>\n",
       "        <td>b&#x27;0&#x27;</td>\n",
       "        <td></td>\n",
       "    </tr>\n",
       "    <tr>\n",
       "        <td>isDiscontinued</td>\n",
       "        <td>b&#x27;tinyint(1)&#x27;</td>\n",
       "        <td>NO</td>\n",
       "        <td></td>\n",
       "        <td>b&#x27;0&#x27;</td>\n",
       "        <td></td>\n",
       "    </tr>\n",
       "</table>"
      ],
      "text/plain": [
       "[('productID', b'int', 'NO', 'PRI', None, 'auto_increment'),\n",
       " ('productName', b'varchar(30)', 'NO', '', b'', ''),\n",
       " ('unitPrice', b'float', 'NO', '', b'100000', ''),\n",
       " ('unitsInStock', b'int unsigned', 'NO', '', b'0', ''),\n",
       " ('isDiscontinued', b'tinyint(1)', 'NO', '', b'0', '')]"
      ]
     },
     "execution_count": 10,
     "metadata": {},
     "output_type": "execute_result"
    }
   ],
   "source": [
    "%%sql\n",
    "\n",
    "DESCRIBE products;"
   ]
  },
  {
   "cell_type": "code",
   "execution_count": 11,
   "id": "e4251397",
   "metadata": {},
   "outputs": [
    {
     "name": "stdout",
     "output_type": "stream",
     "text": [
      " * mysql+mysqlconnector://root:***@db\n",
      "3 rows affected.\n"
     ]
    },
    {
     "data": {
      "text/html": [
       "<table>\n",
       "    <tr>\n",
       "        <th>productID</th>\n",
       "        <th>productName</th>\n",
       "        <th>unitPrice</th>\n",
       "        <th>unitsInStock</th>\n",
       "        <th>isDiscontinued</th>\n",
       "    </tr>\n",
       "    <tr>\n",
       "        <td>1</td>\n",
       "        <td>Founders Porter</td>\n",
       "        <td>4.9</td>\n",
       "        <td>12</td>\n",
       "        <td>0</td>\n",
       "    </tr>\n",
       "    <tr>\n",
       "        <td>2</td>\n",
       "        <td>Punk IPA</td>\n",
       "        <td>5.2</td>\n",
       "        <td>45</td>\n",
       "        <td>0</td>\n",
       "    </tr>\n",
       "    <tr>\n",
       "        <td>3</td>\n",
       "        <td>HB Dunkel</td>\n",
       "        <td>4.5</td>\n",
       "        <td>250</td>\n",
       "        <td>0</td>\n",
       "    </tr>\n",
       "</table>"
      ],
      "text/plain": [
       "[(1, 'Founders Porter', 4.9, 12, 0),\n",
       " (2, 'Punk IPA', 5.2, 45, 0),\n",
       " (3, 'HB Dunkel', 4.5, 250, 0)]"
      ]
     },
     "execution_count": 11,
     "metadata": {},
     "output_type": "execute_result"
    }
   ],
   "source": [
    "%%sql\n",
    "\n",
    "SELECT *\n",
    "FROM products\n",
    "WHERE (unitPrice > 4);"
   ]
  },
  {
   "cell_type": "markdown",
   "id": "3c3c7ce0",
   "metadata": {},
   "source": [
    "- Select all products with unit cost less than 5 and list them in descending order of units in stock"
   ]
  },
  {
   "cell_type": "code",
   "execution_count": 12,
   "id": "3fd373ea",
   "metadata": {},
   "outputs": [
    {
     "name": "stdout",
     "output_type": "stream",
     "text": [
      " * mysql+mysqlconnector://root:***@db\n",
      "3 rows affected.\n"
     ]
    },
    {
     "data": {
      "text/html": [
       "<table>\n",
       "    <tr>\n",
       "        <th>productID</th>\n",
       "        <th>productName</th>\n",
       "        <th>unitPrice</th>\n",
       "        <th>unitsInStock</th>\n",
       "        <th>isDiscontinued</th>\n",
       "    </tr>\n",
       "    <tr>\n",
       "        <td>3</td>\n",
       "        <td>HB Dunkel</td>\n",
       "        <td>4.5</td>\n",
       "        <td>250</td>\n",
       "        <td>0</td>\n",
       "    </tr>\n",
       "    <tr>\n",
       "        <td>5</td>\n",
       "        <td>Damm Complot</td>\n",
       "        <td>3.7</td>\n",
       "        <td>120</td>\n",
       "        <td>0</td>\n",
       "    </tr>\n",
       "    <tr>\n",
       "        <td>1</td>\n",
       "        <td>Founders Porter</td>\n",
       "        <td>4.9</td>\n",
       "        <td>12</td>\n",
       "        <td>0</td>\n",
       "    </tr>\n",
       "</table>"
      ],
      "text/plain": [
       "[(3, 'HB Dunkel', 4.5, 250, 0),\n",
       " (5, 'Damm Complot', 3.7, 120, 0),\n",
       " (1, 'Founders Porter', 4.9, 12, 0)]"
      ]
     },
     "execution_count": 12,
     "metadata": {},
     "output_type": "execute_result"
    }
   ],
   "source": [
    "%%sql\n",
    "\n",
    "SELECT *\n",
    "FROM products\n",
    "WHERE (unitPrice<5)\n",
    "ORDER BY unitsInStock DESC;"
   ]
  },
  {
   "cell_type": "markdown",
   "id": "3c3b89b1",
   "metadata": {},
   "source": [
    "**Group by** is a common statement which allows to perform data aggregation.\n",
    "\n",
    "If familiar with `pandas`, this should not come any new to you.\n",
    "\n",
    "Just remember:\n",
    "1. No group by statement is possible without an aggregation function.\n",
    "2. Group by are quite computationally expensive. In case of large databases group by operations might require a long time to execute"
   ]
  },
  {
   "cell_type": "markdown",
   "id": "6ec4ca2b",
   "metadata": {},
   "source": [
    "- plot the distribution of suppliers by country"
   ]
  },
  {
   "cell_type": "code",
   "execution_count": 17,
   "id": "e93889be",
   "metadata": {},
   "outputs": [
    {
     "name": "stdout",
     "output_type": "stream",
     "text": [
      " * mysql+mysqlconnector://root:***@db\n",
      "4 rows affected.\n"
     ]
    },
    {
     "data": {
      "text/html": [
       "<table>\n",
       "    <tr>\n",
       "        <th>email</th>\n",
       "        <th>nSupp</th>\n",
       "    </tr>\n",
       "    <tr>\n",
       "        <td>anewemail@ahop.com</td>\n",
       "        <td>1</td>\n",
       "    </tr>\n",
       "    <tr>\n",
       "        <td>itsme@allezhops.com</td>\n",
       "        <td>1</td>\n",
       "    </tr>\n",
       "    <tr>\n",
       "        <td>myemail@wildhops.it</td>\n",
       "        <td>1</td>\n",
       "    </tr>\n",
       "    <tr>\n",
       "        <td>beer@beerparadise.it</td>\n",
       "        <td>1</td>\n",
       "    </tr>\n",
       "</table>"
      ],
      "text/plain": [
       "[('anewemail@ahop.com', 1),\n",
       " ('itsme@allezhops.com', 1),\n",
       " ('myemail@wildhops.it', 1),\n",
       " ('beer@beerparadise.it', 1)]"
      ]
     },
     "execution_count": 17,
     "metadata": {},
     "output_type": "execute_result"
    }
   ],
   "source": [
    "%%sql\n",
    "\n",
    "SELECT  countryCode, COUNT(countryCode) AS nSupp\n",
    "FROM suppliers\n",
    "GROUP BY countryCode;"
   ]
  },
  {
   "cell_type": "code",
   "execution_count": 18,
   "id": "a201f6eb",
   "metadata": {},
   "outputs": [
    {
     "name": "stdout",
     "output_type": "stream",
     "text": [
      " * mysql+mysqlconnector://root:***@db\n",
      "3 rows affected.\n",
      "+-------+-------------+\n",
      "| count | countryCode |\n",
      "+-------+-------------+\n",
      "|   1   |     USA     |\n",
      "|   1   |     FRA     |\n",
      "|   2   |     ITA     |\n",
      "+-------+-------------+\n"
     ]
    }
   ],
   "source": [
    "res_ = %sql SELECT COUNT(countryCode) AS count, countryCode FROM suppliers GROUP BY countryCode;\n",
    "\n",
    "print (res_);"
   ]
  },
  {
   "cell_type": "code",
   "execution_count": 19,
   "id": "f509fa26",
   "metadata": {},
   "outputs": [
    {
     "data": {
      "image/png": "[encoded data removed]",
      "text/plain": [
       "<Figure size 640x480 with 1 Axes>"
      ]
     },
     "metadata": {},
     "output_type": "display_data"
    }
   ],
   "source": [
    "res_.bar();"
   ]
  },
  {
   "cell_type": "markdown",
   "id": "6e432001",
   "metadata": {},
   "source": [
    "The main strength of Relational DBs is the possibility of matching information from different tables though **Join** operations.\n",
    "\n",
    "A join, either performed explicitely or implicitely is:\n",
    "\n",
    "Just remember:\n",
    "1. Computationally expensive. In case of large databases group by operations might require a long time to execute\n",
    "2. Very easy to be done wrong, thus resulting in non-meaningful results\n",
    "\n",
    "Be sure on which attributes (most often keys) you are performing a join operation."
   ]
  },
  {
   "cell_type": "markdown",
   "id": "11a1d6a9",
   "metadata": {},
   "source": [
    "- Join the `supplier_to_product` table with the `suppliers` table "
   ]
  },
  {
   "cell_type": "code",
   "execution_count": 20,
   "id": "9413d43c",
   "metadata": {},
   "outputs": [
    {
     "name": "stdout",
     "output_type": "stream",
     "text": [
      " * mysql+mysqlconnector://root:***@db\n",
      "4 rows affected.\n"
     ]
    },
    {
     "data": {
      "text/html": [
       "<table>\n",
       "    <tr>\n",
       "        <th>Field</th>\n",
       "        <th>Type</th>\n",
       "        <th>Null</th>\n",
       "        <th>Key</th>\n",
       "        <th>Default</th>\n",
       "        <th>Extra</th>\n",
       "    </tr>\n",
       "    <tr>\n",
       "        <td>supplierID</td>\n",
       "        <td>b&#x27;int&#x27;</td>\n",
       "        <td>NO</td>\n",
       "        <td>PRI</td>\n",
       "        <td>None</td>\n",
       "        <td>auto_increment</td>\n",
       "    </tr>\n",
       "    <tr>\n",
       "        <td>supplierName</td>\n",
       "        <td>b&#x27;varchar(30)&#x27;</td>\n",
       "        <td>NO</td>\n",
       "        <td></td>\n",
       "        <td>b&#x27;&#x27;</td>\n",
       "        <td></td>\n",
       "    </tr>\n",
       "    <tr>\n",
       "        <td>countryCode</td>\n",
       "        <td>b&#x27;char(3)&#x27;</td>\n",
       "        <td>NO</td>\n",
       "        <td></td>\n",
       "        <td>b&#x27;ITA&#x27;</td>\n",
       "        <td></td>\n",
       "    </tr>\n",
       "    <tr>\n",
       "        <td>email</td>\n",
       "        <td>b&#x27;varchar(30)&#x27;</td>\n",
       "        <td>NO</td>\n",
       "        <td></td>\n",
       "        <td>None</td>\n",
       "        <td></td>\n",
       "    </tr>\n",
       "</table>"
      ],
      "text/plain": [
       "[('supplierID', b'int', 'NO', 'PRI', None, 'auto_increment'),\n",
       " ('supplierName', b'varchar(30)', 'NO', '', b'', ''),\n",
       " ('countryCode', b'char(3)', 'NO', '', b'ITA', ''),\n",
       " ('email', b'varchar(30)', 'NO', '', None, '')]"
      ]
     },
     "execution_count": 20,
     "metadata": {},
     "output_type": "execute_result"
    }
   ],
   "source": [
    "%%sql\n",
    "\n",
    "DESCRIBE suppliers;"
   ]
  },
  {
   "cell_type": "code",
   "execution_count": 21,
   "id": "d698cff7",
   "metadata": {},
   "outputs": [
    {
     "name": "stdout",
     "output_type": "stream",
     "text": [
      " * mysql+mysqlconnector://root:***@db\n",
      "2 rows affected.\n"
     ]
    },
    {
     "data": {
      "text/html": [
       "<table>\n",
       "    <tr>\n",
       "        <th>Field</th>\n",
       "        <th>Type</th>\n",
       "        <th>Null</th>\n",
       "        <th>Key</th>\n",
       "        <th>Default</th>\n",
       "        <th>Extra</th>\n",
       "    </tr>\n",
       "    <tr>\n",
       "        <td>prodID</td>\n",
       "        <td>b&#x27;int&#x27;</td>\n",
       "        <td>NO</td>\n",
       "        <td>PRI</td>\n",
       "        <td>None</td>\n",
       "        <td></td>\n",
       "    </tr>\n",
       "    <tr>\n",
       "        <td>supID</td>\n",
       "        <td>b&#x27;int&#x27;</td>\n",
       "        <td>NO</td>\n",
       "        <td>PRI</td>\n",
       "        <td>None</td>\n",
       "        <td></td>\n",
       "    </tr>\n",
       "</table>"
      ],
      "text/plain": [
       "[('prodID', b'int', 'NO', 'PRI', None, ''),\n",
       " ('supID', b'int', 'NO', 'PRI', None, '')]"
      ]
     },
     "execution_count": 21,
     "metadata": {},
     "output_type": "execute_result"
    }
   ],
   "source": [
    "%%sql\n",
    "\n",
    "DESCRIBE supplier_to_product;"
   ]
  },
  {
   "cell_type": "code",
   "execution_count": 22,
   "id": "40086239",
   "metadata": {},
   "outputs": [
    {
     "name": "stdout",
     "output_type": "stream",
     "text": [
      " * mysql+mysqlconnector://root:***@db\n",
      "2 rows affected.\n"
     ]
    },
    {
     "data": {
      "text/html": [
       "<table>\n",
       "    <tr>\n",
       "        <th>supplierID</th>\n",
       "        <th>supplierName</th>\n",
       "        <th>countryCode</th>\n",
       "        <th>email</th>\n",
       "        <th>prodID</th>\n",
       "        <th>supID</th>\n",
       "    </tr>\n",
       "    <tr>\n",
       "        <td>1</td>\n",
       "        <td>A hop in the park</td>\n",
       "        <td>USA</td>\n",
       "        <td>anewemail@ahop.com</td>\n",
       "        <td>2</td>\n",
       "        <td>1</td>\n",
       "    </tr>\n",
       "    <tr>\n",
       "        <td>1</td>\n",
       "        <td>A hop in the park</td>\n",
       "        <td>USA</td>\n",
       "        <td>anewemail@ahop.com</td>\n",
       "        <td>3</td>\n",
       "        <td>1</td>\n",
       "    </tr>\n",
       "</table>"
      ],
      "text/plain": [
       "[(1, 'A hop in the park', 'USA', 'anewemail@ahop.com', 2, 1),\n",
       " (1, 'A hop in the park', 'USA', 'anewemail@ahop.com', 3, 1)]"
      ]
     },
     "execution_count": 22,
     "metadata": {},
     "output_type": "execute_result"
    }
   ],
   "source": [
    "%%sql\n",
    "\n",
    "SELECT *\n",
    "FROM suppliers, supplier_to_product\n",
    "WHERE suppliers.supplierID = supplier_to_product.supID;"
   ]
  },
  {
   "cell_type": "code",
   "execution_count": 23,
   "id": "61d90336",
   "metadata": {},
   "outputs": [
    {
     "name": "stdout",
     "output_type": "stream",
     "text": [
      " * mysql+mysqlconnector://root:***@db\n",
      "2 rows affected.\n"
     ]
    },
    {
     "data": {
      "text/html": [
       "<table>\n",
       "    <tr>\n",
       "        <th>supplierID</th>\n",
       "        <th>supplierName</th>\n",
       "        <th>countryCode</th>\n",
       "        <th>email</th>\n",
       "        <th>prodID</th>\n",
       "        <th>supID</th>\n",
       "    </tr>\n",
       "    <tr>\n",
       "        <td>1</td>\n",
       "        <td>A hop in the park</td>\n",
       "        <td>USA</td>\n",
       "        <td>anewemail@ahop.com</td>\n",
       "        <td>2</td>\n",
       "        <td>1</td>\n",
       "    </tr>\n",
       "    <tr>\n",
       "        <td>1</td>\n",
       "        <td>A hop in the park</td>\n",
       "        <td>USA</td>\n",
       "        <td>anewemail@ahop.com</td>\n",
       "        <td>3</td>\n",
       "        <td>1</td>\n",
       "    </tr>\n",
       "</table>"
      ],
      "text/plain": [
       "[(1, 'A hop in the park', 'USA', 'anewemail@ahop.com', 2, 1),\n",
       " (1, 'A hop in the park', 'USA', 'anewemail@ahop.com', 3, 1)]"
      ]
     },
     "execution_count": 23,
     "metadata": {},
     "output_type": "execute_result"
    }
   ],
   "source": [
    "%%sql\n",
    "\n",
    "SELECT *\n",
    "FROM suppliers\n",
    "INNER JOIN supplier_to_product ON suppliers.supplierID = supplier_to_product.supID;"
   ]
  },
  {
   "cell_type": "code",
   "execution_count": 24,
   "id": "beb373b1",
   "metadata": {},
   "outputs": [
    {
     "name": "stdout",
     "output_type": "stream",
     "text": [
      " * mysql+mysqlconnector://root:***@db\n",
      "5 rows affected.\n"
     ]
    },
    {
     "data": {
      "text/html": [
       "<table>\n",
       "    <tr>\n",
       "        <th>supplierID</th>\n",
       "        <th>supplierName</th>\n",
       "        <th>countryCode</th>\n",
       "        <th>email</th>\n",
       "        <th>prodID</th>\n",
       "        <th>supID</th>\n",
       "    </tr>\n",
       "    <tr>\n",
       "        <td>1</td>\n",
       "        <td>A hop in the park</td>\n",
       "        <td>USA</td>\n",
       "        <td>anewemail@ahop.com</td>\n",
       "        <td>2</td>\n",
       "        <td>1</td>\n",
       "    </tr>\n",
       "    <tr>\n",
       "        <td>1</td>\n",
       "        <td>A hop in the park</td>\n",
       "        <td>USA</td>\n",
       "        <td>anewemail@ahop.com</td>\n",
       "        <td>3</td>\n",
       "        <td>1</td>\n",
       "    </tr>\n",
       "    <tr>\n",
       "        <td>2</td>\n",
       "        <td>Allez Hops! Cave à bièr</td>\n",
       "        <td>FRA</td>\n",
       "        <td>itsme@allezhops.com</td>\n",
       "        <td>None</td>\n",
       "        <td>None</td>\n",
       "    </tr>\n",
       "    <tr>\n",
       "        <td>3</td>\n",
       "        <td>Wild Hops</td>\n",
       "        <td>ITA</td>\n",
       "        <td>myemail@wildhops.it</td>\n",
       "        <td>None</td>\n",
       "        <td>None</td>\n",
       "    </tr>\n",
       "    <tr>\n",
       "        <td>4</td>\n",
       "        <td>Beer Paradise</td>\n",
       "        <td>ITA</td>\n",
       "        <td>beer@beerparadise.it</td>\n",
       "        <td>None</td>\n",
       "        <td>None</td>\n",
       "    </tr>\n",
       "</table>"
      ],
      "text/plain": [
       "[(1, 'A hop in the park', 'USA', 'anewemail@ahop.com', 2, 1),\n",
       " (1, 'A hop in the park', 'USA', 'anewemail@ahop.com', 3, 1),\n",
       " (2, 'Allez Hops! Cave à bièr', 'FRA', 'itsme@allezhops.com', None, None),\n",
       " (3, 'Wild Hops', 'ITA', 'myemail@wildhops.it', None, None),\n",
       " (4, 'Beer Paradise', 'ITA', 'beer@beerparadise.it', None, None)]"
      ]
     },
     "execution_count": 24,
     "metadata": {},
     "output_type": "execute_result"
    }
   ],
   "source": [
    "%%sql\n",
    "\n",
    "SELECT *\n",
    "FROM suppliers\n",
    "LEFT JOIN supplier_to_product ON suppliers.supplierID = supplier_to_product.supID;"
   ]
  },
  {
   "cell_type": "code",
   "execution_count": 25,
   "id": "8ec58e74",
   "metadata": {},
   "outputs": [
    {
     "name": "stdout",
     "output_type": "stream",
     "text": [
      " * mysql+mysqlconnector://root:***@db\n",
      "2 rows affected.\n"
     ]
    },
    {
     "data": {
      "text/html": [
       "<table>\n",
       "    <tr>\n",
       "        <th>supplierID</th>\n",
       "        <th>supplierName</th>\n",
       "        <th>countryCode</th>\n",
       "        <th>email</th>\n",
       "        <th>prodID</th>\n",
       "        <th>supID</th>\n",
       "    </tr>\n",
       "    <tr>\n",
       "        <td>1</td>\n",
       "        <td>A hop in the park</td>\n",
       "        <td>USA</td>\n",
       "        <td>anewemail@ahop.com</td>\n",
       "        <td>2</td>\n",
       "        <td>1</td>\n",
       "    </tr>\n",
       "    <tr>\n",
       "        <td>1</td>\n",
       "        <td>A hop in the park</td>\n",
       "        <td>USA</td>\n",
       "        <td>anewemail@ahop.com</td>\n",
       "        <td>3</td>\n",
       "        <td>1</td>\n",
       "    </tr>\n",
       "</table>"
      ],
      "text/plain": [
       "[(1, 'A hop in the park', 'USA', 'anewemail@ahop.com', 2, 1),\n",
       " (1, 'A hop in the park', 'USA', 'anewemail@ahop.com', 3, 1)]"
      ]
     },
     "execution_count": 25,
     "metadata": {},
     "output_type": "execute_result"
    }
   ],
   "source": [
    "%%sql\n",
    "\n",
    "SELECT *\n",
    "FROM suppliers\n",
    "RIGHT JOIN supplier_to_product ON suppliers.supplierID = supplier_to_product.supID;"
   ]
  },
  {
   "cell_type": "markdown",
   "id": "caf6e72f",
   "metadata": {},
   "source": [
    "We can concatenate multiple join operations to extract higher level information out of the connections stored in the DB\n",
    "\n",
    "- Add the corresponding product names the the previous join"
   ]
  },
  {
   "cell_type": "code",
   "execution_count": 26,
   "id": "bcef0fc0",
   "metadata": {},
   "outputs": [
    {
     "name": "stdout",
     "output_type": "stream",
     "text": [
      " * mysql+mysqlconnector://root:***@db\n",
      "5 rows affected.\n"
     ]
    },
    {
     "data": {
      "text/html": [
       "<table>\n",
       "    <tr>\n",
       "        <th>Field</th>\n",
       "        <th>Type</th>\n",
       "        <th>Null</th>\n",
       "        <th>Key</th>\n",
       "        <th>Default</th>\n",
       "        <th>Extra</th>\n",
       "    </tr>\n",
       "    <tr>\n",
       "        <td>productID</td>\n",
       "        <td>b&#x27;int&#x27;</td>\n",
       "        <td>NO</td>\n",
       "        <td>PRI</td>\n",
       "        <td>None</td>\n",
       "        <td>auto_increment</td>\n",
       "    </tr>\n",
       "    <tr>\n",
       "        <td>productName</td>\n",
       "        <td>b&#x27;varchar(30)&#x27;</td>\n",
       "        <td>NO</td>\n",
       "        <td></td>\n",
       "        <td>b&#x27;&#x27;</td>\n",
       "        <td></td>\n",
       "    </tr>\n",
       "    <tr>\n",
       "        <td>unitPrice</td>\n",
       "        <td>b&#x27;float&#x27;</td>\n",
       "        <td>NO</td>\n",
       "        <td></td>\n",
       "        <td>b&#x27;100000&#x27;</td>\n",
       "        <td></td>\n",
       "    </tr>\n",
       "    <tr>\n",
       "        <td>unitsInStock</td>\n",
       "        <td>b&#x27;int unsigned&#x27;</td>\n",
       "        <td>NO</td>\n",
       "        <td></td>\n",
       "        <td>b&#x27;0&#x27;</td>\n",
       "        <td></td>\n",
       "    </tr>\n",
       "    <tr>\n",
       "        <td>isDiscontinued</td>\n",
       "        <td>b&#x27;tinyint(1)&#x27;</td>\n",
       "        <td>NO</td>\n",
       "        <td></td>\n",
       "        <td>b&#x27;0&#x27;</td>\n",
       "        <td></td>\n",
       "    </tr>\n",
       "</table>"
      ],
      "text/plain": [
       "[('productID', b'int', 'NO', 'PRI', None, 'auto_increment'),\n",
       " ('productName', b'varchar(30)', 'NO', '', b'', ''),\n",
       " ('unitPrice', b'float', 'NO', '', b'100000', ''),\n",
       " ('unitsInStock', b'int unsigned', 'NO', '', b'0', ''),\n",
       " ('isDiscontinued', b'tinyint(1)', 'NO', '', b'0', '')]"
      ]
     },
     "execution_count": 26,
     "metadata": {},
     "output_type": "execute_result"
    }
   ],
   "source": [
    "%%sql\n",
    "\n",
    "DESCRIBE products;"
   ]
  },
  {
   "cell_type": "code",
   "execution_count": null,
   "id": "48a34de8",
   "metadata": {},
   "outputs": [],
   "source": [
    "%%sql\n",
    "\n",
    "SELECT *\n",
    "FROM supplier_to_product\n",
    "INNER JOIN suppliers ON suppliers.supplierID = supplier_to_product.supID\n",
    "INNER JOIN products  ON products.productID   = supplier_to_product.prodID;"
   ]
  },
  {
   "cell_type": "markdown",
   "id": "bdc02965",
   "metadata": {},
   "source": [
    "The conjunction of `SELECT`, `GROUP BY` and `JOIN` statements will allow us to extract non trivial information out of any Relational DB.\n",
    "\n",
    "Add the following records to the `supplier_to_product` table and perform the following queries:\n",
    "    \n",
    "| supplier | products provided |\n",
    "| --- | --- | \n",
    "| \"Wild Hops\" | \"Founders Porter\", \"Punk IPA\", \"HB Dunkel\", \"Damm Complot\" |    \n",
    "| \"Beer Paradise\" | \"Punk IPA\", \"Damm Complot\" |    \n",
    "| \"Allez Hops! Cave à bièr\" | \"Founders Porter\", \"HB Dunkel\" |    \n",
    "\n",
    "1. show all suppliers of \"Damm Complot\"\n",
    "2. retrieve the email address of all possible suppliers of \"Punk IPA\"\n",
    "3. list the unit price of all products supplied by Italian firms, listed in descending order   "
   ]
  },
  {
   "cell_type": "code",
   "execution_count": 30,
   "id": "ad26de62",
   "metadata": {},
   "outputs": [],
   "source": [
    "dbc.execute(\"USE my_db\")"
   ]
  },
  {
   "cell_type": "code",
   "execution_count": 31,
   "id": "54705bcd",
   "metadata": {},
   "outputs": [
    {
     "name": "stdout",
     "output_type": "stream",
     "text": [
      "(2, 1)\n",
      "(3, 1)\n",
      "(1, 2)\n",
      "(3, 2)\n",
      "(1, 3)\n",
      "(2, 3)\n",
      "(3, 3)\n",
      "(5, 3)\n",
      "(2, 4)\n",
      "(5, 4)\n"
     ]
    }
   ],
   "source": [
    "sql_ = \"INSERT INTO supplier_to_product (prodID, supID) VALUES (%s, %s)\"\n",
    "val_ = [\n",
    "    # supplier Allez Hops\n",
    "    (1, 2),\n",
    "    (3, 2),\n",
    "\n",
    "    # supplier Wild Hops\n",
    "    (1, 3),\n",
    "    (2, 3),\n",
    "    (3, 3),\n",
    "    (5, 3),\n",
    "\n",
    "    # supplier Beer Paradise\n",
    "    (2, 4),\n",
    "    (5, 4),\n",
    "]\n",
    "\n",
    "\n",
    "dbc.executemany(sql_, val_)\n",
    "db.commit()\n",
    "     \n",
    "dbc.execute(\"SELECT * FROM supplier_to_product\"); \n",
    "for _ in dbc:\n",
    "     print(_)"
   ]
  },
  {
   "cell_type": "markdown",
   "id": "5c00a32b",
   "metadata": {},
   "source": [
    "#### 1 - show all suppliers of \"Damm Complot\""
   ]
  },
  {
   "cell_type": "code",
   "execution_count": 32,
   "id": "f5a5c7b1",
   "metadata": {},
   "outputs": [
    {
     "name": "stdout",
     "output_type": "stream",
     "text": [
      " * mysql+mysqlconnector://root:***@db\n",
      "2 rows affected.\n"
     ]
    },
    {
     "data": {
      "text/html": [
       "<table>\n",
       "    <tr>\n",
       "        <th>supplierName</th>\n",
       "    </tr>\n",
       "    <tr>\n",
       "        <td>Wild Hops</td>\n",
       "    </tr>\n",
       "    <tr>\n",
       "        <td>Beer Paradise</td>\n",
       "    </tr>\n",
       "</table>"
      ],
      "text/plain": [
       "[('Wild Hops',), ('Beer Paradise',)]"
      ]
     },
     "execution_count": 32,
     "metadata": {},
     "output_type": "execute_result"
    }
   ],
   "source": [
    "%%sql\n",
    "\n",
    "SELECT suppliers.supplierName\n",
    "FROM supplier_to_product\n",
    "INNER JOIN suppliers ON supplier_to_product.supID = suppliers.supplierID\n",
    "INNER JOIN products ON supplier_to_product.prodID = products.productID\n",
    "WHERE products.productName = \"Damm Complot\";"
   ]
  },
  {
   "cell_type": "markdown",
   "id": "c98de550",
   "metadata": {},
   "source": [
    "#### 2 - retrieve the email address of all possible suppliers of \"Punk IPA\""
   ]
  },
  {
   "cell_type": "code",
   "execution_count": 33,
   "id": "539cc19f",
   "metadata": {
    "scrolled": true
   },
   "outputs": [
    {
     "name": "stdout",
     "output_type": "stream",
     "text": [
      " * mysql+mysqlconnector://root:***@db\n",
      "3 rows affected.\n"
     ]
    },
    {
     "data": {
      "text/html": [
       "<table>\n",
       "    <tr>\n",
       "        <th>email</th>\n",
       "    </tr>\n",
       "    <tr>\n",
       "        <td>anewemail@ahop.com</td>\n",
       "    </tr>\n",
       "    <tr>\n",
       "        <td>myemail@wildhops.it</td>\n",
       "    </tr>\n",
       "    <tr>\n",
       "        <td>beer@beerparadise.it</td>\n",
       "    </tr>\n",
       "</table>"
      ],
      "text/plain": [
       "[('anewemail@ahop.com',), ('myemail@wildhops.it',), ('beer@beerparadise.it',)]"
      ]
     },
     "execution_count": 33,
     "metadata": {},
     "output_type": "execute_result"
    }
   ],
   "source": [
    "%%sql\n",
    "\n",
    "SELECT suppliers.email \n",
    "FROM supplier_to_product\n",
    "INNER JOIN suppliers ON supplier_to_product.supID = suppliers.supplierID\n",
    "INNER JOIN products ON supplier_to_product.prodID = products.productID\n",
    "WHERE products.productName = \"Punk IPA\";"
   ]
  },
  {
   "cell_type": "markdown",
   "id": "2a352e19",
   "metadata": {},
   "source": [
    "#### 3 - list the unit price of all products supplied by Italian firms, listed in descending order   "
   ]
  },
  {
   "cell_type": "code",
   "execution_count": 34,
   "id": "4e189810",
   "metadata": {},
   "outputs": [
    {
     "name": "stdout",
     "output_type": "stream",
     "text": [
      " * mysql+mysqlconnector://root:***@db\n",
      "4 rows affected.\n"
     ]
    },
    {
     "data": {
      "text/html": [
       "<table>\n",
       "    <tr>\n",
       "        <th>unitPrice</th>\n",
       "        <th>productName</th>\n",
       "    </tr>\n",
       "    <tr>\n",
       "        <td>5.2</td>\n",
       "        <td>Punk IPA</td>\n",
       "    </tr>\n",
       "    <tr>\n",
       "        <td>4.9</td>\n",
       "        <td>Founders Porter</td>\n",
       "    </tr>\n",
       "    <tr>\n",
       "        <td>4.5</td>\n",
       "        <td>HB Dunkel</td>\n",
       "    </tr>\n",
       "    <tr>\n",
       "        <td>3.7</td>\n",
       "        <td>Damm Complot</td>\n",
       "    </tr>\n",
       "</table>"
      ],
      "text/plain": [
       "[(5.2, 'Punk IPA'),\n",
       " (4.9, 'Founders Porter'),\n",
       " (4.5, 'HB Dunkel'),\n",
       " (3.7, 'Damm Complot')]"
      ]
     },
     "execution_count": 34,
     "metadata": {},
     "output_type": "execute_result"
    }
   ],
   "source": [
    "%%sql\n",
    "\n",
    "SELECT DISTINCT products.unitPrice, products.productName\n",
    "FROM supplier_to_product\n",
    "INNER JOIN suppliers ON supplier_to_product.supID = suppliers.supplierID\n",
    "INNER JOIN products ON supplier_to_product.prodID = products.productID\n",
    "WHERE suppliers.countryCode = \"ITA\"\n",
    "ORDER BY unitPrice DESC;"
   ]
  },
  {
   "cell_type": "markdown",
   "id": "213be6c6",
   "metadata": {},
   "source": [
    "## 05 Queries on well-formed DBs\n",
    "\n",
    "In MySQL we can load entire DBs from external files.\n",
    "\n",
    "The files will contain the full DB structure (tables and constraints) and will populate all tables with all records \n",
    "\n",
    "To load a DB into the MySQL server from the interactive docker shell, we can simply do the following:\n",
    "\n",
    "1. Create a new DB named `world`\n",
    "2. Import the content of the file `/mapd-workspace/dbs/world.sql` into the newly created DB via\n",
    "    \n",
    "```bash\n",
    "$ mysql -u root -p world < /mapd-workspace/dbs/world.sql\n",
    "```\n",
    "\n",
    "_NB_: The `opt/workspace` directory has been defined as a Docker Volume, and is a shared location with your computer..."
   ]
  },
  {
   "cell_type": "markdown",
   "id": "33389e65",
   "metadata": {},
   "source": [
    "Using the `world` DB, perform queries to answer the folliwing questions.\n",
    "\n",
    "Additional references can be found here https://dev.mysql.com/doc/world-setup/en/\n",
    "\n",
    "\n",
    "Use a single query to answer the questions\n",
    "\n",
    "1. Which country has the largest population?\n",
    "2. Get the total number of cities in Canada.\n",
    "3. Select the country with the most cities.\n",
    "4. List all the languages spoken in the Southeast Asia region.\n",
    "5. Identify the 5 most spoken language by number of countries.\n",
    "6. What is the total population of the cities in the Caribbean region?\n",
    "7. What Countries have a City named \"Kingston\"?\n",
    "8. Plot the population density by country, limiting to the 25 with least density.\n",
    "9. Plot the GNP (Gross Nation Product) of all countries that become independent between 1850 and 1910, limiting to the 10 with highest GNP.\n",
    "10. Create a scatter plot of the life expentency vs the GNP of all countries that have Spanish as their Official language.\n",
    "\n",
    "\n",
    "Suggestions:\n",
    "- Start by inspecting the DB tables structure\n",
    "- When in doubt, check the table content by selecting a few lines (use `LIMIT` to avoid returining all records)\n",
    "- Before finalizing the query, you can always perform \"intermediate\" queries to check if complex operations (groupby and join mostly) are stated correctly"
   ]
  },
  {
   "cell_type": "code",
   "execution_count": 17,
   "id": "55584aaf",
   "metadata": {},
   "outputs": [
    {
     "name": "stdout",
     "output_type": "stream",
     "text": [
      " * mysql+mysqlconnector://root:***@db\n",
      "0 rows affected.\n",
      "3 rows affected.\n"
     ]
    },
    {
     "data": {
      "text/html": [
       "<table>\n",
       "    <tr>\n",
       "        <th>Tables_in_world</th>\n",
       "    </tr>\n",
       "    <tr>\n",
       "        <td>city</td>\n",
       "    </tr>\n",
       "    <tr>\n",
       "        <td>country</td>\n",
       "    </tr>\n",
       "    <tr>\n",
       "        <td>countrylanguage</td>\n",
       "    </tr>\n",
       "</table>"
      ],
      "text/plain": [
       "[('city',), ('country',), ('countrylanguage',)]"
      ]
     },
     "execution_count": 17,
     "metadata": {},
     "output_type": "execute_result"
    }
   ],
   "source": [
    "%%sql\n",
    "\n",
    "USE world; \n",
    "\n",
    "SHOW TABLES;\n"
   ]
  },
  {
   "cell_type": "markdown",
   "id": "962bf1c9",
   "metadata": {},
   "source": [
    "#### 1 - Which country has the largest population?"
   ]
  },
  {
   "cell_type": "code",
   "execution_count": 19,
   "id": "82ba1e41",
   "metadata": {},
   "outputs": [
    {
     "name": "stdout",
     "output_type": "stream",
     "text": [
      " * mysql+mysqlconnector://root:***@db\n",
      "1 rows affected.\n"
     ]
    },
    {
     "data": {
      "text/html": [
       "<table>\n",
       "    <tr>\n",
       "        <th>name</th>\n",
       "        <th>population</th>\n",
       "    </tr>\n",
       "    <tr>\n",
       "        <td>China</td>\n",
       "        <td>1277558000</td>\n",
       "    </tr>\n",
       "</table>"
      ],
      "text/plain": [
       "[('China', 1277558000)]"
      ]
     },
     "execution_count": 19,
     "metadata": {},
     "output_type": "execute_result"
    }
   ],
   "source": [
    "%%sql \n",
    "\n",
    "SELECT name, population  \n",
    "FROM country\n",
    "ORDER BY  population  DESC\n",
    "LIMIT 1;"
   ]
  },
  {
   "cell_type": "markdown",
   "id": "132f54ba",
   "metadata": {},
   "source": [
    "#### 2 - Get the total number of cities in Canada."
   ]
  },
  {
   "cell_type": "code",
   "execution_count": 20,
   "id": "81c42139",
   "metadata": {},
   "outputs": [
    {
     "name": "stdout",
     "output_type": "stream",
     "text": [
      " * mysql+mysqlconnector://root:***@db\n",
      "5 rows affected.\n"
     ]
    },
    {
     "data": {
      "text/html": [
       "<table>\n",
       "    <tr>\n",
       "        <th>Field</th>\n",
       "        <th>Type</th>\n",
       "        <th>Null</th>\n",
       "        <th>Key</th>\n",
       "        <th>Default</th>\n",
       "        <th>Extra</th>\n",
       "    </tr>\n",
       "    <tr>\n",
       "        <td>ID</td>\n",
       "        <td>b&#x27;int&#x27;</td>\n",
       "        <td>NO</td>\n",
       "        <td>PRI</td>\n",
       "        <td>None</td>\n",
       "        <td>auto_increment</td>\n",
       "    </tr>\n",
       "    <tr>\n",
       "        <td>Name</td>\n",
       "        <td>b&#x27;char(35)&#x27;</td>\n",
       "        <td>NO</td>\n",
       "        <td></td>\n",
       "        <td>b&#x27;&#x27;</td>\n",
       "        <td></td>\n",
       "    </tr>\n",
       "    <tr>\n",
       "        <td>CountryCode</td>\n",
       "        <td>b&#x27;char(3)&#x27;</td>\n",
       "        <td>NO</td>\n",
       "        <td>MUL</td>\n",
       "        <td>b&#x27;&#x27;</td>\n",
       "        <td></td>\n",
       "    </tr>\n",
       "    <tr>\n",
       "        <td>District</td>\n",
       "        <td>b&#x27;char(20)&#x27;</td>\n",
       "        <td>NO</td>\n",
       "        <td></td>\n",
       "        <td>b&#x27;&#x27;</td>\n",
       "        <td></td>\n",
       "    </tr>\n",
       "    <tr>\n",
       "        <td>Population</td>\n",
       "        <td>b&#x27;int&#x27;</td>\n",
       "        <td>NO</td>\n",
       "        <td></td>\n",
       "        <td>b&#x27;0&#x27;</td>\n",
       "        <td></td>\n",
       "    </tr>\n",
       "</table>"
      ],
      "text/plain": [
       "[('ID', b'int', 'NO', 'PRI', None, 'auto_increment'),\n",
       " ('Name', b'char(35)', 'NO', '', b'', ''),\n",
       " ('CountryCode', b'char(3)', 'NO', 'MUL', b'', ''),\n",
       " ('District', b'char(20)', 'NO', '', b'', ''),\n",
       " ('Population', b'int', 'NO', '', b'0', '')]"
      ]
     },
     "execution_count": 20,
     "metadata": {},
     "output_type": "execute_result"
    }
   ],
   "source": [
    "%%sql \n",
    "DESCRIBE city;"
   ]
  },
  {
   "cell_type": "code",
   "execution_count": 21,
   "id": "221ca3ab",
   "metadata": {},
   "outputs": [
    {
     "name": "stdout",
     "output_type": "stream",
     "text": [
      " * mysql+mysqlconnector://root:***@db\n",
      "1 rows affected.\n"
     ]
    },
    {
     "data": {
      "text/html": [
       "<table>\n",
       "    <tr>\n",
       "        <th>CitiesInCanada</th>\n",
       "    </tr>\n",
       "    <tr>\n",
       "        <td>49</td>\n",
       "    </tr>\n",
       "</table>"
      ],
      "text/plain": [
       "[(49,)]"
      ]
     },
     "execution_count": 21,
     "metadata": {},
     "output_type": "execute_result"
    }
   ],
   "source": [
    "%%sql \n",
    "\n",
    "SELECT COUNT(name) AS CitiesInCanada\n",
    "FROM city\n",
    "WHERE(CountryCode='CAN');"
   ]
  },
  {
   "cell_type": "markdown",
   "id": "3aa6bf99",
   "metadata": {},
   "source": [
    "#### 3 - Select the country with the most cities."
   ]
  },
  {
   "cell_type": "code",
   "execution_count": 25,
   "id": "d934f4d9",
   "metadata": {},
   "outputs": [
    {
     "name": "stdout",
     "output_type": "stream",
     "text": [
      " * mysql+mysqlconnector://root:***@db\n",
      "10 rows affected.\n"
     ]
    },
    {
     "data": {
      "text/html": [
       "<table>\n",
       "    <tr>\n",
       "        <th>CityCount</th>\n",
       "        <th>CountryCode</th>\n",
       "    </tr>\n",
       "    <tr>\n",
       "        <td>363</td>\n",
       "        <td>CHN</td>\n",
       "    </tr>\n",
       "    <tr>\n",
       "        <td>341</td>\n",
       "        <td>IND</td>\n",
       "    </tr>\n",
       "    <tr>\n",
       "        <td>274</td>\n",
       "        <td>USA</td>\n",
       "    </tr>\n",
       "    <tr>\n",
       "        <td>250</td>\n",
       "        <td>BRA</td>\n",
       "    </tr>\n",
       "    <tr>\n",
       "        <td>248</td>\n",
       "        <td>JPN</td>\n",
       "    </tr>\n",
       "    <tr>\n",
       "        <td>189</td>\n",
       "        <td>RUS</td>\n",
       "    </tr>\n",
       "    <tr>\n",
       "        <td>173</td>\n",
       "        <td>MEX</td>\n",
       "    </tr>\n",
       "    <tr>\n",
       "        <td>136</td>\n",
       "        <td>PHL</td>\n",
       "    </tr>\n",
       "    <tr>\n",
       "        <td>93</td>\n",
       "        <td>DEU</td>\n",
       "    </tr>\n",
       "    <tr>\n",
       "        <td>85</td>\n",
       "        <td>IDN</td>\n",
       "    </tr>\n",
       "</table>"
      ],
      "text/plain": [
       "[(363, 'CHN'),\n",
       " (341, 'IND'),\n",
       " (274, 'USA'),\n",
       " (250, 'BRA'),\n",
       " (248, 'JPN'),\n",
       " (189, 'RUS'),\n",
       " (173, 'MEX'),\n",
       " (136, 'PHL'),\n",
       " (93, 'DEU'),\n",
       " (85, 'IDN')]"
      ]
     },
     "execution_count": 25,
     "metadata": {},
     "output_type": "execute_result"
    }
   ],
   "source": [
    "%%sql \n",
    "\n",
    "SELECT COUNT(CountryCode) AS CityCount, CountryCode\n",
    "FROM city\n",
    "GROUP BY CountryCode\n",
    "ORDER BY CityCount DESC\n",
    "LIMIT 10;"
   ]
  },
  {
   "cell_type": "markdown",
   "id": "ede586ff",
   "metadata": {},
   "source": [
    "#### 4 - List all the languages spoken in the 'Southeast Asia' region."
   ]
  },
  {
   "cell_type": "code",
   "execution_count": 23,
   "id": "81bf9139",
   "metadata": {},
   "outputs": [
    {
     "name": "stdout",
     "output_type": "stream",
     "text": [
      " * mysql+mysqlconnector://root:***@db\n",
      "4 rows affected.\n"
     ]
    },
    {
     "data": {
      "text/html": [
       "<table>\n",
       "    <tr>\n",
       "        <th>Field</th>\n",
       "        <th>Type</th>\n",
       "        <th>Null</th>\n",
       "        <th>Key</th>\n",
       "        <th>Default</th>\n",
       "        <th>Extra</th>\n",
       "    </tr>\n",
       "    <tr>\n",
       "        <td>CountryCode</td>\n",
       "        <td>b&#x27;char(3)&#x27;</td>\n",
       "        <td>NO</td>\n",
       "        <td>PRI</td>\n",
       "        <td>b&#x27;&#x27;</td>\n",
       "        <td></td>\n",
       "    </tr>\n",
       "    <tr>\n",
       "        <td>Language</td>\n",
       "        <td>b&#x27;char(30)&#x27;</td>\n",
       "        <td>NO</td>\n",
       "        <td>PRI</td>\n",
       "        <td>b&#x27;&#x27;</td>\n",
       "        <td></td>\n",
       "    </tr>\n",
       "    <tr>\n",
       "        <td>IsOfficial</td>\n",
       "        <td>b&quot;enum(&#x27;T&#x27;,&#x27;F&#x27;)&quot;</td>\n",
       "        <td>NO</td>\n",
       "        <td></td>\n",
       "        <td>b&#x27;F&#x27;</td>\n",
       "        <td></td>\n",
       "    </tr>\n",
       "    <tr>\n",
       "        <td>Percentage</td>\n",
       "        <td>b&#x27;decimal(4,1)&#x27;</td>\n",
       "        <td>NO</td>\n",
       "        <td></td>\n",
       "        <td>b&#x27;0.0&#x27;</td>\n",
       "        <td></td>\n",
       "    </tr>\n",
       "</table>"
      ],
      "text/plain": [
       "[('CountryCode', b'char(3)', 'NO', 'PRI', b'', ''),\n",
       " ('Language', b'char(30)', 'NO', 'PRI', b'', ''),\n",
       " ('IsOfficial', b\"enum('T','F')\", 'NO', '', b'F', ''),\n",
       " ('Percentage', b'decimal(4,1)', 'NO', '', b'0.0', '')]"
      ]
     },
     "execution_count": 23,
     "metadata": {},
     "output_type": "execute_result"
    }
   ],
   "source": [
    "%%sql \n",
    "DESCRIBE countrylanguage"
   ]
  },
  {
   "cell_type": "code",
   "execution_count": 44,
   "id": "cdbcecc3",
   "metadata": {},
   "outputs": [
    {
     "name": "stdout",
     "output_type": "stream",
     "text": [
      " * mysql+mysqlconnector://root:***@db\n",
      "47 rows affected.\n"
     ]
    },
    {
     "data": {
      "text/html": [
       "<table>\n",
       "    <tr>\n",
       "        <th>Language</th>\n",
       "    </tr>\n",
       "    <tr>\n",
       "        <td>Bali</td>\n",
       "    </tr>\n",
       "    <tr>\n",
       "        <td>Banja</td>\n",
       "    </tr>\n",
       "    <tr>\n",
       "        <td>Batakki</td>\n",
       "    </tr>\n",
       "    <tr>\n",
       "        <td>Bicol</td>\n",
       "    </tr>\n",
       "    <tr>\n",
       "        <td>Bugi</td>\n",
       "    </tr>\n",
       "    <tr>\n",
       "        <td>Burmese</td>\n",
       "    </tr>\n",
       "    <tr>\n",
       "        <td>Cebuano</td>\n",
       "    </tr>\n",
       "    <tr>\n",
       "        <td>Chin</td>\n",
       "    </tr>\n",
       "    <tr>\n",
       "        <td>Chinese</td>\n",
       "    </tr>\n",
       "    <tr>\n",
       "        <td>Dusun</td>\n",
       "    </tr>\n",
       "    <tr>\n",
       "        <td>English</td>\n",
       "    </tr>\n",
       "    <tr>\n",
       "        <td>Hiligaynon</td>\n",
       "    </tr>\n",
       "    <tr>\n",
       "        <td>Iban</td>\n",
       "    </tr>\n",
       "    <tr>\n",
       "        <td>Ilocano</td>\n",
       "    </tr>\n",
       "    <tr>\n",
       "        <td>Javanese</td>\n",
       "    </tr>\n",
       "    <tr>\n",
       "        <td>Kachin</td>\n",
       "    </tr>\n",
       "    <tr>\n",
       "        <td>Karen</td>\n",
       "    </tr>\n",
       "    <tr>\n",
       "        <td>Kayah</td>\n",
       "    </tr>\n",
       "    <tr>\n",
       "        <td>Khmer</td>\n",
       "    </tr>\n",
       "    <tr>\n",
       "        <td>Kuy</td>\n",
       "    </tr>\n",
       "    <tr>\n",
       "        <td>Lao</td>\n",
       "    </tr>\n",
       "    <tr>\n",
       "        <td>Lao-Soung</td>\n",
       "    </tr>\n",
       "    <tr>\n",
       "        <td>Madura</td>\n",
       "    </tr>\n",
       "    <tr>\n",
       "        <td>Maguindanao</td>\n",
       "    </tr>\n",
       "    <tr>\n",
       "        <td>Malay</td>\n",
       "    </tr>\n",
       "    <tr>\n",
       "        <td>Malay-English</td>\n",
       "    </tr>\n",
       "    <tr>\n",
       "        <td>Man</td>\n",
       "    </tr>\n",
       "    <tr>\n",
       "        <td>Maranao</td>\n",
       "    </tr>\n",
       "    <tr>\n",
       "        <td>Miao</td>\n",
       "    </tr>\n",
       "    <tr>\n",
       "        <td>Minangkabau</td>\n",
       "    </tr>\n",
       "    <tr>\n",
       "        <td>Mon</td>\n",
       "    </tr>\n",
       "    <tr>\n",
       "        <td>Mon-khmer</td>\n",
       "    </tr>\n",
       "    <tr>\n",
       "        <td>Muong</td>\n",
       "    </tr>\n",
       "    <tr>\n",
       "        <td>Nung</td>\n",
       "    </tr>\n",
       "    <tr>\n",
       "        <td>Pampango</td>\n",
       "    </tr>\n",
       "    <tr>\n",
       "        <td>Pangasinan</td>\n",
       "    </tr>\n",
       "    <tr>\n",
       "        <td>Pilipino</td>\n",
       "    </tr>\n",
       "    <tr>\n",
       "        <td>Portuguese</td>\n",
       "    </tr>\n",
       "    <tr>\n",
       "        <td>Rakhine</td>\n",
       "    </tr>\n",
       "    <tr>\n",
       "        <td>Shan</td>\n",
       "    </tr>\n",
       "    <tr>\n",
       "        <td>Sunda</td>\n",
       "    </tr>\n",
       "    <tr>\n",
       "        <td>Tamil</td>\n",
       "    </tr>\n",
       "    <tr>\n",
       "        <td>Thai</td>\n",
       "    </tr>\n",
       "    <tr>\n",
       "        <td>Tho</td>\n",
       "    </tr>\n",
       "    <tr>\n",
       "        <td>Tšam</td>\n",
       "    </tr>\n",
       "    <tr>\n",
       "        <td>Vietnamese</td>\n",
       "    </tr>\n",
       "    <tr>\n",
       "        <td>Waray-waray</td>\n",
       "    </tr>\n",
       "</table>"
      ],
      "text/plain": [
       "[('Bali',),\n",
       " ('Banja',),\n",
       " ('Batakki',),\n",
       " ('Bicol',),\n",
       " ('Bugi',),\n",
       " ('Burmese',),\n",
       " ('Cebuano',),\n",
       " ('Chin',),\n",
       " ('Chinese',),\n",
       " ('Dusun',),\n",
       " ('English',),\n",
       " ('Hiligaynon',),\n",
       " ('Iban',),\n",
       " ('Ilocano',),\n",
       " ('Javanese',),\n",
       " ('Kachin',),\n",
       " ('Karen',),\n",
       " ('Kayah',),\n",
       " ('Khmer',),\n",
       " ('Kuy',),\n",
       " ('Lao',),\n",
       " ('Lao-Soung',),\n",
       " ('Madura',),\n",
       " ('Maguindanao',),\n",
       " ('Malay',),\n",
       " ('Malay-English',),\n",
       " ('Man',),\n",
       " ('Maranao',),\n",
       " ('Miao',),\n",
       " ('Minangkabau',),\n",
       " ('Mon',),\n",
       " ('Mon-khmer',),\n",
       " ('Muong',),\n",
       " ('Nung',),\n",
       " ('Pampango',),\n",
       " ('Pangasinan',),\n",
       " ('Pilipino',),\n",
       " ('Portuguese',),\n",
       " ('Rakhine',),\n",
       " ('Shan',),\n",
       " ('Sunda',),\n",
       " ('Tamil',),\n",
       " ('Thai',),\n",
       " ('Tho',),\n",
       " ('Tšam',),\n",
       " ('Vietnamese',),\n",
       " ('Waray-waray',)]"
      ]
     },
     "execution_count": 44,
     "metadata": {},
     "output_type": "execute_result"
    }
   ],
   "source": [
    "%%sql\n",
    "\n",
    "SELECT DISTINCT L.Language\n",
    "FROM countrylanguage L\n",
    "INNER JOIN country C ON C.Code=L.CountryCode\n",
    "WHERE(C.Region  = 'Southeast Asia')\n",
    "ORDER BY L.Language;"
   ]
  },
  {
   "cell_type": "markdown",
   "id": "e78c356c",
   "metadata": {},
   "source": [
    "#### 5 - Identify the 5 most spoken language by number of countries."
   ]
  },
  {
   "cell_type": "code",
   "execution_count": 48,
   "id": "f0a4bd62",
   "metadata": {},
   "outputs": [
    {
     "name": "stdout",
     "output_type": "stream",
     "text": [
      " * mysql+mysqlconnector://root:***@db\n",
      "10 rows affected.\n"
     ]
    },
    {
     "data": {
      "text/html": [
       "<table>\n",
       "    <tr>\n",
       "        <th>Language</th>\n",
       "        <th>COUNT(Language)</th>\n",
       "    </tr>\n",
       "    <tr>\n",
       "        <td>English</td>\n",
       "        <td>60</td>\n",
       "    </tr>\n",
       "    <tr>\n",
       "        <td>Arabic</td>\n",
       "        <td>33</td>\n",
       "    </tr>\n",
       "    <tr>\n",
       "        <td>Spanish</td>\n",
       "        <td>28</td>\n",
       "    </tr>\n",
       "    <tr>\n",
       "        <td>French</td>\n",
       "        <td>25</td>\n",
       "    </tr>\n",
       "    <tr>\n",
       "        <td>German</td>\n",
       "        <td>19</td>\n",
       "    </tr>\n",
       "    <tr>\n",
       "        <td>Chinese</td>\n",
       "        <td>19</td>\n",
       "    </tr>\n",
       "    <tr>\n",
       "        <td>Russian</td>\n",
       "        <td>17</td>\n",
       "    </tr>\n",
       "    <tr>\n",
       "        <td>Italian</td>\n",
       "        <td>15</td>\n",
       "    </tr>\n",
       "    <tr>\n",
       "        <td>Creole English</td>\n",
       "        <td>14</td>\n",
       "    </tr>\n",
       "    <tr>\n",
       "        <td>Portuguese</td>\n",
       "        <td>12</td>\n",
       "    </tr>\n",
       "</table>"
      ],
      "text/plain": [
       "[('English', 60),\n",
       " ('Arabic', 33),\n",
       " ('Spanish', 28),\n",
       " ('French', 25),\n",
       " ('German', 19),\n",
       " ('Chinese', 19),\n",
       " ('Russian', 17),\n",
       " ('Italian', 15),\n",
       " ('Creole English', 14),\n",
       " ('Portuguese', 12)]"
      ]
     },
     "execution_count": 48,
     "metadata": {},
     "output_type": "execute_result"
    }
   ],
   "source": [
    "%%sql\n",
    "\n",
    "SELECT Language, COUNT(Language)\n",
    "FROM countrylanguage\n",
    "GROUP BY Language\n",
    "ORDER BY COUNT(Language) DESC\n",
    "LIMIT 10;"
   ]
  },
  {
   "cell_type": "markdown",
   "id": "0c6bd462",
   "metadata": {},
   "source": [
    "#### 6 - What is the total population of the cities in the Caribbean region?"
   ]
  },
  {
   "cell_type": "code",
   "execution_count": 56,
   "id": "e9391107",
   "metadata": {},
   "outputs": [
    {
     "name": "stdout",
     "output_type": "stream",
     "text": [
      " * mysql+mysqlconnector://root:***@db\n",
      "58 rows affected.\n"
     ]
    },
    {
     "data": {
      "text/html": [
       "<table>\n",
       "    <tr>\n",
       "        <th>Name</th>\n",
       "        <th>Population</th>\n",
       "    </tr>\n",
       "    <tr>\n",
       "        <td>Oranjestad</td>\n",
       "        <td>29034</td>\n",
       "    </tr>\n",
       "    <tr>\n",
       "        <td>South Hill</td>\n",
       "        <td>961</td>\n",
       "    </tr>\n",
       "    <tr>\n",
       "        <td>The Valley</td>\n",
       "        <td>595</td>\n",
       "    </tr>\n",
       "    <tr>\n",
       "        <td>Willemstad</td>\n",
       "        <td>2345</td>\n",
       "    </tr>\n",
       "    <tr>\n",
       "        <td>Saint John´s</td>\n",
       "        <td>24000</td>\n",
       "    </tr>\n",
       "    <tr>\n",
       "        <td>Nassau</td>\n",
       "        <td>172000</td>\n",
       "    </tr>\n",
       "    <tr>\n",
       "        <td>Bridgetown</td>\n",
       "        <td>6070</td>\n",
       "    </tr>\n",
       "    <tr>\n",
       "        <td>La Habana</td>\n",
       "        <td>2256000</td>\n",
       "    </tr>\n",
       "    <tr>\n",
       "        <td>Santiago de Cuba</td>\n",
       "        <td>433180</td>\n",
       "    </tr>\n",
       "    <tr>\n",
       "        <td>Camagüey</td>\n",
       "        <td>298726</td>\n",
       "    </tr>\n",
       "    <tr>\n",
       "        <td>Holguín</td>\n",
       "        <td>249492</td>\n",
       "    </tr>\n",
       "    <tr>\n",
       "        <td>Santa Clara</td>\n",
       "        <td>207350</td>\n",
       "    </tr>\n",
       "    <tr>\n",
       "        <td>Guantánamo</td>\n",
       "        <td>205078</td>\n",
       "    </tr>\n",
       "    <tr>\n",
       "        <td>Pinar del Río</td>\n",
       "        <td>142100</td>\n",
       "    </tr>\n",
       "    <tr>\n",
       "        <td>Bayamo</td>\n",
       "        <td>141000</td>\n",
       "    </tr>\n",
       "    <tr>\n",
       "        <td>Cienfuegos</td>\n",
       "        <td>132770</td>\n",
       "    </tr>\n",
       "    <tr>\n",
       "        <td>Victoria de las Tunas</td>\n",
       "        <td>132350</td>\n",
       "    </tr>\n",
       "    <tr>\n",
       "        <td>Matanzas</td>\n",
       "        <td>123273</td>\n",
       "    </tr>\n",
       "    <tr>\n",
       "        <td>Manzanillo</td>\n",
       "        <td>109350</td>\n",
       "    </tr>\n",
       "    <tr>\n",
       "        <td>Sancti-Spíritus</td>\n",
       "        <td>100751</td>\n",
       "    </tr>\n",
       "    <tr>\n",
       "        <td>Ciego de Ávila</td>\n",
       "        <td>98505</td>\n",
       "    </tr>\n",
       "    <tr>\n",
       "        <td>George Town</td>\n",
       "        <td>19600</td>\n",
       "    </tr>\n",
       "    <tr>\n",
       "        <td>Roseau</td>\n",
       "        <td>16243</td>\n",
       "    </tr>\n",
       "    <tr>\n",
       "        <td>Santo Domingo de Guzmán</td>\n",
       "        <td>1609966</td>\n",
       "    </tr>\n",
       "    <tr>\n",
       "        <td>Santiago de los Caballeros</td>\n",
       "        <td>365463</td>\n",
       "    </tr>\n",
       "    <tr>\n",
       "        <td>La Romana</td>\n",
       "        <td>140204</td>\n",
       "    </tr>\n",
       "    <tr>\n",
       "        <td>San Pedro de Macorís</td>\n",
       "        <td>124735</td>\n",
       "    </tr>\n",
       "    <tr>\n",
       "        <td>San Francisco de Macorís</td>\n",
       "        <td>108485</td>\n",
       "    </tr>\n",
       "    <tr>\n",
       "        <td>San Felipe de Puerto Plata</td>\n",
       "        <td>89423</td>\n",
       "    </tr>\n",
       "    <tr>\n",
       "        <td>Les Abymes</td>\n",
       "        <td>62947</td>\n",
       "    </tr>\n",
       "    <tr>\n",
       "        <td>Basse-Terre</td>\n",
       "        <td>12433</td>\n",
       "    </tr>\n",
       "    <tr>\n",
       "        <td>Saint George´s</td>\n",
       "        <td>4621</td>\n",
       "    </tr>\n",
       "    <tr>\n",
       "        <td>Port-au-Prince</td>\n",
       "        <td>884472</td>\n",
       "    </tr>\n",
       "    <tr>\n",
       "        <td>Carrefour</td>\n",
       "        <td>290204</td>\n",
       "    </tr>\n",
       "    <tr>\n",
       "        <td>Delmas</td>\n",
       "        <td>240429</td>\n",
       "    </tr>\n",
       "    <tr>\n",
       "        <td>Le-Cap-Haïtien</td>\n",
       "        <td>102233</td>\n",
       "    </tr>\n",
       "    <tr>\n",
       "        <td>Spanish Town</td>\n",
       "        <td>110379</td>\n",
       "    </tr>\n",
       "    <tr>\n",
       "        <td>Kingston</td>\n",
       "        <td>103962</td>\n",
       "    </tr>\n",
       "    <tr>\n",
       "        <td>Portmore</td>\n",
       "        <td>99799</td>\n",
       "    </tr>\n",
       "    <tr>\n",
       "        <td>Basseterre</td>\n",
       "        <td>11600</td>\n",
       "    </tr>\n",
       "    <tr>\n",
       "        <td>Castries</td>\n",
       "        <td>2301</td>\n",
       "    </tr>\n",
       "    <tr>\n",
       "        <td>Plymouth</td>\n",
       "        <td>2000</td>\n",
       "    </tr>\n",
       "    <tr>\n",
       "        <td>Fort-de-France</td>\n",
       "        <td>94050</td>\n",
       "    </tr>\n",
       "    <tr>\n",
       "        <td>San Juan</td>\n",
       "        <td>434374</td>\n",
       "    </tr>\n",
       "    <tr>\n",
       "        <td>Bayamón</td>\n",
       "        <td>224044</td>\n",
       "    </tr>\n",
       "    <tr>\n",
       "        <td>Ponce</td>\n",
       "        <td>186475</td>\n",
       "    </tr>\n",
       "    <tr>\n",
       "        <td>Carolina</td>\n",
       "        <td>186076</td>\n",
       "    </tr>\n",
       "    <tr>\n",
       "        <td>Caguas</td>\n",
       "        <td>140502</td>\n",
       "    </tr>\n",
       "    <tr>\n",
       "        <td>Arecibo</td>\n",
       "        <td>100131</td>\n",
       "    </tr>\n",
       "    <tr>\n",
       "        <td>Guaynabo</td>\n",
       "        <td>100053</td>\n",
       "    </tr>\n",
       "    <tr>\n",
       "        <td>Mayagüez</td>\n",
       "        <td>98434</td>\n",
       "    </tr>\n",
       "    <tr>\n",
       "        <td>Toa Baja</td>\n",
       "        <td>94085</td>\n",
       "    </tr>\n",
       "    <tr>\n",
       "        <td>Cockburn Town</td>\n",
       "        <td>4800</td>\n",
       "    </tr>\n",
       "    <tr>\n",
       "        <td>Chaguanas</td>\n",
       "        <td>56601</td>\n",
       "    </tr>\n",
       "    <tr>\n",
       "        <td>Port-of-Spain</td>\n",
       "        <td>43396</td>\n",
       "    </tr>\n",
       "    <tr>\n",
       "        <td>Kingstown</td>\n",
       "        <td>17100</td>\n",
       "    </tr>\n",
       "    <tr>\n",
       "        <td>Road Town</td>\n",
       "        <td>8000</td>\n",
       "    </tr>\n",
       "    <tr>\n",
       "        <td>Charlotte Amalie</td>\n",
       "        <td>13000</td>\n",
       "    </tr>\n",
       "</table>"
      ],
      "text/plain": [
       "[('Oranjestad', 29034),\n",
       " ('South Hill', 961),\n",
       " ('The Valley', 595),\n",
       " ('Willemstad', 2345),\n",
       " ('Saint John´s', 24000),\n",
       " ('Nassau', 172000),\n",
       " ('Bridgetown', 6070),\n",
       " ('La Habana', 2256000),\n",
       " ('Santiago de Cuba', 433180),\n",
       " ('Camagüey', 298726),\n",
       " ('Holguín', 249492),\n",
       " ('Santa Clara', 207350),\n",
       " ('Guantánamo', 205078),\n",
       " ('Pinar del Río', 142100),\n",
       " ('Bayamo', 141000),\n",
       " ('Cienfuegos', 132770),\n",
       " ('Victoria de las Tunas', 132350),\n",
       " ('Matanzas', 123273),\n",
       " ('Manzanillo', 109350),\n",
       " ('Sancti-Spíritus', 100751),\n",
       " ('Ciego de Ávila', 98505),\n",
       " ('George Town', 19600),\n",
       " ('Roseau', 16243),\n",
       " ('Santo Domingo de Guzmán', 1609966),\n",
       " ('Santiago de los Caballeros', 365463),\n",
       " ('La Romana', 140204),\n",
       " ('San Pedro de Macorís', 124735),\n",
       " ('San Francisco de Macorís', 108485),\n",
       " ('San Felipe de Puerto Plata', 89423),\n",
       " ('Les Abymes', 62947),\n",
       " ('Basse-Terre', 12433),\n",
       " ('Saint George´s', 4621),\n",
       " ('Port-au-Prince', 884472),\n",
       " ('Carrefour', 290204),\n",
       " ('Delmas', 240429),\n",
       " ('Le-Cap-Haïtien', 102233),\n",
       " ('Spanish Town', 110379),\n",
       " ('Kingston', 103962),\n",
       " ('Portmore', 99799),\n",
       " ('Basseterre', 11600),\n",
       " ('Castries', 2301),\n",
       " ('Plymouth', 2000),\n",
       " ('Fort-de-France', 94050),\n",
       " ('San Juan', 434374),\n",
       " ('Bayamón', 224044),\n",
       " ('Ponce', 186475),\n",
       " ('Carolina', 186076),\n",
       " ('Caguas', 140502),\n",
       " ('Arecibo', 100131),\n",
       " ('Guaynabo', 100053),\n",
       " ('Mayagüez', 98434),\n",
       " ('Toa Baja', 94085),\n",
       " ('Cockburn Town', 4800),\n",
       " ('Chaguanas', 56601),\n",
       " ('Port-of-Spain', 43396),\n",
       " ('Kingstown', 17100),\n",
       " ('Road Town', 8000),\n",
       " ('Charlotte Amalie', 13000)]"
      ]
     },
     "execution_count": 56,
     "metadata": {},
     "output_type": "execute_result"
    }
   ],
   "source": [
    "%%sql\n",
    "\n",
    "SELECT T.Name, T.Population #SUM(T.Population) ?\n",
    "FROM city T\n",
    "LEFT JOIN country C ON C.Code=T.CountryCode\n",
    "WHERE(C.Region='Caribbean');"
   ]
  },
  {
   "cell_type": "markdown",
   "id": "88ca7683",
   "metadata": {},
   "source": [
    "#### 7 - What Countries have a City named \"Kingston\"?"
   ]
  },
  {
   "cell_type": "code",
   "execution_count": 71,
   "id": "39ed0c03",
   "metadata": {},
   "outputs": [
    {
     "name": "stdout",
     "output_type": "stream",
     "text": [
      " * mysql+mysqlconnector://root:***@db\n",
      "3 rows affected.\n"
     ]
    },
    {
     "data": {
      "text/html": [
       "<table>\n",
       "    <tr>\n",
       "        <th>Name</th>\n",
       "    </tr>\n",
       "    <tr>\n",
       "        <td>United Kingdom</td>\n",
       "    </tr>\n",
       "    <tr>\n",
       "        <td>Jamaica</td>\n",
       "    </tr>\n",
       "    <tr>\n",
       "        <td>Norfolk Island</td>\n",
       "    </tr>\n",
       "</table>"
      ],
      "text/plain": [
       "[('United Kingdom',), ('Jamaica',), ('Norfolk Island',)]"
      ]
     },
     "execution_count": 71,
     "metadata": {},
     "output_type": "execute_result"
    }
   ],
   "source": [
    "%%sql\n",
    "\n",
    "SELECT C.Name\n",
    "FROM city T\n",
    "RIGHT JOIN country C ON C.Code=T.CountryCode\n",
    "WHERE(T.Name LIKE \"%Kingston%\");"
   ]
  },
  {
   "cell_type": "markdown",
   "id": "51b4dbf2",
   "metadata": {},
   "source": [
    "#### 8 - Plot the population density by country, limiting to the 25 with least density."
   ]
  },
  {
   "cell_type": "code",
   "execution_count": 83,
   "id": "7f953dd0",
   "metadata": {},
   "outputs": [
    {
     "name": "stdout",
     "output_type": "stream",
     "text": [
      " * mysql+mysqlconnector://root:***@db\n",
      "25 rows affected.\n",
      "+----------------------------------------------+---------+\n",
      "|                     Name                     | Density |\n",
      "+----------------------------------------------+---------+\n",
      "|     United States Minor Outlying Islands     |  0.0000 |\n",
      "|        British Indian Ocean Territory        |  0.0000 |\n",
      "|      Heard Island and McDonald Islands       |  0.0000 |\n",
      "| South Georgia and the South Sandwich Islands |  0.0000 |\n",
      "|                Bouvet Island                 |  0.0000 |\n",
      "|         French Southern territories          |  0.0000 |\n",
      "|                  Antarctica                  |  0.0000 |\n",
      "|                  Greenland                   |  0.0259 |\n",
      "|            Svalbard and Jan Mayen            |  0.0513 |\n",
      "|               Falkland Islands               |  0.1643 |\n",
      "|                   Pitcairn                   |  1.0204 |\n",
      "|                Western Sahara                |  1.1015 |\n",
      "|                   Mongolia                   |  1.6993 |\n",
      "|                French Guiana                 |  2.0111 |\n",
      "|                   Namibia                    |  2.0939 |\n",
      "|                  Australia                   |  2.4397 |\n",
      "|                   Suriname                   |  2.5541 |\n",
      "|                  Mauritania                  |  2.6036 |\n",
      "|                   Iceland                    |  2.7087 |\n",
      "|                   Botswana                   |  2.7882 |\n",
      "|                    Canada                    |  3.1239 |\n",
      "|            Libyan Arab Jamahiriya            |  3.1855 |\n",
      "|                    Guyana                    |  4.0052 |\n",
      "|                    Gabon                     |  4.5803 |\n",
      "|           Central African Republic           |  5.8027 |\n",
      "+----------------------------------------------+---------+\n"
     ]
    },
    {
     "data": {
      "image/png": "[encoded data removed]",
      "text/plain": [
       "<Figure size 1600x300 with 1 Axes>"
      ]
     },
     "metadata": {},
     "output_type": "display_data"
    }
   ],
   "source": [
    "res_ = %sql SELECT  Name, Population/SurfaceArea AS Density FROM  country ORDER BY Density ASC LIMIT 25;\n",
    "\n",
    "print(res_)\n",
    "\n",
    "import matplotlib.pyplot as plt\n",
    "plt.figure(figsize=(16,3))\n",
    "res_.bar();\n",
    "plt.xticks(rotation='vertical');"
   ]
  },
  {
   "cell_type": "markdown",
   "id": "03f10978",
   "metadata": {},
   "source": [
    "#### 9 - Plot the GNP (Gross Nation Product) of all countries that become independent between 1850 and 1910, limiting to the 10 with highest GNP."
   ]
  },
  {
   "cell_type": "code",
   "execution_count": 85,
   "id": "1c792e1b",
   "metadata": {},
   "outputs": [
    {
     "name": "stdout",
     "output_type": "stream",
     "text": [
      " * mysql+mysqlconnector://root:***@db\n",
      "10 rows affected.\n",
      "+--------------+------------+\n",
      "|     Name     |    GNP     |\n",
      "+--------------+------------+\n",
      "|    Italy     | 1161755.00 |\n",
      "|    Canada    | 598862.00  |\n",
      "|  Australia   | 351182.00  |\n",
      "|     Iran     | 195746.00  |\n",
      "|    Norway    | 145895.00  |\n",
      "| South Africa | 116729.00  |\n",
      "| New Zealand  |  54669.00  |\n",
      "|   Romania    |  38158.00  |\n",
      "|     Cuba     |  17843.00  |\n",
      "|  Luxembourg  |  16321.00  |\n",
      "+--------------+------------+\n"
     ]
    },
    {
     "data": {
      "image/png": "[encoded data removed]",
      "text/plain": [
       "<Figure size 1600x300 with 1 Axes>"
      ]
     },
     "metadata": {},
     "output_type": "display_data"
    }
   ],
   "source": [
    "res_ = %sql SELECT Name, GNP FROM country WHERE(IndepYear BETWEEN 1850 AND 1910) ORDER BY  GNP DESC LIMIT 10;\n",
    "\n",
    "print(res_)\n",
    "\n",
    "plt.figure(figsize=(16,3))\n",
    "res_.bar();\n",
    "plt.xticks(rotation='vertical');"
   ]
  },
  {
   "cell_type": "markdown",
   "id": "ca8c72b6",
   "metadata": {},
   "source": [
    "#### 10 - Create a scatter plot of the life expentency vs the GNP of all countries that have Spanish as their Official language."
   ]
  },
  {
   "cell_type": "code",
   "execution_count": 48,
   "id": "8879653b",
   "metadata": {},
   "outputs": [
    {
     "name": "stdout",
     "output_type": "stream",
     "text": [
      " * mysql+mysqlconnector://root:***@db\n",
      "(mysql.connector.errors.ProgrammingError) 1146 (42S02): Table 'IMDb.countrylanguage' doesn't exist\n",
      "[SQL: SELECT C.GNP, C.LifeExpectancy, C.Name FROM country C RIGHT JOIN countrylanguage L ON C.Code = L.CountryCode WHERE(L.Language='Spanish') AND(L.IsOfficial='T') ;]\n",
      "(Background on this error at: https://sqlalche.me/e/14/f405)\n",
      "None\n"
     ]
    },
    {
     "ename": "TypeError",
     "evalue": "'NoneType' object is not iterable",
     "output_type": "error",
     "traceback": [
      "\u001b[0;31m---------------------------------------------------------------------------\u001b[0m",
      "\u001b[0;31mTypeError\u001b[0m                                 Traceback (most recent call last)",
      "Cell \u001b[0;32mIn[48], line 6\u001b[0m\n\u001b[1;32m      3\u001b[0m \u001b[38;5;28mprint\u001b[39m(res_)\n\u001b[1;32m      5\u001b[0m plt\u001b[38;5;241m.\u001b[39mfigure(figsize\u001b[38;5;241m=\u001b[39m(\u001b[38;5;241m8\u001b[39m,\u001b[38;5;241m6\u001b[39m))\n\u001b[0;32m----> 6\u001b[0m \u001b[38;5;28;01mfor\u001b[39;00m _ \u001b[38;5;129;01min\u001b[39;00m res_:\n\u001b[1;32m      7\u001b[0m     plt\u001b[38;5;241m.\u001b[39mscatter(_[\u001b[38;5;241m0\u001b[39m],_[\u001b[38;5;241m1\u001b[39m],s\u001b[38;5;241m=\u001b[39m\u001b[38;5;241m50\u001b[39m);\n\u001b[1;32m      8\u001b[0m     plt\u001b[38;5;241m.\u001b[39mannotate(_[\u001b[38;5;241m2\u001b[39m], (\u001b[38;5;28mfloat\u001b[39m(_[\u001b[38;5;241m0\u001b[39m])\u001b[38;5;241m*\u001b[39m\u001b[38;5;241m1.002\u001b[39m,\u001b[38;5;28mfloat\u001b[39m(_[\u001b[38;5;241m1\u001b[39m])\u001b[38;5;241m*\u001b[39m\u001b[38;5;241m1.002\u001b[39m));\n",
      "\u001b[0;31mTypeError\u001b[0m: 'NoneType' object is not iterable"
     ]
    },
    {
     "data": {
      "text/plain": [
       "<Figure size 800x600 with 0 Axes>"
      ]
     },
     "metadata": {},
     "output_type": "display_data"
    }
   ],
   "source": [
    "res_ = %sql SELECT C.GNP, C.LifeExpectancy, C.Name \\\n",
    "            FROM  country C \\\n",
    "            RIGHT JOIN countrylanguage L ON  C.Code = L.CountryCode \\\n",
    "            WHERE(L.Language='Spanish') \\\n",
    "            AND(L.IsOfficial='T') ;\n",
    "\n",
    "print(res_)\n",
    "\n",
    "plt.figure(figsize=(8,6))\n",
    "for _ in res_:\n",
    "    plt.scatter(_[0],_[1],s=50);\n",
    "    plt.annotate(_[2], (float(_[0])*1.002,float(_[1])*1.002));\n",
    "plt.xlabel('GNP')\n",
    "plt.ylabel('LifeExpectancy')\n"
   ]
  },
  {
   "cell_type": "markdown",
   "id": "f65b5e6a",
   "metadata": {},
   "source": [
    "## 06 More on queries "
   ]
  },
  {
   "cell_type": "markdown",
   "id": "4d0da673",
   "metadata": {},
   "source": [
    "Let' import a well-structured DB, with several tables and relationships, to be used as a sandbox for further exercises on queries.\n",
    "\n",
    "The `.sql` file can be found at: `/mapd-workspace/dbs/IMDb_pruned.sql`.\n",
    "\n",
    "The DB is freely available and is taken from the IMDb (Internet Movie Database) website (https://www.imdb.com/interfaces/).\n",
    "\n",
    "The entire database is composed of a dozen of tables, hosing all people involved in Movies, Shorts, TV Show Epidoses and more since the 1890s. \n",
    "\n",
    "To simplify the execution of queries, we will work with a slimmed-down version of the entire DB, with still plenty of records for us to extract interesting information."
   ]
  },
  {
   "cell_type": "markdown",
   "id": "aa986853",
   "metadata": {},
   "source": [
    "1. Create a new DB named `IMDb`\n",
    "2. Import the content of the file `/mapd-workspace/dbs/IMDb_pruned.sql` into the newly created DB\n",
    "(this might take a minute or two...)"
   ]
  },
  {
   "cell_type": "markdown",
   "id": "33480edc",
   "metadata": {},
   "source": [
    "### Check which tables are available"
   ]
  },
  {
   "cell_type": "code",
   "execution_count": 12,
   "id": "afa74a9f",
   "metadata": {},
   "outputs": [
    {
     "name": "stdout",
     "output_type": "stream",
     "text": [
      " * mysql+mysqlconnector://root:***@db\n",
      "0 rows affected.\n",
      "7 rows affected.\n"
     ]
    },
    {
     "data": {
      "text/html": [
       "<table>\n",
       "    <tr>\n",
       "        <th>Tables_in_IMDb</th>\n",
       "    </tr>\n",
       "    <tr>\n",
       "        <td>Directors</td>\n",
       "    </tr>\n",
       "    <tr>\n",
       "        <td>Episode_belongs_to</td>\n",
       "    </tr>\n",
       "    <tr>\n",
       "        <td>Had_role</td>\n",
       "    </tr>\n",
       "    <tr>\n",
       "        <td>Names_</td>\n",
       "    </tr>\n",
       "    <tr>\n",
       "        <td>Title_genres</td>\n",
       "    </tr>\n",
       "    <tr>\n",
       "        <td>Title_ratings</td>\n",
       "    </tr>\n",
       "    <tr>\n",
       "        <td>Titles</td>\n",
       "    </tr>\n",
       "</table>"
      ],
      "text/plain": [
       "[('Directors',),\n",
       " ('Episode_belongs_to',),\n",
       " ('Had_role',),\n",
       " ('Names_',),\n",
       " ('Title_genres',),\n",
       " ('Title_ratings',),\n",
       " ('Titles',)]"
      ]
     },
     "execution_count": 12,
     "metadata": {},
     "output_type": "execute_result"
    }
   ],
   "source": [
    "%%sql\n",
    "USE IMDb;\n",
    "SHOW TABLES;"
   ]
  },
  {
   "cell_type": "markdown",
   "id": "3f1328fb",
   "metadata": {},
   "source": [
    "### Describe the content of table Names_"
   ]
  },
  {
   "cell_type": "code",
   "execution_count": 12,
   "id": "01d462ae",
   "metadata": {},
   "outputs": [
    {
     "name": "stdout",
     "output_type": "stream",
     "text": [
      " * mysql+mysqlconnector://root:***@db\n",
      "4 rows affected.\n"
     ]
    },
    {
     "data": {
      "text/html": [
       "<table>\n",
       "    <tr>\n",
       "        <th>Field</th>\n",
       "        <th>Type</th>\n",
       "        <th>Null</th>\n",
       "        <th>Key</th>\n",
       "        <th>Default</th>\n",
       "        <th>Extra</th>\n",
       "    </tr>\n",
       "    <tr>\n",
       "        <td>name_id</td>\n",
       "        <td>b&#x27;varchar(255)&#x27;</td>\n",
       "        <td>NO</td>\n",
       "        <td></td>\n",
       "        <td>None</td>\n",
       "        <td></td>\n",
       "    </tr>\n",
       "    <tr>\n",
       "        <td>name_</td>\n",
       "        <td>b&#x27;varchar(255)&#x27;</td>\n",
       "        <td>NO</td>\n",
       "        <td></td>\n",
       "        <td>None</td>\n",
       "        <td></td>\n",
       "    </tr>\n",
       "    <tr>\n",
       "        <td>birth_year</td>\n",
       "        <td>b&#x27;smallint&#x27;</td>\n",
       "        <td>YES</td>\n",
       "        <td></td>\n",
       "        <td>None</td>\n",
       "        <td></td>\n",
       "    </tr>\n",
       "    <tr>\n",
       "        <td>death_year</td>\n",
       "        <td>b&#x27;smallint&#x27;</td>\n",
       "        <td>YES</td>\n",
       "        <td></td>\n",
       "        <td>None</td>\n",
       "        <td></td>\n",
       "    </tr>\n",
       "</table>"
      ],
      "text/plain": [
       "[('name_id', b'varchar(255)', 'NO', '', None, ''),\n",
       " ('name_', b'varchar(255)', 'NO', '', None, ''),\n",
       " ('birth_year', b'smallint', 'YES', '', None, ''),\n",
       " ('death_year', b'smallint', 'YES', '', None, '')]"
      ]
     },
     "execution_count": 12,
     "metadata": {},
     "output_type": "execute_result"
    }
   ],
   "source": [
    "%%sql\n",
    "DESCRIBE Names_;"
   ]
  },
  {
   "cell_type": "markdown",
   "id": "f5c88b21",
   "metadata": {},
   "source": [
    "### People by birth year\n",
    "\n",
    "A) Start by limiting the query to 1000 entries\n",
    "\n",
    "1. Draw an histogram of the year of birth\n",
    "2. Draw a second histogram with the year of birth of the 1000 youngest people in the list"
   ]
  },
  {
   "cell_type": "code",
   "execution_count": 13,
   "id": "ec5516ef",
   "metadata": {},
   "outputs": [
    {
     "name": "stdout",
     "output_type": "stream",
     "text": [
      " * mysql+mysqlconnector://root:***@db\n",
      "10 rows affected.\n"
     ]
    },
    {
     "data": {
      "text/html": [
       "<table>\n",
       "    <tr>\n",
       "        <th>name_id</th>\n",
       "        <th>name_</th>\n",
       "        <th>birth_year</th>\n",
       "        <th>death_year</th>\n",
       "    </tr>\n",
       "    <tr>\n",
       "        <td>nm0000002</td>\n",
       "        <td>Lauren Bacall</td>\n",
       "        <td>1924</td>\n",
       "        <td>2014</td>\n",
       "    </tr>\n",
       "    <tr>\n",
       "        <td>nm0000003</td>\n",
       "        <td>Brigitte Bardot</td>\n",
       "        <td>1934</td>\n",
       "        <td>None</td>\n",
       "    </tr>\n",
       "    <tr>\n",
       "        <td>nm0000005</td>\n",
       "        <td>Ingmar Bergman</td>\n",
       "        <td>1918</td>\n",
       "        <td>2007</td>\n",
       "    </tr>\n",
       "    <tr>\n",
       "        <td>nm0000008</td>\n",
       "        <td>Marlon Brando</td>\n",
       "        <td>1924</td>\n",
       "        <td>2004</td>\n",
       "    </tr>\n",
       "    <tr>\n",
       "        <td>nm0000013</td>\n",
       "        <td>Doris Day</td>\n",
       "        <td>1922</td>\n",
       "        <td>2019</td>\n",
       "    </tr>\n",
       "    <tr>\n",
       "        <td>nm0000014</td>\n",
       "        <td>Olivia de Havilland</td>\n",
       "        <td>1916</td>\n",
       "        <td>2020</td>\n",
       "    </tr>\n",
       "    <tr>\n",
       "        <td>nm0000016</td>\n",
       "        <td>Georges Delerue</td>\n",
       "        <td>1925</td>\n",
       "        <td>1992</td>\n",
       "    </tr>\n",
       "    <tr>\n",
       "        <td>nm0000017</td>\n",
       "        <td>Marlene Dietrich</td>\n",
       "        <td>1901</td>\n",
       "        <td>1992</td>\n",
       "    </tr>\n",
       "    <tr>\n",
       "        <td>nm0000018</td>\n",
       "        <td>Kirk Douglas</td>\n",
       "        <td>1916</td>\n",
       "        <td>2020</td>\n",
       "    </tr>\n",
       "    <tr>\n",
       "        <td>nm0000019</td>\n",
       "        <td>Federico Fellini</td>\n",
       "        <td>1920</td>\n",
       "        <td>1993</td>\n",
       "    </tr>\n",
       "</table>"
      ],
      "text/plain": [
       "[('nm0000002', 'Lauren Bacall', 1924, 2014),\n",
       " ('nm0000003', 'Brigitte Bardot', 1934, None),\n",
       " ('nm0000005', 'Ingmar Bergman', 1918, 2007),\n",
       " ('nm0000008', 'Marlon Brando', 1924, 2004),\n",
       " ('nm0000013', 'Doris Day', 1922, 2019),\n",
       " ('nm0000014', 'Olivia de Havilland', 1916, 2020),\n",
       " ('nm0000016', 'Georges Delerue', 1925, 1992),\n",
       " ('nm0000017', 'Marlene Dietrich', 1901, 1992),\n",
       " ('nm0000018', 'Kirk Douglas', 1916, 2020),\n",
       " ('nm0000019', 'Federico Fellini', 1920, 1993)]"
      ]
     },
     "execution_count": 13,
     "metadata": {},
     "output_type": "execute_result"
    }
   ],
   "source": [
    "%%sql\n",
    "SELECT * FROM Names_\n",
    "LIMIT 10"
   ]
  },
  {
   "cell_type": "code",
   "execution_count": 14,
   "id": "104f01c6",
   "metadata": {},
   "outputs": [
    {
     "name": "stdout",
     "output_type": "stream",
     "text": [
      " * mysql+mysqlconnector://root:***@db\n",
      "81 rows affected.\n"
     ]
    },
    {
     "data": {
      "text/plain": [
       "([<matplotlib.axis.XTick at 0x7fc7686eb340>,\n",
       "  <matplotlib.axis.XTick at 0x7fc7686eb310>,\n",
       "  <matplotlib.axis.XTick at 0x7fc7686e0d30>,\n",
       "  <matplotlib.axis.XTick at 0x7fc74d745ca0>,\n",
       "  <matplotlib.axis.XTick at 0x7fc74d754af0>,\n",
       "  <matplotlib.axis.XTick at 0x7fc76870ee50>,\n",
       "  <matplotlib.axis.XTick at 0x7fc74d758af0>,\n",
       "  <matplotlib.axis.XTick at 0x7fc74d6e45e0>,\n",
       "  <matplotlib.axis.XTick at 0x7fc74d6e4d30>],\n",
       " [Text(0, 0, '1897'),\n",
       "  Text(10, 0, '1910'),\n",
       "  Text(20, 0, '1921'),\n",
       "  Text(30, 0, '1931'),\n",
       "  Text(40, 0, '1941'),\n",
       "  Text(50, 0, '1951'),\n",
       "  Text(60, 0, '1961'),\n",
       "  Text(70, 0, '1971'),\n",
       "  Text(80, 0, '1982')])"
      ]
     },
     "execution_count": 14,
     "metadata": {},
     "output_type": "execute_result"
    },
    {
     "data": {
      "image/png": "[encoded data removed]",
      "text/plain": [
       "<Figure size 640x480 with 1 Axes>"
      ]
     },
     "metadata": {},
     "output_type": "display_data"
    }
   ],
   "source": [
    "import numpy as np\n",
    "import matplotlib.pyplot as plt\n",
    "\n",
    "bdy1 = %sql SELECT birth_year, count(birth_year) AS Freq FROM( SELECT * FROM Names_ LIMIT 1000 ) AS limited_names \\\n",
    "GROUP BY birth_year \\\n",
    "ORDER BY birth_year\n",
    "\n",
    "bdy1.bar()\n",
    "plt.xticks(ticks=np.arange(0,len(bdy1),10) ,rotation='vertical')"
   ]
  },
  {
   "cell_type": "code",
   "execution_count": 15,
   "id": "9efa4071",
   "metadata": {},
   "outputs": [
    {
     "name": "stdout",
     "output_type": "stream",
     "text": [
      " * mysql+mysqlconnector://root:***@db\n",
      "19 rows affected.\n"
     ]
    },
    {
     "data": {
      "text/plain": [
       "<BarContainer object of 19 artists>"
      ]
     },
     "execution_count": 15,
     "metadata": {},
     "output_type": "execute_result"
    },
    {
     "data": {
      "image/png": "[encoded data removed]",
      "text/plain": [
       "<Figure size 640x480 with 1 Axes>"
      ]
     },
     "metadata": {},
     "output_type": "display_data"
    }
   ],
   "source": [
    "bdy2 = %sql SELECT birth_year, count(birth_year) AS Freq \\\n",
    "FROM( SELECT * FROM Names_ ORDER BY birth_year DESC LIMIT 1000 ) AS limorder_names \\\n",
    "GROUP BY birth_year  \\\n",
    "  \n",
    "\n",
    "bdy2.bar()"
   ]
  },
  {
   "cell_type": "markdown",
   "id": "4ddda65c",
   "metadata": {},
   "source": [
    "B) Extend the query to all records in the table\n",
    "\n",
    "1. Check for outliers (inspect min and max)\n",
    "2. If any outlier is found, limit the query to a reasonable range (at least people born after 1850)\n",
    "3. Draw a new histogram with the year of birth\n",
    "4. Compute the mean and std of year of birth"
   ]
  },
  {
   "cell_type": "code",
   "execution_count": 17,
   "id": "89f6b059",
   "metadata": {},
   "outputs": [
    {
     "name": "stdout",
     "output_type": "stream",
     "text": [
      " * mysql+mysqlconnector://root:***@db\n",
      "142 rows affected.\n"
     ]
    },
    {
     "data": {
      "image/png": "[encoded data removed]",
      "text/plain": [
       "<Figure size 640x480 with 1 Axes>"
      ]
     },
     "metadata": {},
     "output_type": "display_data"
    }
   ],
   "source": [
    "bdy = %sql SELECT birth_year, count(birth_year) AS Freq \\\n",
    "FROM Names_ \\\n",
    "GROUP BY birth_year \\\n",
    "ORDER BY birth_year\n",
    "\n",
    "bdy = np.array(bdy)\n",
    "#print(bdy)\n",
    "\n",
    "\n",
    "# create a list of birth years and frequencies from the SQL query result\n",
    "birth_years = bdy[:,0]\n",
    "frequencies = bdy[:,1]\n",
    "\n",
    "# create a histogram with 10 bins and add labels and a title\n",
    "plt.scatter(birth_years, frequencies)\n",
    "plt.xlabel('Birth Year')\n",
    "plt.ylabel('Frequency')\n",
    "plt.title('Histogram of Birth Years')\n",
    "\n",
    "# show the plot\n",
    "plt.show()"
   ]
  },
  {
   "cell_type": "code",
   "execution_count": 18,
   "id": "080eec52",
   "metadata": {},
   "outputs": [
    {
     "name": "stdout",
     "output_type": "stream",
     "text": [
      " * mysql+mysqlconnector://root:***@db\n",
      "140 rows affected.\n"
     ]
    }
   ],
   "source": [
    "bdy3 = %sql SELECT birth_year, count(birth_year) AS Freq \\\n",
    "FROM( SELECT * FROM Names_ WHERE(birth_year > 1850) ) AS correct_names \\\n",
    "GROUP BY birth_year \\\n",
    "ORDER BY birth_year"
   ]
  },
  {
   "cell_type": "code",
   "execution_count": 19,
   "id": "4fd5c24f",
   "metadata": {},
   "outputs": [
    {
     "data": {
      "text/plain": [
       "([<matplotlib.axis.XTick at 0x7f8fb8a5ca00>,\n",
       "  <matplotlib.axis.XTick at 0x7f8fb8a5c550>,\n",
       "  <matplotlib.axis.XTick at 0x7f8fb8a5c970>,\n",
       "  <matplotlib.axis.XTick at 0x7f8fb89a4e80>,\n",
       "  <matplotlib.axis.XTick at 0x7f8fb89b0970>,\n",
       "  <matplotlib.axis.XTick at 0x7f8fb89b0100>,\n",
       "  <matplotlib.axis.XTick at 0x7f8fb89b7850>,\n",
       "  <matplotlib.axis.XTick at 0x7f8fb89bc340>,\n",
       "  <matplotlib.axis.XTick at 0x7f8fb89bcdf0>,\n",
       "  <matplotlib.axis.XTick at 0x7f8fb89c18e0>,\n",
       "  <matplotlib.axis.XTick at 0x7f8fb89b71f0>,\n",
       "  <matplotlib.axis.XTick at 0x7f8fb89c8340>,\n",
       "  <matplotlib.axis.XTick at 0x7f8fb89c8df0>,\n",
       "  <matplotlib.axis.XTick at 0x7f8fb89ce8e0>],\n",
       " [Text(0, 0, '1870'),\n",
       "  Text(10, 0, '1892'),\n",
       "  Text(20, 0, '1902'),\n",
       "  Text(30, 0, '1912'),\n",
       "  Text(40, 0, '1922'),\n",
       "  Text(50, 0, '1932'),\n",
       "  Text(60, 0, '1942'),\n",
       "  Text(70, 0, '1952'),\n",
       "  Text(80, 0, '1962'),\n",
       "  Text(90, 0, '1972'),\n",
       "  Text(100, 0, '1982'),\n",
       "  Text(110, 0, '1992'),\n",
       "  Text(120, 0, '2002'),\n",
       "  Text(130, 0, '2012')])"
      ]
     },
     "execution_count": 19,
     "metadata": {},
     "output_type": "execute_result"
    },
    {
     "data": {
      "image/png": "[encoded data removed]",
      "text/plain": [
       "<Figure size 640x480 with 1 Axes>"
      ]
     },
     "metadata": {},
     "output_type": "display_data"
    }
   ],
   "source": [
    "bdy3.bar()\n",
    "plt.xticks(ticks=np.arange(0,len(bdy3),10) ,rotation='vertical')"
   ]
  },
  {
   "cell_type": "code",
   "execution_count": 20,
   "id": "7365ae91",
   "metadata": {},
   "outputs": [
    {
     "name": "stdout",
     "output_type": "stream",
     "text": [
      " * mysql+mysqlconnector://root:***@db\n",
      "1 rows affected.\n"
     ]
    },
    {
     "data": {
      "text/html": [
       "<table>\n",
       "    <tr>\n",
       "        <th>mean_birth_year</th>\n",
       "        <th>std_birth_year</th>\n",
       "    </tr>\n",
       "    <tr>\n",
       "        <td>1965.4332</td>\n",
       "        <td>20.712074263741645</td>\n",
       "    </tr>\n",
       "</table>"
      ],
      "text/plain": [
       "[(Decimal('1965.4332'), 20.712074263741645)]"
      ]
     },
     "execution_count": 20,
     "metadata": {},
     "output_type": "execute_result"
    }
   ],
   "source": [
    "%%sql\n",
    "SELECT AVG(birth_year) AS mean_birth_year, STDDEV(birth_year) AS std_birth_year\n",
    "FROM Names_;"
   ]
  },
  {
   "cell_type": "markdown",
   "id": "3b00fe99",
   "metadata": {},
   "source": [
    "### Movie stats\n",
    "\n",
    "1. Plot how many titles can be found in the DB per year, over the past 25 years\n",
    "2. List the names of all actors who have had the role of Spider-Man and the corresponding Title\n",
    "3. List and count the 10 people who appeared the most in movies by \"Wes Anderson\""
   ]
  },
  {
   "cell_type": "code",
   "execution_count": 21,
   "id": "bbaa2b98",
   "metadata": {},
   "outputs": [
    {
     "name": "stdout",
     "output_type": "stream",
     "text": [
      " * mysql+mysqlconnector://root:***@db\n",
      "5 rows affected.\n"
     ]
    },
    {
     "data": {
      "text/html": [
       "<table>\n",
       "    <tr>\n",
       "        <th>title_id</th>\n",
       "        <th>title_type</th>\n",
       "        <th>primary_title</th>\n",
       "        <th>start_year</th>\n",
       "        <th>runtime_minutes</th>\n",
       "    </tr>\n",
       "    <tr>\n",
       "        <td>tt0011216</td>\n",
       "        <td>movie</td>\n",
       "        <td>b&#x27;Spanish Fiesta&#x27;</td>\n",
       "        <td>2019</td>\n",
       "        <td>67</td>\n",
       "    </tr>\n",
       "    <tr>\n",
       "        <td>tt0015724</td>\n",
       "        <td>movie</td>\n",
       "        <td>b&#x27;Dama de noche&#x27;</td>\n",
       "        <td>1993</td>\n",
       "        <td>102</td>\n",
       "    </tr>\n",
       "    <tr>\n",
       "        <td>tt0035423</td>\n",
       "        <td>movie</td>\n",
       "        <td>b&#x27;Kate &amp; Leopold&#x27;</td>\n",
       "        <td>2001</td>\n",
       "        <td>118</td>\n",
       "    </tr>\n",
       "    <tr>\n",
       "        <td>tt0059325</td>\n",
       "        <td>movie</td>\n",
       "        <td>b&quot;Born in &#x27;45&quot;</td>\n",
       "        <td>1990</td>\n",
       "        <td>100</td>\n",
       "    </tr>\n",
       "    <tr>\n",
       "        <td>tt0059900</td>\n",
       "        <td>movie</td>\n",
       "        <td>b&#x27;Wenn du gro\\xc3\\x9f bist, lieber Adam&#x27;</td>\n",
       "        <td>1990</td>\n",
       "        <td>78</td>\n",
       "    </tr>\n",
       "</table>"
      ],
      "text/plain": [
       "[('tt0011216', 'movie', b'Spanish Fiesta', 2019, 67),\n",
       " ('tt0015724', 'movie', b'Dama de noche', 1993, 102),\n",
       " ('tt0035423', 'movie', b'Kate & Leopold', 2001, 118),\n",
       " ('tt0059325', 'movie', b\"Born in '45\", 1990, 100),\n",
       " ('tt0059900', 'movie', b'Wenn du gro\\xc3\\x9f bist, lieber Adam', 1990, 78)]"
      ]
     },
     "execution_count": 21,
     "metadata": {},
     "output_type": "execute_result"
    }
   ],
   "source": [
    "%%sql\n",
    "SELECT * FROM Titles LIMIT 5"
   ]
  },
  {
   "cell_type": "markdown",
   "id": "892b2c35",
   "metadata": {},
   "source": [
    "#### 1 - Plot how many titles can be found in the DB per year, over the past 25 years"
   ]
  },
  {
   "cell_type": "code",
   "execution_count": 22,
   "id": "650e01bc",
   "metadata": {},
   "outputs": [
    {
     "name": "stdout",
     "output_type": "stream",
     "text": [
      " * mysql+mysqlconnector://root:***@db\n",
      "30 rows affected.\n"
     ]
    },
    {
     "data": {
      "text/plain": [
       "[<matplotlib.lines.Line2D at 0x7f8fb8751970>]"
      ]
     },
     "execution_count": 22,
     "metadata": {},
     "output_type": "execute_result"
    },
    {
     "data": {
      "image/png": "[encoded data removed]",
      "text/plain": [
       "<Figure size 640x480 with 1 Axes>"
      ]
     },
     "metadata": {},
     "output_type": "display_data"
    }
   ],
   "source": [
    "tit25 = %sql SELECT start_year, count(primary_title) FROM Titles WHERE(start_year>1997) GROUP BY start_year ORDER BY start_year\n",
    "tit25.plot()"
   ]
  },
  {
   "cell_type": "markdown",
   "id": "5022d3c3",
   "metadata": {},
   "source": [
    "#### 2 - List the names of all actors who have had the role of Spider-Man and the corresponding Title "
   ]
  },
  {
   "cell_type": "code",
   "execution_count": 23,
   "id": "d213f80a",
   "metadata": {},
   "outputs": [
    {
     "name": "stdout",
     "output_type": "stream",
     "text": [
      " * mysql+mysqlconnector://root:***@db\n",
      "10 rows affected.\n"
     ]
    },
    {
     "data": {
      "text/html": [
       "<table>\n",
       "    <tr>\n",
       "        <th>name_id</th>\n",
       "        <th>name_</th>\n",
       "        <th>birth_year</th>\n",
       "        <th>death_year</th>\n",
       "    </tr>\n",
       "    <tr>\n",
       "        <td>nm0000002</td>\n",
       "        <td>Lauren Bacall</td>\n",
       "        <td>1924</td>\n",
       "        <td>2014</td>\n",
       "    </tr>\n",
       "    <tr>\n",
       "        <td>nm0000003</td>\n",
       "        <td>Brigitte Bardot</td>\n",
       "        <td>1934</td>\n",
       "        <td>None</td>\n",
       "    </tr>\n",
       "    <tr>\n",
       "        <td>nm0000005</td>\n",
       "        <td>Ingmar Bergman</td>\n",
       "        <td>1918</td>\n",
       "        <td>2007</td>\n",
       "    </tr>\n",
       "    <tr>\n",
       "        <td>nm0000008</td>\n",
       "        <td>Marlon Brando</td>\n",
       "        <td>1924</td>\n",
       "        <td>2004</td>\n",
       "    </tr>\n",
       "    <tr>\n",
       "        <td>nm0000013</td>\n",
       "        <td>Doris Day</td>\n",
       "        <td>1922</td>\n",
       "        <td>2019</td>\n",
       "    </tr>\n",
       "    <tr>\n",
       "        <td>nm0000014</td>\n",
       "        <td>Olivia de Havilland</td>\n",
       "        <td>1916</td>\n",
       "        <td>2020</td>\n",
       "    </tr>\n",
       "    <tr>\n",
       "        <td>nm0000016</td>\n",
       "        <td>Georges Delerue</td>\n",
       "        <td>1925</td>\n",
       "        <td>1992</td>\n",
       "    </tr>\n",
       "    <tr>\n",
       "        <td>nm0000017</td>\n",
       "        <td>Marlene Dietrich</td>\n",
       "        <td>1901</td>\n",
       "        <td>1992</td>\n",
       "    </tr>\n",
       "    <tr>\n",
       "        <td>nm0000018</td>\n",
       "        <td>Kirk Douglas</td>\n",
       "        <td>1916</td>\n",
       "        <td>2020</td>\n",
       "    </tr>\n",
       "    <tr>\n",
       "        <td>nm0000019</td>\n",
       "        <td>Federico Fellini</td>\n",
       "        <td>1920</td>\n",
       "        <td>1993</td>\n",
       "    </tr>\n",
       "</table>"
      ],
      "text/plain": [
       "[('nm0000002', 'Lauren Bacall', 1924, 2014),\n",
       " ('nm0000003', 'Brigitte Bardot', 1934, None),\n",
       " ('nm0000005', 'Ingmar Bergman', 1918, 2007),\n",
       " ('nm0000008', 'Marlon Brando', 1924, 2004),\n",
       " ('nm0000013', 'Doris Day', 1922, 2019),\n",
       " ('nm0000014', 'Olivia de Havilland', 1916, 2020),\n",
       " ('nm0000016', 'Georges Delerue', 1925, 1992),\n",
       " ('nm0000017', 'Marlene Dietrich', 1901, 1992),\n",
       " ('nm0000018', 'Kirk Douglas', 1916, 2020),\n",
       " ('nm0000019', 'Federico Fellini', 1920, 1993)]"
      ]
     },
     "execution_count": 23,
     "metadata": {},
     "output_type": "execute_result"
    }
   ],
   "source": [
    "%%sql\n",
    "SELECT * FROM Names_ LIMIT 10"
   ]
  },
  {
   "cell_type": "code",
   "execution_count": 17,
   "id": "92cf36e0",
   "metadata": {},
   "outputs": [
    {
     "name": "stdout",
     "output_type": "stream",
     "text": [
      " * mysql+mysqlconnector://root:***@db\n",
      "310 rows affected.\n"
     ]
    },
    {
     "data": {
      "text/html": [
       "<table>\n",
       "    <tr>\n",
       "        <th>Name</th>\n",
       "        <th>Film</th>\n",
       "    </tr>\n",
       "    <tr>\n",
       "        <td>Aaron Schoenke</td>\n",
       "        <td>b&#x27;Spider-Man vs. Darth Maul&#x27;</td>\n",
       "    </tr>\n",
       "    <tr>\n",
       "        <td>Andrew Garfield</td>\n",
       "        <td>b&#x27;The Amazing Spider-Man&#x27;</td>\n",
       "    </tr>\n",
       "    <tr>\n",
       "        <td>Andrew Garfield</td>\n",
       "        <td>b&#x27;The Amazing Spider-Man 2&#x27;</td>\n",
       "    </tr>\n",
       "    <tr>\n",
       "        <td>Andy Richter</td>\n",
       "        <td>b&#x27;Major League of Extraordinary Gentlemen&#x27;</td>\n",
       "    </tr>\n",
       "    <tr>\n",
       "        <td>Christopher Daniel Barnes</td>\n",
       "        <td>b&#x27;Spider-Man: The Animated Series&#x27;</td>\n",
       "    </tr>\n",
       "    <tr>\n",
       "        <td>Christopher Daniel Barnes</td>\n",
       "        <td>b&#x27;Day of the Chameleon&#x27;</td>\n",
       "    </tr>\n",
       "    <tr>\n",
       "        <td>Christopher Daniel Barnes</td>\n",
       "        <td>b&#x27;Doctor Octopus: Armed and Dangerous&#x27;</td>\n",
       "    </tr>\n",
       "    <tr>\n",
       "        <td>Christopher Daniel Barnes</td>\n",
       "        <td>b&#x27;Kraven the Hunter&#x27;</td>\n",
       "    </tr>\n",
       "    <tr>\n",
       "        <td>Christopher Daniel Barnes</td>\n",
       "        <td>b&#x27;Neogenic Nightmare Chapter 10: The Immortal Vampire&#x27;</td>\n",
       "    </tr>\n",
       "    <tr>\n",
       "        <td>Christopher Daniel Barnes</td>\n",
       "        <td>b&#x27;Neogenic Nightmare Chapter 11: Tablet of Time&#x27;</td>\n",
       "    </tr>\n",
       "    <tr>\n",
       "        <td>Christopher Daniel Barnes</td>\n",
       "        <td>b&#x27;Neogenic Nightmare Chapter 12: Ravages of Time&#x27;</td>\n",
       "    </tr>\n",
       "    <tr>\n",
       "        <td>Christopher Daniel Barnes</td>\n",
       "        <td>b&#x27;Neogenic Nightmare Chapter 13: Shriek of the Vulture&#x27;</td>\n",
       "    </tr>\n",
       "    <tr>\n",
       "        <td>Christopher Daniel Barnes</td>\n",
       "        <td>b&#x27;Neogenic Nightmare Chapter 14: The Final Nightmare&#x27;</td>\n",
       "    </tr>\n",
       "    <tr>\n",
       "        <td>Christopher Daniel Barnes</td>\n",
       "        <td>b&#x27;Neogenic Nightmare Chapter 1: The Insidious Six&#x27;</td>\n",
       "    </tr>\n",
       "    <tr>\n",
       "        <td>Christopher Daniel Barnes</td>\n",
       "        <td>b&#x27;Neogenic Nightmare Chapter 2: Battle of the Insidious Six&#x27;</td>\n",
       "    </tr>\n",
       "    <tr>\n",
       "        <td>Christopher Daniel Barnes</td>\n",
       "        <td>b&#x27;Neogenic Nightmare Chapter 3: Hydro-Man&#x27;</td>\n",
       "    </tr>\n",
       "    <tr>\n",
       "        <td>Christopher Daniel Barnes</td>\n",
       "        <td>b&#x27;Neogenic Nightmare Chapter 4: The Mutant Agenda&#x27;</td>\n",
       "    </tr>\n",
       "    <tr>\n",
       "        <td>Christopher Daniel Barnes</td>\n",
       "        <td>b&#x27;Neogenic Nightmare Chapter 5: Mutants Revenge&#x27;</td>\n",
       "    </tr>\n",
       "    <tr>\n",
       "        <td>Christopher Daniel Barnes</td>\n",
       "        <td>b&#x27;Neogenic Nightmare Chapter 6: Morbius&#x27;</td>\n",
       "    </tr>\n",
       "    <tr>\n",
       "        <td>Christopher Daniel Barnes</td>\n",
       "        <td>b&#x27;Neogenic Nightmare Chapter 7: Enter the Punisher&#x27;</td>\n",
       "    </tr>\n",
       "    <tr>\n",
       "        <td>Christopher Daniel Barnes</td>\n",
       "        <td>b&#x27;Neogenic Nightmare Chapter 8: Duel of the Hunters&#x27;</td>\n",
       "    </tr>\n",
       "    <tr>\n",
       "        <td>Christopher Daniel Barnes</td>\n",
       "        <td>b&#x27;Neogenic Nightmare Chapter 9: Blade the Vampire Hunter&#x27;</td>\n",
       "    </tr>\n",
       "    <tr>\n",
       "        <td>Christopher Daniel Barnes</td>\n",
       "        <td>b&#x27;Night of the Lizard&#x27;</td>\n",
       "    </tr>\n",
       "    <tr>\n",
       "        <td>Christopher Daniel Barnes</td>\n",
       "        <td>b&#x27;Partners in Danger Chapter 10: Lizard King&#x27;</td>\n",
       "    </tr>\n",
       "    <tr>\n",
       "        <td>Christopher Daniel Barnes</td>\n",
       "        <td>b&#x27;Partners in Danger Chapter 11: The Prowler&#x27;</td>\n",
       "    </tr>\n",
       "    <tr>\n",
       "        <td>Christopher Daniel Barnes</td>\n",
       "        <td>b&#x27;Partners in Danger Chapter 1: Guilty&#x27;</td>\n",
       "    </tr>\n",
       "    <tr>\n",
       "        <td>Christopher Daniel Barnes</td>\n",
       "        <td>b&#x27;Partners in Danger Chapter 2: The Cat&#x27;</td>\n",
       "    </tr>\n",
       "    <tr>\n",
       "        <td>Christopher Daniel Barnes</td>\n",
       "        <td>b&#x27;Partners in Danger Chapter 3: The Black Cat&#x27;</td>\n",
       "    </tr>\n",
       "    <tr>\n",
       "        <td>Christopher Daniel Barnes</td>\n",
       "        <td>b&#x27;Partners in Danger Chapter 4: Return of Kraven&#x27;</td>\n",
       "    </tr>\n",
       "    <tr>\n",
       "        <td>Christopher Daniel Barnes</td>\n",
       "        <td>b&#x27;Partners in Danger Chapter 5: Partners&#x27;</td>\n",
       "    </tr>\n",
       "    <tr>\n",
       "        <td>Christopher Daniel Barnes</td>\n",
       "        <td>b&#x27;Partners in Danger Chapter 6: The Awakening&#x27;</td>\n",
       "    </tr>\n",
       "    <tr>\n",
       "        <td>Christopher Daniel Barnes</td>\n",
       "        <td>b&#x27;Partners in Danger Chapter 7: The Vampire Queen&#x27;</td>\n",
       "    </tr>\n",
       "    <tr>\n",
       "        <td>Christopher Daniel Barnes</td>\n",
       "        <td>b&#x27;Partners in Danger Chapter 8: The Return of the Green Goblin&#x27;</td>\n",
       "    </tr>\n",
       "    <tr>\n",
       "        <td>Christopher Daniel Barnes</td>\n",
       "        <td>b&#x27;Partners in Danger Chapter 9: The Haunting of Mary Jane&#x27;</td>\n",
       "    </tr>\n",
       "    <tr>\n",
       "        <td>Christopher Daniel Barnes</td>\n",
       "        <td>b&#x27;Secret Wars, Chapter 1: Arrival&#x27;</td>\n",
       "    </tr>\n",
       "    <tr>\n",
       "        <td>Christopher Daniel Barnes</td>\n",
       "        <td>b&#x27;Secret Wars, Chapter 2: The Gauntlet of the Red Skull&#x27;</td>\n",
       "    </tr>\n",
       "    <tr>\n",
       "        <td>Christopher Daniel Barnes</td>\n",
       "        <td>b&#x27;Secret Wars, Chapter 3: Doom&#x27;</td>\n",
       "    </tr>\n",
       "    <tr>\n",
       "        <td>Christopher Daniel Barnes</td>\n",
       "        <td>b&#x27;Sins of the Fathers Chapter 10: Venom Returns&#x27;</td>\n",
       "    </tr>\n",
       "    <tr>\n",
       "        <td>Christopher Daniel Barnes</td>\n",
       "        <td>b&#x27;Sins of the Fathers Chapter 11: Carnage&#x27;</td>\n",
       "    </tr>\n",
       "    <tr>\n",
       "        <td>Christopher Daniel Barnes</td>\n",
       "        <td>b&#x27;Sins of the Fathers Chapter 12: The Spot&#x27;</td>\n",
       "    </tr>\n",
       "    <tr>\n",
       "        <td>Christopher Daniel Barnes</td>\n",
       "        <td>b&#x27;Sins of the Fathers Chapter 13: Goblin War!&#x27;</td>\n",
       "    </tr>\n",
       "    <tr>\n",
       "        <td>Christopher Daniel Barnes</td>\n",
       "        <td>b&#x27;Sins of the Fathers Chapter 14: The Turning Point&#x27;</td>\n",
       "    </tr>\n",
       "    <tr>\n",
       "        <td>Christopher Daniel Barnes</td>\n",
       "        <td>b&#x27;Sins of the Fathers Chapter 1: Doctor Strange&#x27;</td>\n",
       "    </tr>\n",
       "    <tr>\n",
       "        <td>Christopher Daniel Barnes</td>\n",
       "        <td>b&#x27;Sins of the Fathers Chapter 2: Make a Wish&#x27;</td>\n",
       "    </tr>\n",
       "    <tr>\n",
       "        <td>Christopher Daniel Barnes</td>\n",
       "        <td>b&#x27;Sins of the Fathers Chapter 3: Attack of the Octobot&#x27;</td>\n",
       "    </tr>\n",
       "    <tr>\n",
       "        <td>Christopher Daniel Barnes</td>\n",
       "        <td>b&#x27;Sins of the Fathers Chapter 4: Enter the Green Goblin&#x27;</td>\n",
       "    </tr>\n",
       "    <tr>\n",
       "        <td>Christopher Daniel Barnes</td>\n",
       "        <td>b&#x27;Sins of the Fathers Chapter 5: The Rocket Racer&#x27;</td>\n",
       "    </tr>\n",
       "    <tr>\n",
       "        <td>Christopher Daniel Barnes</td>\n",
       "        <td>b&#x27;Sins of the Fathers Chapter 6: Framed&#x27;</td>\n",
       "    </tr>\n",
       "    <tr>\n",
       "        <td>Christopher Daniel Barnes</td>\n",
       "        <td>b&#x27;Sins of the Fathers Chapter 7: The Man Without Fear&#x27;</td>\n",
       "    </tr>\n",
       "    <tr>\n",
       "        <td>Christopher Daniel Barnes</td>\n",
       "        <td>b&#x27;Sins of the Fathers Chapter 8: The Ultimate Slayer&#x27;</td>\n",
       "    </tr>\n",
       "    <tr>\n",
       "        <td>Christopher Daniel Barnes</td>\n",
       "        <td>b&#x27;Sins of the Fathers Chapter 9: Tombstone&#x27;</td>\n",
       "    </tr>\n",
       "    <tr>\n",
       "        <td>Christopher Daniel Barnes</td>\n",
       "        <td>b&#x27;Six Forgotten Warriors Chapter 1&#x27;</td>\n",
       "    </tr>\n",
       "    <tr>\n",
       "        <td>Christopher Daniel Barnes</td>\n",
       "        <td>b&#x27;Six Forgotten Warriors Chapter 2: Unclaimed Legacy&#x27;</td>\n",
       "    </tr>\n",
       "    <tr>\n",
       "        <td>Christopher Daniel Barnes</td>\n",
       "        <td>b&#x27;Six Forgotten Warriors Chapter 3: Secrets of the Six&#x27;</td>\n",
       "    </tr>\n",
       "    <tr>\n",
       "        <td>Christopher Daniel Barnes</td>\n",
       "        <td>b&#x27;Six Forgotten Warriors Chapter 4: The Six Fight Again&#x27;</td>\n",
       "    </tr>\n",
       "    <tr>\n",
       "        <td>Christopher Daniel Barnes</td>\n",
       "        <td>b&#x27;Six Forgotten Warriors Chapter 5: The Price of Heroism&#x27;</td>\n",
       "    </tr>\n",
       "    <tr>\n",
       "        <td>Christopher Daniel Barnes</td>\n",
       "        <td>b&#x27;Spider Wars, Chapter 1: I Really, Really Hate Clones&#x27;</td>\n",
       "    </tr>\n",
       "    <tr>\n",
       "        <td>Christopher Daniel Barnes</td>\n",
       "        <td>b&#x27;Spider Wars, Chapter 2: Farewell Spider-Man&#x27;</td>\n",
       "    </tr>\n",
       "    <tr>\n",
       "        <td>Christopher Daniel Barnes</td>\n",
       "        <td>b&#x27;The Alien Costume: Part 1&#x27;</td>\n",
       "    </tr>\n",
       "    <tr>\n",
       "        <td>Christopher Daniel Barnes</td>\n",
       "        <td>b&#x27;The Alien Costume: Part 2&#x27;</td>\n",
       "    </tr>\n",
       "    <tr>\n",
       "        <td>Christopher Daniel Barnes</td>\n",
       "        <td>b&#x27;The Alien Costume: Part 3&#x27;</td>\n",
       "    </tr>\n",
       "    <tr>\n",
       "        <td>Christopher Daniel Barnes</td>\n",
       "        <td>b&#x27;The Hobgoblin: Part 1&#x27;</td>\n",
       "    </tr>\n",
       "    <tr>\n",
       "        <td>Christopher Daniel Barnes</td>\n",
       "        <td>b&#x27;The Hobgoblin: Part 2&#x27;</td>\n",
       "    </tr>\n",
       "    <tr>\n",
       "        <td>Christopher Daniel Barnes</td>\n",
       "        <td>b&#x27;The Menace of Mysterio&#x27;</td>\n",
       "    </tr>\n",
       "    <tr>\n",
       "        <td>Christopher Daniel Barnes</td>\n",
       "        <td>b&#x27;The Return of Hydro-Man: Part 2&#x27;</td>\n",
       "    </tr>\n",
       "    <tr>\n",
       "        <td>Christopher Daniel Barnes</td>\n",
       "        <td>b&#x27;The Return of the Spider-Slayers&#x27;</td>\n",
       "    </tr>\n",
       "    <tr>\n",
       "        <td>Christopher Daniel Barnes</td>\n",
       "        <td>b&#x27;The Spider Slayer&#x27;</td>\n",
       "    </tr>\n",
       "    <tr>\n",
       "        <td>Christopher Daniel Barnes</td>\n",
       "        <td>b&#x27;The Sting of the Scorpion&#x27;</td>\n",
       "    </tr>\n",
       "    <tr>\n",
       "        <td>Christopher Daniel Barnes</td>\n",
       "        <td>b&#x27;The Wedding&#x27;</td>\n",
       "    </tr>\n",
       "    <tr>\n",
       "        <td>Cole Howard</td>\n",
       "        <td>b&#x27;Marvel Video Comics&#x27;</td>\n",
       "    </tr>\n",
       "    <tr>\n",
       "        <td>Cole Howard</td>\n",
       "        <td>b&#x27;Marvel Super Hero Adventures&#x27;</td>\n",
       "    </tr>\n",
       "    <tr>\n",
       "        <td>Doug Walker</td>\n",
       "        <td>b&#x27;The Amazing Spider-Man 2&#x27;</td>\n",
       "    </tr>\n",
       "    <tr>\n",
       "        <td>Doug Walker</td>\n",
       "        <td>b&#x27;The League of Extraordinary Gentlemen&#x27;</td>\n",
       "    </tr>\n",
       "    <tr>\n",
       "        <td>Drake Bell</td>\n",
       "        <td>b&#x27;Ultimate Spider-Man&#x27;</td>\n",
       "    </tr>\n",
       "    <tr>\n",
       "        <td>Drake Bell</td>\n",
       "        <td>b&#x27;Great Power&#x27;</td>\n",
       "    </tr>\n",
       "    <tr>\n",
       "        <td>Drake Bell</td>\n",
       "        <td>b&#x27;Great Responsibility&#x27;</td>\n",
       "    </tr>\n",
       "    <tr>\n",
       "        <td>Drake Bell</td>\n",
       "        <td>b&#x27;Doomed&#x27;</td>\n",
       "    </tr>\n",
       "    <tr>\n",
       "        <td>Drake Bell</td>\n",
       "        <td>b&#x27;Venom&#x27;</td>\n",
       "    </tr>\n",
       "    <tr>\n",
       "        <td>Drake Bell</td>\n",
       "        <td>b&#x27;Flight of the Iron Spider&#x27;</td>\n",
       "    </tr>\n",
       "    <tr>\n",
       "        <td>Drake Bell</td>\n",
       "        <td>b&#x27;Why I Hate the Gym&#x27;</td>\n",
       "    </tr>\n",
       "    <tr>\n",
       "        <td>Drake Bell</td>\n",
       "        <td>b&#x27;Venomous&#x27;</td>\n",
       "    </tr>\n",
       "    <tr>\n",
       "        <td>Drake Bell</td>\n",
       "        <td>b&#x27;Strange&#x27;</td>\n",
       "    </tr>\n",
       "    <tr>\n",
       "        <td>Drake Bell</td>\n",
       "        <td>b&#x27;Freaky&#x27;</td>\n",
       "    </tr>\n",
       "    <tr>\n",
       "        <td>Drake Bell</td>\n",
       "        <td>b&#x27;Exclusive&#x27;</td>\n",
       "    </tr>\n",
       "    <tr>\n",
       "        <td>Drake Bell</td>\n",
       "        <td>b&#x27;Back in Black&#x27;</td>\n",
       "    </tr>\n",
       "    <tr>\n",
       "        <td>Drake Bell</td>\n",
       "        <td>b&#x27;Me Time&#x27;</td>\n",
       "    </tr>\n",
       "    <tr>\n",
       "        <td>Drake Bell</td>\n",
       "        <td>b&#x27;Field Trip&#x27;</td>\n",
       "    </tr>\n",
       "    <tr>\n",
       "        <td>Drake Bell</td>\n",
       "        <td>b&#x27;For Your Eye Only&#x27;</td>\n",
       "    </tr>\n",
       "    <tr>\n",
       "        <td>Drake Bell</td>\n",
       "        <td>b&#x27;Beetle Mania&#x27;</td>\n",
       "    </tr>\n",
       "    <tr>\n",
       "        <td>Drake Bell</td>\n",
       "        <td>b&#x27;Snow Day&#x27;</td>\n",
       "    </tr>\n",
       "    <tr>\n",
       "        <td>Drake Bell</td>\n",
       "        <td>b&#x27;Damage&#x27;</td>\n",
       "    </tr>\n",
       "    <tr>\n",
       "        <td>Drake Bell</td>\n",
       "        <td>b&#x27;Home Sick Hulk&#x27;</td>\n",
       "    </tr>\n",
       "    <tr>\n",
       "        <td>Drake Bell</td>\n",
       "        <td>b&#x27;Run Pig Run&#x27;</td>\n",
       "    </tr>\n",
       "    <tr>\n",
       "        <td>Drake Bell</td>\n",
       "        <td>b&#x27;I Am Spider-Man&#x27;</td>\n",
       "    </tr>\n",
       "    <tr>\n",
       "        <td>Drake Bell</td>\n",
       "        <td>b&#x27;The Iron Octopus&#x27;</td>\n",
       "    </tr>\n",
       "    <tr>\n",
       "        <td>Drake Bell</td>\n",
       "        <td>b&#x27;Not a Toy&#x27;</td>\n",
       "    </tr>\n",
       "    <tr>\n",
       "        <td>Drake Bell</td>\n",
       "        <td>b&#x27;Attack of the Beetle&#x27;</td>\n",
       "    </tr>\n",
       "    <tr>\n",
       "        <td>Drake Bell</td>\n",
       "        <td>b&#x27;Revealed&#x27;</td>\n",
       "    </tr>\n",
       "    <tr>\n",
       "        <td>Drake Bell</td>\n",
       "        <td>b&#x27;Rise of the Goblin&#x27;</td>\n",
       "    </tr>\n",
       "    <tr>\n",
       "        <td>Drake Bell</td>\n",
       "        <td>b&#x27;New Avengers&#x27;</td>\n",
       "    </tr>\n",
       "    <tr>\n",
       "        <td>Drake Bell</td>\n",
       "        <td>b&#x27;The Lizard&#x27;</td>\n",
       "    </tr>\n",
       "    <tr>\n",
       "        <td>Drake Bell</td>\n",
       "        <td>b&#x27;Awesome&#x27;</td>\n",
       "    </tr>\n",
       "    <tr>\n",
       "        <td>Drake Bell</td>\n",
       "        <td>b&#x27;Electro&#x27;</td>\n",
       "    </tr>\n",
       "    <tr>\n",
       "        <td>Drake Bell</td>\n",
       "        <td>b&#x27;The Rhino&#x27;</td>\n",
       "    </tr>\n",
       "    <tr>\n",
       "        <td>Drake Bell</td>\n",
       "        <td>b&#x27;Kraven the Hunter&#x27;</td>\n",
       "    </tr>\n",
       "    <tr>\n",
       "        <td>Drake Bell</td>\n",
       "        <td>b&#x27;Hawkeye&#x27;</td>\n",
       "    </tr>\n",
       "    <tr>\n",
       "        <td>Drake Bell</td>\n",
       "        <td>b&#x27;Sinister Six&#x27;</td>\n",
       "    </tr>\n",
       "    <tr>\n",
       "        <td>Drake Bell</td>\n",
       "        <td>b&#x27;Spidah-Man&#x27;</td>\n",
       "    </tr>\n",
       "    <tr>\n",
       "        <td>Drake Bell</td>\n",
       "        <td>b&#x27;Carnage&#x27;</td>\n",
       "    </tr>\n",
       "    <tr>\n",
       "        <td>Drake Bell</td>\n",
       "        <td>b&#x27;Journey of the Iron Fist&#x27;</td>\n",
       "    </tr>\n",
       "    <tr>\n",
       "        <td>Drake Bell</td>\n",
       "        <td>b&#x27;House Arrest&#x27;</td>\n",
       "    </tr>\n",
       "    <tr>\n",
       "        <td>Drake Bell</td>\n",
       "        <td>b&#x27;The Man-Wolf&#x27;</td>\n",
       "    </tr>\n",
       "    <tr>\n",
       "        <td>Drake Bell</td>\n",
       "        <td>b&#x27;The Incredible Spider-Hulk&#x27;</td>\n",
       "    </tr>\n",
       "    <tr>\n",
       "        <td>Drake Bell</td>\n",
       "        <td>b&#x27;Game Over&#x27;</td>\n",
       "    </tr>\n",
       "    <tr>\n",
       "        <td>Drake Bell</td>\n",
       "        <td>b&#x27;Second Chance Hero&#x27;</td>\n",
       "    </tr>\n",
       "    <tr>\n",
       "        <td>Drake Bell</td>\n",
       "        <td>b&#x27;Stan by Me&#x27;</td>\n",
       "    </tr>\n",
       "    <tr>\n",
       "        <td>Drake Bell</td>\n",
       "        <td>b&#x27;Swarm&#x27;</td>\n",
       "    </tr>\n",
       "    <tr>\n",
       "        <td>Drake Bell</td>\n",
       "        <td>b&#x27;Itsy Bitsy Spider-Man&#x27;</td>\n",
       "    </tr>\n",
       "    <tr>\n",
       "        <td>Drake Bell</td>\n",
       "        <td>b&#x27;Ultimate Deadpool&#x27;</td>\n",
       "    </tr>\n",
       "    <tr>\n",
       "        <td>Drake Bell</td>\n",
       "        <td>b&#x27;Venom Bomb&#x27;</td>\n",
       "    </tr>\n",
       "    <tr>\n",
       "        <td>Drake Bell</td>\n",
       "        <td>b&#x27;The Parent Trap&#x27;</td>\n",
       "    </tr>\n",
       "    <tr>\n",
       "        <td>Drake Bell</td>\n",
       "        <td>b&#x27;Guardians of the Galaxy&#x27;</td>\n",
       "    </tr>\n",
       "    <tr>\n",
       "        <td>Drake Bell</td>\n",
       "        <td>b&#x27;The Howling Commandos&#x27;</td>\n",
       "    </tr>\n",
       "    <tr>\n",
       "        <td>Drake Bell</td>\n",
       "        <td>b&#x27;Sandman Returns&#x27;</td>\n",
       "    </tr>\n",
       "    <tr>\n",
       "        <td>Drake Bell</td>\n",
       "        <td>b&#x27;The Collector&#x27;</td>\n",
       "    </tr>\n",
       "    <tr>\n",
       "        <td>Drake Bell</td>\n",
       "        <td>b&#x27;The Avenging Spider-Man: Part 1&#x27;</td>\n",
       "    </tr>\n",
       "    <tr>\n",
       "        <td>Drake Bell</td>\n",
       "        <td>b&#x27;The Avenging Spider-Man: Part 2&#x27;</td>\n",
       "    </tr>\n",
       "    <tr>\n",
       "        <td>Drake Bell</td>\n",
       "        <td>b&#x27;Agent Venom&#x27;</td>\n",
       "    </tr>\n",
       "    <tr>\n",
       "        <td>Drake Bell</td>\n",
       "        <td>b&#x27;Cloak and Dagger&#x27;</td>\n",
       "    </tr>\n",
       "    <tr>\n",
       "        <td>Drake Bell</td>\n",
       "        <td>b&#x27;The Next Iron Spider&#x27;</td>\n",
       "    </tr>\n",
       "    <tr>\n",
       "        <td>Drake Bell</td>\n",
       "        <td>b&#x27;The Vulture&#x27;</td>\n",
       "    </tr>\n",
       "    <tr>\n",
       "        <td>Drake Bell</td>\n",
       "        <td>b&#x27;The Savage Spider-Man&#x27;</td>\n",
       "    </tr>\n",
       "    <tr>\n",
       "        <td>Drake Bell</td>\n",
       "        <td>b&#x27;New Warriors&#x27;</td>\n",
       "    </tr>\n",
       "    <tr>\n",
       "        <td>Drake Bell</td>\n",
       "        <td>b&#x27;The Return of the Guardians of the Galaxy&#x27;</td>\n",
       "    </tr>\n",
       "    <tr>\n",
       "        <td>Drake Bell</td>\n",
       "        <td>b&#x27;The Spider-Verse: Part 2&#x27;</td>\n",
       "    </tr>\n",
       "    <tr>\n",
       "        <td>Drake Bell</td>\n",
       "        <td>b&#x27;The Spider-Verse: Part 3&#x27;</td>\n",
       "    </tr>\n",
       "    <tr>\n",
       "        <td>Drake Bell</td>\n",
       "        <td>b&#x27;The Spider-Verse: Part 4&#x27;</td>\n",
       "    </tr>\n",
       "    <tr>\n",
       "        <td>Drake Bell</td>\n",
       "        <td>b&#x27;The Spider-Verse: Part 1&#x27;</td>\n",
       "    </tr>\n",
       "    <tr>\n",
       "        <td>Drake Bell</td>\n",
       "        <td>b&#x27;Return of the Sinister Six&#x27;</td>\n",
       "    </tr>\n",
       "    <tr>\n",
       "        <td>Drake Bell</td>\n",
       "        <td>b&#x27;Ultimate&#x27;</td>\n",
       "    </tr>\n",
       "    <tr>\n",
       "        <td>Drake Bell</td>\n",
       "        <td>b&#x27;Blade&#x27;</td>\n",
       "    </tr>\n",
       "    <tr>\n",
       "        <td>Drake Bell</td>\n",
       "        <td>b&#x27;SHIELD Academy&#x27;</td>\n",
       "    </tr>\n",
       "    <tr>\n",
       "        <td>Drake Bell</td>\n",
       "        <td>b&#x27;Halloween Night at the Museum&#x27;</td>\n",
       "    </tr>\n",
       "    <tr>\n",
       "        <td>Drake Bell</td>\n",
       "        <td>b&#x27;The Venom Within&#x27;</td>\n",
       "    </tr>\n",
       "    <tr>\n",
       "        <td>Drake Bell</td>\n",
       "        <td>b&#x27;Nightmare on Christmas&#x27;</td>\n",
       "    </tr>\n",
       "    <tr>\n",
       "        <td>Drake Bell</td>\n",
       "        <td>b&#x27;Ant-Man&#x27;</td>\n",
       "    </tr>\n",
       "    <tr>\n",
       "        <td>Drake Bell</td>\n",
       "        <td>b&#x27;Attack of the Synthezoids&#x27;</td>\n",
       "    </tr>\n",
       "    <tr>\n",
       "        <td>Drake Bell</td>\n",
       "        <td>b&#x27;The Revenge of Arnim Zola&#x27;</td>\n",
       "    </tr>\n",
       "    <tr>\n",
       "        <td>Drake Bell</td>\n",
       "        <td>b&#x27;Burrito Run&#x27;</td>\n",
       "    </tr>\n",
       "    <tr>\n",
       "        <td>Drake Bell</td>\n",
       "        <td>b&#x27;Contest of the Champions: Part 1&#x27;</td>\n",
       "    </tr>\n",
       "    <tr>\n",
       "        <td>Drake Bell</td>\n",
       "        <td>b&#x27;Contest of the Champions: Part 2&#x27;</td>\n",
       "    </tr>\n",
       "    <tr>\n",
       "        <td>Drake Bell</td>\n",
       "        <td>b&#x27;Contest of the Champions: Part 3&#x27;</td>\n",
       "    </tr>\n",
       "    <tr>\n",
       "        <td>Drake Bell</td>\n",
       "        <td>b&#x27;Contest of the Champions: Part 4&#x27;</td>\n",
       "    </tr>\n",
       "    <tr>\n",
       "        <td>Drake Bell</td>\n",
       "        <td>b&#x27;Rampaging Rhino&#x27;</td>\n",
       "    </tr>\n",
       "    <tr>\n",
       "        <td>Drake Bell</td>\n",
       "        <td>b&#x27;Spidey, I Blew Up the Dinosaur&#x27;</td>\n",
       "    </tr>\n",
       "    <tr>\n",
       "        <td>Drake Bell</td>\n",
       "        <td>b&#x27;Inhumanity&#x27;</td>\n",
       "    </tr>\n",
       "    <tr>\n",
       "        <td>Drake Bell</td>\n",
       "        <td>b&#x27;Hydra Attacks: Part 1&#x27;</td>\n",
       "    </tr>\n",
       "    <tr>\n",
       "        <td>Drake Bell</td>\n",
       "        <td>b&#x27;Hydra Attacks: Part 2&#x27;</td>\n",
       "    </tr>\n",
       "    <tr>\n",
       "        <td>Drake Bell</td>\n",
       "        <td>b&#x27;Miles from Home&#x27;</td>\n",
       "    </tr>\n",
       "    <tr>\n",
       "        <td>Drake Bell</td>\n",
       "        <td>b&#x27;Iron Vulture&#x27;</td>\n",
       "    </tr>\n",
       "    <tr>\n",
       "        <td>Drake Bell</td>\n",
       "        <td>b&#x27;Lizards&#x27;</td>\n",
       "    </tr>\n",
       "    <tr>\n",
       "        <td>Drake Bell</td>\n",
       "        <td>b&#x27;Double Agent Venom&#x27;</td>\n",
       "    </tr>\n",
       "    <tr>\n",
       "        <td>Drake Bell</td>\n",
       "        <td>b&#x27;Beached&#x27;</td>\n",
       "    </tr>\n",
       "    <tr>\n",
       "        <td>Drake Bell</td>\n",
       "        <td>b&#x27;Anti-Venom&#x27;</td>\n",
       "    </tr>\n",
       "    <tr>\n",
       "        <td>Drake Bell</td>\n",
       "        <td>b&#x27;Force of Nature&#x27;</td>\n",
       "    </tr>\n",
       "    <tr>\n",
       "        <td>Drake Bell</td>\n",
       "        <td>b&#x27;The New Sinister 6: Part 1&#x27;</td>\n",
       "    </tr>\n",
       "    <tr>\n",
       "        <td>Drake Bell</td>\n",
       "        <td>b&#x27;The New Sinister 6: Part 2&#x27;</td>\n",
       "    </tr>\n",
       "    <tr>\n",
       "        <td>Drake Bell</td>\n",
       "        <td>b&#x27;Agent Web&#x27;</td>\n",
       "    </tr>\n",
       "    <tr>\n",
       "        <td>Drake Bell</td>\n",
       "        <td>b&#x27;The Symbiote Saga: Part 1&#x27;</td>\n",
       "    </tr>\n",
       "    <tr>\n",
       "        <td>Drake Bell</td>\n",
       "        <td>b&#x27;The Symbiote Saga: Part 2&#x27;</td>\n",
       "    </tr>\n",
       "    <tr>\n",
       "        <td>Drake Bell</td>\n",
       "        <td>b&#x27;The Symbiote Saga: Part 3&#x27;</td>\n",
       "    </tr>\n",
       "    <tr>\n",
       "        <td>Drake Bell</td>\n",
       "        <td>b&#x27;Return to the Spider-Verse: Part 1&#x27;</td>\n",
       "    </tr>\n",
       "    <tr>\n",
       "        <td>Drake Bell</td>\n",
       "        <td>b&#x27;Return to the Spider-Verse: Part 2&#x27;</td>\n",
       "    </tr>\n",
       "    <tr>\n",
       "        <td>Drake Bell</td>\n",
       "        <td>b&#x27;Return to the Spider-Verse: Part 3&#x27;</td>\n",
       "    </tr>\n",
       "    <tr>\n",
       "        <td>Drake Bell</td>\n",
       "        <td>b&#x27;Return to the Spider-Verse: Part 4&#x27;</td>\n",
       "    </tr>\n",
       "    <tr>\n",
       "        <td>Drake Bell</td>\n",
       "        <td>b&#x27;Strange Little Halloween&#x27;</td>\n",
       "    </tr>\n",
       "    <tr>\n",
       "        <td>Drake Bell</td>\n",
       "        <td>b&#x27;The Spider Slayers: Part 1&#x27;</td>\n",
       "    </tr>\n",
       "    <tr>\n",
       "        <td>Drake Bell</td>\n",
       "        <td>b&#x27;The Spider Slayers: Part 2&#x27;</td>\n",
       "    </tr>\n",
       "    <tr>\n",
       "        <td>Drake Bell</td>\n",
       "        <td>b&#x27;The Spider Slayers: Part 3&#x27;</td>\n",
       "    </tr>\n",
       "    <tr>\n",
       "        <td>Drake Bell</td>\n",
       "        <td>b&#x27;The Moon Knight Before Christmas&#x27;</td>\n",
       "    </tr>\n",
       "    <tr>\n",
       "        <td>Drake Bell</td>\n",
       "        <td>b&#x27;Graduation Day: Part 1&#x27;</td>\n",
       "    </tr>\n",
       "    <tr>\n",
       "        <td>Drake Bell</td>\n",
       "        <td>b&#x27;Graduation Day: Part 2&#x27;</td>\n",
       "    </tr>\n",
       "    <tr>\n",
       "        <td>Forrest Whaley</td>\n",
       "        <td>b&#x27;The Spider-Man Team-Up!&#x27;</td>\n",
       "    </tr>\n",
       "    <tr>\n",
       "        <td>Forrest Whaley</td>\n",
       "        <td>b&#x27;The Lego Batman, Spider-Man, &amp; Chewbacca Movie&#x27;</td>\n",
       "    </tr>\n",
       "    <tr>\n",
       "        <td>Forrest Whaley</td>\n",
       "        <td>b&#x27;The Robin&#x27;</td>\n",
       "    </tr>\n",
       "    <tr>\n",
       "        <td>Ian Hecox</td>\n",
       "        <td>b&#x27;If Superheroes Were Real&#x27;</td>\n",
       "    </tr>\n",
       "    <tr>\n",
       "        <td>JP Karliak</td>\n",
       "        <td>b&#x27;Marvel Mash-Up&#x27;</td>\n",
       "    </tr>\n",
       "    <tr>\n",
       "        <td>Josh Keaton</td>\n",
       "        <td>b&#x27;The Spectacular Spider-Man&#x27;</td>\n",
       "    </tr>\n",
       "    <tr>\n",
       "        <td>Josh Keaton</td>\n",
       "        <td>b&#x27;Survival of the Fittest&#x27;</td>\n",
       "    </tr>\n",
       "    <tr>\n",
       "        <td>Josh Keaton</td>\n",
       "        <td>b&#x27;Interactions&#x27;</td>\n",
       "    </tr>\n",
       "    <tr>\n",
       "        <td>Josh Keaton</td>\n",
       "        <td>b&#x27;Natural Selection&#x27;</td>\n",
       "    </tr>\n",
       "    <tr>\n",
       "        <td>Josh Keaton</td>\n",
       "        <td>b&#x27;Market Forces&#x27;</td>\n",
       "    </tr>\n",
       "    <tr>\n",
       "        <td>Josh Keaton</td>\n",
       "        <td>b&#x27;Competition&#x27;</td>\n",
       "    </tr>\n",
       "    <tr>\n",
       "        <td>Josh Keaton</td>\n",
       "        <td>b&#x27;The Invisible Hand&#x27;</td>\n",
       "    </tr>\n",
       "    <tr>\n",
       "        <td>Josh Keaton</td>\n",
       "        <td>b&#x27;Catalysts&#x27;</td>\n",
       "    </tr>\n",
       "    <tr>\n",
       "        <td>Josh Keaton</td>\n",
       "        <td>b&#x27;Reaction&#x27;</td>\n",
       "    </tr>\n",
       "    <tr>\n",
       "        <td>Josh Keaton</td>\n",
       "        <td>b&#x27;Group Therapy&#x27;</td>\n",
       "    </tr>\n",
       "    <tr>\n",
       "        <td>Josh Keaton</td>\n",
       "        <td>b&#x27;Persona&#x27;</td>\n",
       "    </tr>\n",
       "    <tr>\n",
       "        <td>Josh Keaton</td>\n",
       "        <td>b&#x27;The Uncertainty Principle&#x27;</td>\n",
       "    </tr>\n",
       "    <tr>\n",
       "        <td>Josh Keaton</td>\n",
       "        <td>b&#x27;Intervention&#x27;</td>\n",
       "    </tr>\n",
       "    <tr>\n",
       "        <td>Josh Keaton</td>\n",
       "        <td>b&#x27;Nature vs. Nurture&#x27;</td>\n",
       "    </tr>\n",
       "    <tr>\n",
       "        <td>Josh Keaton</td>\n",
       "        <td>b&#x27;Blueprints&#x27;</td>\n",
       "    </tr>\n",
       "    <tr>\n",
       "        <td>Josh Keaton</td>\n",
       "        <td>b&#x27;Destructive Testing&#x27;</td>\n",
       "    </tr>\n",
       "    <tr>\n",
       "        <td>Josh Keaton</td>\n",
       "        <td>b&#x27;Reinforcement&#x27;</td>\n",
       "    </tr>\n",
       "    <tr>\n",
       "        <td>Josh Keaton</td>\n",
       "        <td>b&#x27;Shear Strength&#x27;</td>\n",
       "    </tr>\n",
       "    <tr>\n",
       "        <td>Josh Keaton</td>\n",
       "        <td>b&#x27;First Steps&#x27;</td>\n",
       "    </tr>\n",
       "    <tr>\n",
       "        <td>Josh Keaton</td>\n",
       "        <td>b&#x27;Growing Pains&#x27;</td>\n",
       "    </tr>\n",
       "    <tr>\n",
       "        <td>Josh Keaton</td>\n",
       "        <td>b&#x27;Identity Crisis&#x27;</td>\n",
       "    </tr>\n",
       "    <tr>\n",
       "        <td>Josh Keaton</td>\n",
       "        <td>b&#x27;Accomplices&#x27;</td>\n",
       "    </tr>\n",
       "    <tr>\n",
       "        <td>Josh Keaton</td>\n",
       "        <td>b&#x27;Gangland&#x27;</td>\n",
       "    </tr>\n",
       "    <tr>\n",
       "        <td>Josh Keaton</td>\n",
       "        <td>b&#x27;Probable Cause&#x27;</td>\n",
       "    </tr>\n",
       "    <tr>\n",
       "        <td>Josh Keaton</td>\n",
       "        <td>b&#x27;Subtext&#x27;</td>\n",
       "    </tr>\n",
       "    <tr>\n",
       "        <td>Josh Keaton</td>\n",
       "        <td>b&#x27;Opening Night&#x27;</td>\n",
       "    </tr>\n",
       "    <tr>\n",
       "        <td>Josh Keaton</td>\n",
       "        <td>b&#x27;Final Curtain&#x27;</td>\n",
       "    </tr>\n",
       "    <tr>\n",
       "        <td>Mikey Day</td>\n",
       "        <td>b&#x27;I Love You, Iron Man/Ben 10 Franklin&#x27;</td>\n",
       "    </tr>\n",
       "    <tr>\n",
       "        <td>Mikey Day</td>\n",
       "        <td>b&#x27;iChronicle/Hulk Smash&#x27;</td>\n",
       "    </tr>\n",
       "    <tr>\n",
       "        <td>Mikey Day</td>\n",
       "        <td>b&#x27;The Amazing Spider-Minaj/Go, Dragon Ball, Go!&#x27;</td>\n",
       "    </tr>\n",
       "    <tr>\n",
       "        <td>Neil Patrick Harris</td>\n",
       "        <td>b&#x27;Spider-Man&#x27;</td>\n",
       "    </tr>\n",
       "    <tr>\n",
       "        <td>Neil Patrick Harris</td>\n",
       "        <td>b&#x27;Flash Memory&#x27;</td>\n",
       "    </tr>\n",
       "    <tr>\n",
       "        <td>Neil Patrick Harris</td>\n",
       "        <td>b&#x27;Head Over Heels&#x27;</td>\n",
       "    </tr>\n",
       "    <tr>\n",
       "        <td>Neil Patrick Harris</td>\n",
       "        <td>b&#x27;Heroes and Villains&#x27;</td>\n",
       "    </tr>\n",
       "    <tr>\n",
       "        <td>Neil Patrick Harris</td>\n",
       "        <td>b&#x27;Keeping Secrets&#x27;</td>\n",
       "    </tr>\n",
       "    <tr>\n",
       "        <td>Neil Patrick Harris</td>\n",
       "        <td>b&#x27;Law of the Jungle&#x27;</td>\n",
       "    </tr>\n",
       "    <tr>\n",
       "        <td>Neil Patrick Harris</td>\n",
       "        <td>b&#x27;Mind Games: Part 1&#x27;</td>\n",
       "    </tr>\n",
       "    <tr>\n",
       "        <td>Neil Patrick Harris</td>\n",
       "        <td>b&#x27;Mind Games: Part 2&#x27;</td>\n",
       "    </tr>\n",
       "    <tr>\n",
       "        <td>Neil Patrick Harris</td>\n",
       "        <td>b&#x27;Royal Scam&#x27;</td>\n",
       "    </tr>\n",
       "    <tr>\n",
       "        <td>Neil Patrick Harris</td>\n",
       "        <td>b&#x27;Spider-Man Dis-Abled&#x27;</td>\n",
       "    </tr>\n",
       "    <tr>\n",
       "        <td>Neil Patrick Harris</td>\n",
       "        <td>b&#x27;Sword of Shikata&#x27;</td>\n",
       "    </tr>\n",
       "    <tr>\n",
       "        <td>Neil Patrick Harris</td>\n",
       "        <td>b&#x27;The Party&#x27;</td>\n",
       "    </tr>\n",
       "    <tr>\n",
       "        <td>Neil Patrick Harris</td>\n",
       "        <td>b&#x27;Tight Squeeze&#x27;</td>\n",
       "    </tr>\n",
       "    <tr>\n",
       "        <td>Neil Patrick Harris</td>\n",
       "        <td>b&#x27;When Sparks Fly&#x27;</td>\n",
       "    </tr>\n",
       "    <tr>\n",
       "        <td>Rino Romano</td>\n",
       "        <td>b&#x27;Worlds Apart: Part 1&#x27;</td>\n",
       "    </tr>\n",
       "    <tr>\n",
       "        <td>Rino Romano</td>\n",
       "        <td>b&#x27;Ill-Met by Moonlight&#x27;</td>\n",
       "    </tr>\n",
       "    <tr>\n",
       "        <td>Rino Romano</td>\n",
       "        <td>b&#x27;Cry Vulture&#x27;</td>\n",
       "    </tr>\n",
       "    <tr>\n",
       "        <td>Rino Romano</td>\n",
       "        <td>b&#x27;Worlds Apart: Part 2&#x27;</td>\n",
       "    </tr>\n",
       "    <tr>\n",
       "        <td>Rino Romano</td>\n",
       "        <td>b&#x27;Spider-Man Unlimited&#x27;</td>\n",
       "    </tr>\n",
       "    <tr>\n",
       "        <td>Rino Romano</td>\n",
       "        <td>b&#x27;Matters of the Heart&#x27;</td>\n",
       "    </tr>\n",
       "    <tr>\n",
       "        <td>Rino Romano</td>\n",
       "        <td>b&#x27;Deadly Choices&#x27;</td>\n",
       "    </tr>\n",
       "    <tr>\n",
       "        <td>Rino Romano</td>\n",
       "        <td>b&#x27;Sustenance&#x27;</td>\n",
       "    </tr>\n",
       "    <tr>\n",
       "        <td>Rino Romano</td>\n",
       "        <td>b&#x27;Sins of the Fathers&#x27;</td>\n",
       "    </tr>\n",
       "    <tr>\n",
       "        <td>Rino Romano</td>\n",
       "        <td>b&#x27;One Is the Loneliest Number&#x27;</td>\n",
       "    </tr>\n",
       "    <tr>\n",
       "        <td>Rino Romano</td>\n",
       "        <td>b&#x27;Destiny Unleashed&#x27;</td>\n",
       "    </tr>\n",
       "    <tr>\n",
       "        <td>Rino Romano</td>\n",
       "        <td>b&#x27;Steel Cold Heart&#x27;</td>\n",
       "    </tr>\n",
       "    <tr>\n",
       "        <td>Rino Romano</td>\n",
       "        <td>b&#x27;Where Evil Nests&#x27;</td>\n",
       "    </tr>\n",
       "    <tr>\n",
       "        <td>Rino Romano</td>\n",
       "        <td>b&#x27;Enter the Hunter!&#x27;</td>\n",
       "    </tr>\n",
       "    <tr>\n",
       "        <td>Robbie Daymond</td>\n",
       "        <td>b&#x27;Brand New Day&#x27;</td>\n",
       "    </tr>\n",
       "    <tr>\n",
       "        <td>Robbie Daymond</td>\n",
       "        <td>b&#x27;The Cellar&#x27;</td>\n",
       "    </tr>\n",
       "    <tr>\n",
       "        <td>Robbie Daymond</td>\n",
       "        <td>b&#x27;The Road to Goblin War&#x27;</td>\n",
       "    </tr>\n",
       "    <tr>\n",
       "        <td>Robbie Daymond</td>\n",
       "        <td>b&#x27;Goblin War Part One&#x27;</td>\n",
       "    </tr>\n",
       "    <tr>\n",
       "        <td>Robbie Daymond</td>\n",
       "        <td>b&#x27;Goblin War Part Two&#x27;</td>\n",
       "    </tr>\n",
       "    <tr>\n",
       "        <td>Robbie Daymond</td>\n",
       "        <td>b&#x27;Goblin War Part Three&#x27;</td>\n",
       "    </tr>\n",
       "    <tr>\n",
       "        <td>Robbie Daymond</td>\n",
       "        <td>b&#x27;Goblin War Part Four&#x27;</td>\n",
       "    </tr>\n",
       "    <tr>\n",
       "        <td>Robbie Daymond</td>\n",
       "        <td>b&#x27;Web of Venom&#x27;</td>\n",
       "    </tr>\n",
       "    <tr>\n",
       "        <td>Robbie Daymond</td>\n",
       "        <td>b&#x27;Amazing Friends&#x27;</td>\n",
       "    </tr>\n",
       "    <tr>\n",
       "        <td>Robbie Daymond</td>\n",
       "        <td>b&#x27;Vengeance of Venom&#x27;</td>\n",
       "    </tr>\n",
       "    <tr>\n",
       "        <td>Robbie Daymond</td>\n",
       "        <td>b&#x27;Spider-Man Unmasked&#x27;</td>\n",
       "    </tr>\n",
       "    <tr>\n",
       "        <td>Robbie Daymond</td>\n",
       "        <td>b&#x27;Generations&#x27;</td>\n",
       "    </tr>\n",
       "    <tr>\n",
       "        <td>Robbie Daymond</td>\n",
       "        <td>b&#x27;Maximum Venom&#x27;</td>\n",
       "    </tr>\n",
       "    <tr>\n",
       "        <td>Robbie Daymond</td>\n",
       "        <td>b&#x27;Spider-Man&#x27;</td>\n",
       "    </tr>\n",
       "    <tr>\n",
       "        <td>Robbie Daymond</td>\n",
       "        <td>b&#x27;Horizon High: Part One&#x27;</td>\n",
       "    </tr>\n",
       "    <tr>\n",
       "        <td>Robbie Daymond</td>\n",
       "        <td>b&#x27;Horizon High: Part Two&#x27;</td>\n",
       "    </tr>\n",
       "    <tr>\n",
       "        <td>Robbie Daymond</td>\n",
       "        <td>b&#x27;Origins&#x27;</td>\n",
       "    </tr>\n",
       "    <tr>\n",
       "        <td>Robbie Daymond</td>\n",
       "        <td>b&#x27;Osborn Academy&#x27;</td>\n",
       "    </tr>\n",
       "    <tr>\n",
       "        <td>Robbie Daymond</td>\n",
       "        <td>b&#x27;Party Animals&#x27;</td>\n",
       "    </tr>\n",
       "    <tr>\n",
       "        <td>Robbie Daymond</td>\n",
       "        <td>b&#x27;A Day in the Life&#x27;</td>\n",
       "    </tr>\n",
       "    <tr>\n",
       "        <td>Robbie Daymond</td>\n",
       "        <td>b&#x27;Symbiotic Relationship&#x27;</td>\n",
       "    </tr>\n",
       "    <tr>\n",
       "        <td>Robbie Daymond</td>\n",
       "        <td>b&#x27;Sandman&#x27;</td>\n",
       "    </tr>\n",
       "    <tr>\n",
       "        <td>Robbie Daymond</td>\n",
       "        <td>b&#x27;Ultimate Spider-Man&#x27;</td>\n",
       "    </tr>\n",
       "    <tr>\n",
       "        <td>Robbie Daymond</td>\n",
       "        <td>b&#x27;Stark Expo&#x27;</td>\n",
       "    </tr>\n",
       "    <tr>\n",
       "        <td>Robbie Daymond</td>\n",
       "        <td>b&quot;Kraven&#x27;s Amazing Hunt&quot;</td>\n",
       "    </tr>\n",
       "    <tr>\n",
       "        <td>Robbie Daymond</td>\n",
       "        <td>b&#x27;Halloween Moon&#x27;</td>\n",
       "    </tr>\n",
       "    <tr>\n",
       "        <td>Robbie Daymond</td>\n",
       "        <td>b&#x27;Spider-Man on Ice&#x27;</td>\n",
       "    </tr>\n",
       "    <tr>\n",
       "        <td>Robbie Daymond</td>\n",
       "        <td>b&#x27;Venom&#x27;</td>\n",
       "    </tr>\n",
       "    <tr>\n",
       "        <td>Robbie Daymond</td>\n",
       "        <td>b&#x27;Screwball Live&#x27;</td>\n",
       "    </tr>\n",
       "    <tr>\n",
       "        <td>Robbie Daymond</td>\n",
       "        <td>b&#x27;The Rise of Doc Ock: Part One&#x27;</td>\n",
       "    </tr>\n",
       "    <tr>\n",
       "        <td>Robbie Daymond</td>\n",
       "        <td>b&#x27;The Rise of Doc Ock: Part Two&#x27;</td>\n",
       "    </tr>\n",
       "    <tr>\n",
       "        <td>Robbie Daymond</td>\n",
       "        <td>b&#x27;The Rise of Doc Ock: Part Three&#x27;</td>\n",
       "    </tr>\n",
       "    <tr>\n",
       "        <td>Robbie Daymond</td>\n",
       "        <td>b&#x27;The Rise of Doc Ock: Part Four&#x27;</td>\n",
       "    </tr>\n",
       "    <tr>\n",
       "        <td>Robbie Daymond</td>\n",
       "        <td>b&#x27;Spider-Island: Part One&#x27;</td>\n",
       "    </tr>\n",
       "    <tr>\n",
       "        <td>Robbie Daymond</td>\n",
       "        <td>b&#x27;Spider-Island: Part Two&#x27;</td>\n",
       "    </tr>\n",
       "    <tr>\n",
       "        <td>Robbie Daymond</td>\n",
       "        <td>b&#x27;Spider-Island: Part Three&#x27;</td>\n",
       "    </tr>\n",
       "    <tr>\n",
       "        <td>Robbie Daymond</td>\n",
       "        <td>b&#x27;Spider-Island: Part Four&#x27;</td>\n",
       "    </tr>\n",
       "    <tr>\n",
       "        <td>Robbie Daymond</td>\n",
       "        <td>b&#x27;Spider-Island: Part Five&#x27;</td>\n",
       "    </tr>\n",
       "    <tr>\n",
       "        <td>Robbie Daymond</td>\n",
       "        <td>b&#x27;The Living Brain&#x27;</td>\n",
       "    </tr>\n",
       "    <tr>\n",
       "        <td>Robbie Daymond</td>\n",
       "        <td>b&#x27;The Hobgoblin: Part One&#x27;</td>\n",
       "    </tr>\n",
       "    <tr>\n",
       "        <td>Robbie Daymond</td>\n",
       "        <td>b&#x27;Take Two&#x27;</td>\n",
       "    </tr>\n",
       "    <tr>\n",
       "        <td>Robbie Daymond</td>\n",
       "        <td>b&#x27;How I Thwipped My Summer Vacation&#x27;</td>\n",
       "    </tr>\n",
       "    <tr>\n",
       "        <td>Robbie Daymond</td>\n",
       "        <td>b&#x27;Rise Above It All&#x27;</td>\n",
       "    </tr>\n",
       "    <tr>\n",
       "        <td>Robbie Daymond</td>\n",
       "        <td>b&quot;Dead Man&#x27;s Party&quot;</td>\n",
       "    </tr>\n",
       "    <tr>\n",
       "        <td>Robbie Daymond</td>\n",
       "        <td>b&#x27;Between an Ock and a Hard Place&#x27;</td>\n",
       "    </tr>\n",
       "    <tr>\n",
       "        <td>Robbie Daymond</td>\n",
       "        <td>b&#x27;Venom Returns&#x27;</td>\n",
       "    </tr>\n",
       "    <tr>\n",
       "        <td>Robbie Daymond</td>\n",
       "        <td>b&#x27;School of Hard Knocks&#x27;</td>\n",
       "    </tr>\n",
       "    <tr>\n",
       "        <td>Robbie Daymond</td>\n",
       "        <td>b&#x27;Bring on the Bad Guys: Part Four&#x27;</td>\n",
       "    </tr>\n",
       "    <tr>\n",
       "        <td>Robbie Daymond</td>\n",
       "        <td>b&#x27;Bring on the Bad Guys: Part Three&#x27;</td>\n",
       "    </tr>\n",
       "    <tr>\n",
       "        <td>Robbie Daymond</td>\n",
       "        <td>b&#x27;The Hobgoblin: Part Two&#x27;</td>\n",
       "    </tr>\n",
       "    <tr>\n",
       "        <td>Robbie Daymond</td>\n",
       "        <td>b&#x27;Brain Drain&#x27;</td>\n",
       "    </tr>\n",
       "    <tr>\n",
       "        <td>Robbie Daymond</td>\n",
       "        <td>b&#x27;Vibranium Curtain: Part Two&#x27;</td>\n",
       "    </tr>\n",
       "    <tr>\n",
       "        <td>Robbie Daymond</td>\n",
       "        <td>b&#x27;Bring on the Bad Guys: Part Two&#x27;</td>\n",
       "    </tr>\n",
       "    <tr>\n",
       "        <td>Robbie Daymond</td>\n",
       "        <td>b&#x27;Bring on the Bad Guys: Part One&#x27;</td>\n",
       "    </tr>\n",
       "    <tr>\n",
       "        <td>Sean Chiplock</td>\n",
       "        <td>b&#x27;The Origin of Spider-Man&#x27;</td>\n",
       "    </tr>\n",
       "    <tr>\n",
       "        <td>Shane Dawson</td>\n",
       "        <td>b&#x27;The Lego Batman &amp; Spider-Man Movie 2&#x27;</td>\n",
       "    </tr>\n",
       "    <tr>\n",
       "        <td>Stan Lee</td>\n",
       "        <td>b&#x27;Superheroes: A Never-Ending Battle&#x27;</td>\n",
       "    </tr>\n",
       "    <tr>\n",
       "        <td>Tobey Maguire</td>\n",
       "        <td>b&#x27;Spider-Man&#x27;</td>\n",
       "    </tr>\n",
       "    <tr>\n",
       "        <td>Tobey Maguire</td>\n",
       "        <td>b&#x27;Spider-Man 2&#x27;</td>\n",
       "    </tr>\n",
       "    <tr>\n",
       "        <td>Tobey Maguire</td>\n",
       "        <td>b&#x27;Spider-Man 3&#x27;</td>\n",
       "    </tr>\n",
       "    <tr>\n",
       "        <td>Tobey Maguire</td>\n",
       "        <td>b&#x27;Spider-Man 2&#x27;</td>\n",
       "    </tr>\n",
       "    <tr>\n",
       "        <td>Tobey Maguire</td>\n",
       "        <td>b&#x27;Top 11 Dumbasses in Distress&#x27;</td>\n",
       "    </tr>\n",
       "    <tr>\n",
       "        <td>Tom Holland</td>\n",
       "        <td>b&#x27;Spider-Man: No Way Home&#x27;</td>\n",
       "    </tr>\n",
       "    <tr>\n",
       "        <td>Tom Holland</td>\n",
       "        <td>b&#x27;Spider-Man: Homecoming&#x27;</td>\n",
       "    </tr>\n",
       "    <tr>\n",
       "        <td>Tom Holland</td>\n",
       "        <td>b&#x27;Spider-Man: Far from Home&#x27;</td>\n",
       "    </tr>\n",
       "</table>"
      ],
      "text/plain": [
       "[('Aaron Schoenke', b'Spider-Man vs. Darth Maul'),\n",
       " ('Andrew Garfield', b'The Amazing Spider-Man'),\n",
       " ('Andrew Garfield', b'The Amazing Spider-Man 2'),\n",
       " ('Andy Richter', b'Major League of Extraordinary Gentlemen'),\n",
       " ('Christopher Daniel Barnes', b'Spider-Man: The Animated Series'),\n",
       " ('Christopher Daniel Barnes', b'Day of the Chameleon'),\n",
       " ('Christopher Daniel Barnes', b'Doctor Octopus: Armed and Dangerous'),\n",
       " ('Christopher Daniel Barnes', b'Kraven the Hunter'),\n",
       " ('Christopher Daniel Barnes', b'Neogenic Nightmare Chapter 10: The Immortal Vampire'),\n",
       " ('Christopher Daniel Barnes', b'Neogenic Nightmare Chapter 11: Tablet of Time'),\n",
       " ('Christopher Daniel Barnes', b'Neogenic Nightmare Chapter 12: Ravages of Time'),\n",
       " ('Christopher Daniel Barnes', b'Neogenic Nightmare Chapter 13: Shriek of the Vulture'),\n",
       " ('Christopher Daniel Barnes', b'Neogenic Nightmare Chapter 14: The Final Nightmare'),\n",
       " ('Christopher Daniel Barnes', b'Neogenic Nightmare Chapter 1: The Insidious Six'),\n",
       " ('Christopher Daniel Barnes', b'Neogenic Nightmare Chapter 2: Battle of the Insidious Six'),\n",
       " ('Christopher Daniel Barnes', b'Neogenic Nightmare Chapter 3: Hydro-Man'),\n",
       " ('Christopher Daniel Barnes', b'Neogenic Nightmare Chapter 4: The Mutant Agenda'),\n",
       " ('Christopher Daniel Barnes', b'Neogenic Nightmare Chapter 5: Mutants Revenge'),\n",
       " ('Christopher Daniel Barnes', b'Neogenic Nightmare Chapter 6: Morbius'),\n",
       " ('Christopher Daniel Barnes', b'Neogenic Nightmare Chapter 7: Enter the Punisher'),\n",
       " ('Christopher Daniel Barnes', b'Neogenic Nightmare Chapter 8: Duel of the Hunters'),\n",
       " ('Christopher Daniel Barnes', b'Neogenic Nightmare Chapter 9: Blade the Vampire Hunter'),\n",
       " ('Christopher Daniel Barnes', b'Night of the Lizard'),\n",
       " ('Christopher Daniel Barnes', b'Partners in Danger Chapter 10: Lizard King'),\n",
       " ('Christopher Daniel Barnes', b'Partners in Danger Chapter 11: The Prowler'),\n",
       " ('Christopher Daniel Barnes', b'Partners in Danger Chapter 1: Guilty'),\n",
       " ('Christopher Daniel Barnes', b'Partners in Danger Chapter 2: The Cat'),\n",
       " ('Christopher Daniel Barnes', b'Partners in Danger Chapter 3: The Black Cat'),\n",
       " ('Christopher Daniel Barnes', b'Partners in Danger Chapter 4: Return of Kraven'),\n",
       " ('Christopher Daniel Barnes', b'Partners in Danger Chapter 5: Partners'),\n",
       " ('Christopher Daniel Barnes', b'Partners in Danger Chapter 6: The Awakening'),\n",
       " ('Christopher Daniel Barnes', b'Partners in Danger Chapter 7: The Vampire Queen'),\n",
       " ('Christopher Daniel Barnes', b'Partners in Danger Chapter 8: The Return of the Green Goblin'),\n",
       " ('Christopher Daniel Barnes', b'Partners in Danger Chapter 9: The Haunting of Mary Jane'),\n",
       " ('Christopher Daniel Barnes', b'Secret Wars, Chapter 1: Arrival'),\n",
       " ('Christopher Daniel Barnes', b'Secret Wars, Chapter 2: The Gauntlet of the Red Skull'),\n",
       " ('Christopher Daniel Barnes', b'Secret Wars, Chapter 3: Doom'),\n",
       " ('Christopher Daniel Barnes', b'Sins of the Fathers Chapter 10: Venom Returns'),\n",
       " ('Christopher Daniel Barnes', b'Sins of the Fathers Chapter 11: Carnage'),\n",
       " ('Christopher Daniel Barnes', b'Sins of the Fathers Chapter 12: The Spot'),\n",
       " ('Christopher Daniel Barnes', b'Sins of the Fathers Chapter 13: Goblin War!'),\n",
       " ('Christopher Daniel Barnes', b'Sins of the Fathers Chapter 14: The Turning Point'),\n",
       " ('Christopher Daniel Barnes', b'Sins of the Fathers Chapter 1: Doctor Strange'),\n",
       " ('Christopher Daniel Barnes', b'Sins of the Fathers Chapter 2: Make a Wish'),\n",
       " ('Christopher Daniel Barnes', b'Sins of the Fathers Chapter 3: Attack of the Octobot'),\n",
       " ('Christopher Daniel Barnes', b'Sins of the Fathers Chapter 4: Enter the Green Goblin'),\n",
       " ('Christopher Daniel Barnes', b'Sins of the Fathers Chapter 5: The Rocket Racer'),\n",
       " ('Christopher Daniel Barnes', b'Sins of the Fathers Chapter 6: Framed'),\n",
       " ('Christopher Daniel Barnes', b'Sins of the Fathers Chapter 7: The Man Without Fear'),\n",
       " ('Christopher Daniel Barnes', b'Sins of the Fathers Chapter 8: The Ultimate Slayer'),\n",
       " ('Christopher Daniel Barnes', b'Sins of the Fathers Chapter 9: Tombstone'),\n",
       " ('Christopher Daniel Barnes', b'Six Forgotten Warriors Chapter 1'),\n",
       " ('Christopher Daniel Barnes', b'Six Forgotten Warriors Chapter 2: Unclaimed Legacy'),\n",
       " ('Christopher Daniel Barnes', b'Six Forgotten Warriors Chapter 3: Secrets of the Six'),\n",
       " ('Christopher Daniel Barnes', b'Six Forgotten Warriors Chapter 4: The Six Fight Again'),\n",
       " ('Christopher Daniel Barnes', b'Six Forgotten Warriors Chapter 5: The Price of Heroism'),\n",
       " ('Christopher Daniel Barnes', b'Spider Wars, Chapter 1: I Really, Really Hate Clones'),\n",
       " ('Christopher Daniel Barnes', b'Spider Wars, Chapter 2: Farewell Spider-Man'),\n",
       " ('Christopher Daniel Barnes', b'The Alien Costume: Part 1'),\n",
       " ('Christopher Daniel Barnes', b'The Alien Costume: Part 2'),\n",
       " ('Christopher Daniel Barnes', b'The Alien Costume: Part 3'),\n",
       " ('Christopher Daniel Barnes', b'The Hobgoblin: Part 1'),\n",
       " ('Christopher Daniel Barnes', b'The Hobgoblin: Part 2'),\n",
       " ('Christopher Daniel Barnes', b'The Menace of Mysterio'),\n",
       " ('Christopher Daniel Barnes', b'The Return of Hydro-Man: Part 2'),\n",
       " ('Christopher Daniel Barnes', b'The Return of the Spider-Slayers'),\n",
       " ('Christopher Daniel Barnes', b'The Spider Slayer'),\n",
       " ('Christopher Daniel Barnes', b'The Sting of the Scorpion'),\n",
       " ('Christopher Daniel Barnes', b'The Wedding'),\n",
       " ('Cole Howard', b'Marvel Video Comics'),\n",
       " ('Cole Howard', b'Marvel Super Hero Adventures'),\n",
       " ('Doug Walker', b'The Amazing Spider-Man 2'),\n",
       " ('Doug Walker', b'The League of Extraordinary Gentlemen'),\n",
       " ('Drake Bell', b'Ultimate Spider-Man'),\n",
       " ('Drake Bell', b'Great Power'),\n",
       " ('Drake Bell', b'Great Responsibility'),\n",
       " ('Drake Bell', b'Doomed'),\n",
       " ('Drake Bell', b'Venom'),\n",
       " ('Drake Bell', b'Flight of the Iron Spider'),\n",
       " ('Drake Bell', b'Why I Hate the Gym'),\n",
       " ('Drake Bell', b'Venomous'),\n",
       " ('Drake Bell', b'Strange'),\n",
       " ('Drake Bell', b'Freaky'),\n",
       " ('Drake Bell', b'Exclusive'),\n",
       " ('Drake Bell', b'Back in Black'),\n",
       " ('Drake Bell', b'Me Time'),\n",
       " ('Drake Bell', b'Field Trip'),\n",
       " ('Drake Bell', b'For Your Eye Only'),\n",
       " ('Drake Bell', b'Beetle Mania'),\n",
       " ('Drake Bell', b'Snow Day'),\n",
       " ('Drake Bell', b'Damage'),\n",
       " ('Drake Bell', b'Home Sick Hulk'),\n",
       " ('Drake Bell', b'Run Pig Run'),\n",
       " ('Drake Bell', b'I Am Spider-Man'),\n",
       " ('Drake Bell', b'The Iron Octopus'),\n",
       " ('Drake Bell', b'Not a Toy'),\n",
       " ('Drake Bell', b'Attack of the Beetle'),\n",
       " ('Drake Bell', b'Revealed'),\n",
       " ('Drake Bell', b'Rise of the Goblin'),\n",
       " ('Drake Bell', b'New Avengers'),\n",
       " ('Drake Bell', b'The Lizard'),\n",
       " ('Drake Bell', b'Awesome'),\n",
       " ('Drake Bell', b'Electro'),\n",
       " ('Drake Bell', b'The Rhino'),\n",
       " ('Drake Bell', b'Kraven the Hunter'),\n",
       " ('Drake Bell', b'Hawkeye'),\n",
       " ('Drake Bell', b'Sinister Six'),\n",
       " ('Drake Bell', b'Spidah-Man'),\n",
       " ('Drake Bell', b'Carnage'),\n",
       " ('Drake Bell', b'Journey of the Iron Fist'),\n",
       " ('Drake Bell', b'House Arrest'),\n",
       " ('Drake Bell', b'The Man-Wolf'),\n",
       " ('Drake Bell', b'The Incredible Spider-Hulk'),\n",
       " ('Drake Bell', b'Game Over'),\n",
       " ('Drake Bell', b'Second Chance Hero'),\n",
       " ('Drake Bell', b'Stan by Me'),\n",
       " ('Drake Bell', b'Swarm'),\n",
       " ('Drake Bell', b'Itsy Bitsy Spider-Man'),\n",
       " ('Drake Bell', b'Ultimate Deadpool'),\n",
       " ('Drake Bell', b'Venom Bomb'),\n",
       " ('Drake Bell', b'The Parent Trap'),\n",
       " ('Drake Bell', b'Guardians of the Galaxy'),\n",
       " ('Drake Bell', b'The Howling Commandos'),\n",
       " ('Drake Bell', b'Sandman Returns'),\n",
       " ('Drake Bell', b'The Collector'),\n",
       " ('Drake Bell', b'The Avenging Spider-Man: Part 1'),\n",
       " ('Drake Bell', b'The Avenging Spider-Man: Part 2'),\n",
       " ('Drake Bell', b'Agent Venom'),\n",
       " ('Drake Bell', b'Cloak and Dagger'),\n",
       " ('Drake Bell', b'The Next Iron Spider'),\n",
       " ('Drake Bell', b'The Vulture'),\n",
       " ('Drake Bell', b'The Savage Spider-Man'),\n",
       " ('Drake Bell', b'New Warriors'),\n",
       " ('Drake Bell', b'The Return of the Guardians of the Galaxy'),\n",
       " ('Drake Bell', b'The Spider-Verse: Part 2'),\n",
       " ('Drake Bell', b'The Spider-Verse: Part 3'),\n",
       " ('Drake Bell', b'The Spider-Verse: Part 4'),\n",
       " ('Drake Bell', b'The Spider-Verse: Part 1'),\n",
       " ('Drake Bell', b'Return of the Sinister Six'),\n",
       " ('Drake Bell', b'Ultimate'),\n",
       " ('Drake Bell', b'Blade'),\n",
       " ('Drake Bell', b'SHIELD Academy'),\n",
       " ('Drake Bell', b'Halloween Night at the Museum'),\n",
       " ('Drake Bell', b'The Venom Within'),\n",
       " ('Drake Bell', b'Nightmare on Christmas'),\n",
       " ('Drake Bell', b'Ant-Man'),\n",
       " ('Drake Bell', b'Attack of the Synthezoids'),\n",
       " ('Drake Bell', b'The Revenge of Arnim Zola'),\n",
       " ('Drake Bell', b'Burrito Run'),\n",
       " ('Drake Bell', b'Contest of the Champions: Part 1'),\n",
       " ('Drake Bell', b'Contest of the Champions: Part 2'),\n",
       " ('Drake Bell', b'Contest of the Champions: Part 3'),\n",
       " ('Drake Bell', b'Contest of the Champions: Part 4'),\n",
       " ('Drake Bell', b'Rampaging Rhino'),\n",
       " ('Drake Bell', b'Spidey, I Blew Up the Dinosaur'),\n",
       " ('Drake Bell', b'Inhumanity'),\n",
       " ('Drake Bell', b'Hydra Attacks: Part 1'),\n",
       " ('Drake Bell', b'Hydra Attacks: Part 2'),\n",
       " ('Drake Bell', b'Miles from Home'),\n",
       " ('Drake Bell', b'Iron Vulture'),\n",
       " ('Drake Bell', b'Lizards'),\n",
       " ('Drake Bell', b'Double Agent Venom'),\n",
       " ('Drake Bell', b'Beached'),\n",
       " ('Drake Bell', b'Anti-Venom'),\n",
       " ('Drake Bell', b'Force of Nature'),\n",
       " ('Drake Bell', b'The New Sinister 6: Part 1'),\n",
       " ('Drake Bell', b'The New Sinister 6: Part 2'),\n",
       " ('Drake Bell', b'Agent Web'),\n",
       " ('Drake Bell', b'The Symbiote Saga: Part 1'),\n",
       " ('Drake Bell', b'The Symbiote Saga: Part 2'),\n",
       " ('Drake Bell', b'The Symbiote Saga: Part 3'),\n",
       " ('Drake Bell', b'Return to the Spider-Verse: Part 1'),\n",
       " ('Drake Bell', b'Return to the Spider-Verse: Part 2'),\n",
       " ('Drake Bell', b'Return to the Spider-Verse: Part 3'),\n",
       " ('Drake Bell', b'Return to the Spider-Verse: Part 4'),\n",
       " ('Drake Bell', b'Strange Little Halloween'),\n",
       " ('Drake Bell', b'The Spider Slayers: Part 1'),\n",
       " ('Drake Bell', b'The Spider Slayers: Part 2'),\n",
       " ('Drake Bell', b'The Spider Slayers: Part 3'),\n",
       " ('Drake Bell', b'The Moon Knight Before Christmas'),\n",
       " ('Drake Bell', b'Graduation Day: Part 1'),\n",
       " ('Drake Bell', b'Graduation Day: Part 2'),\n",
       " ('Forrest Whaley', b'The Spider-Man Team-Up!'),\n",
       " ('Forrest Whaley', b'The Lego Batman, Spider-Man, & Chewbacca Movie'),\n",
       " ('Forrest Whaley', b'The Robin'),\n",
       " ('Ian Hecox', b'If Superheroes Were Real'),\n",
       " ('JP Karliak', b'Marvel Mash-Up'),\n",
       " ('Josh Keaton', b'The Spectacular Spider-Man'),\n",
       " ('Josh Keaton', b'Survival of the Fittest'),\n",
       " ('Josh Keaton', b'Interactions'),\n",
       " ('Josh Keaton', b'Natural Selection'),\n",
       " ('Josh Keaton', b'Market Forces'),\n",
       " ('Josh Keaton', b'Competition'),\n",
       " ('Josh Keaton', b'The Invisible Hand'),\n",
       " ('Josh Keaton', b'Catalysts'),\n",
       " ('Josh Keaton', b'Reaction'),\n",
       " ('Josh Keaton', b'Group Therapy'),\n",
       " ('Josh Keaton', b'Persona'),\n",
       " ('Josh Keaton', b'The Uncertainty Principle'),\n",
       " ('Josh Keaton', b'Intervention'),\n",
       " ('Josh Keaton', b'Nature vs. Nurture'),\n",
       " ('Josh Keaton', b'Blueprints'),\n",
       " ('Josh Keaton', b'Destructive Testing'),\n",
       " ('Josh Keaton', b'Reinforcement'),\n",
       " ('Josh Keaton', b'Shear Strength'),\n",
       " ('Josh Keaton', b'First Steps'),\n",
       " ('Josh Keaton', b'Growing Pains'),\n",
       " ('Josh Keaton', b'Identity Crisis'),\n",
       " ('Josh Keaton', b'Accomplices'),\n",
       " ('Josh Keaton', b'Gangland'),\n",
       " ('Josh Keaton', b'Probable Cause'),\n",
       " ('Josh Keaton', b'Subtext'),\n",
       " ('Josh Keaton', b'Opening Night'),\n",
       " ('Josh Keaton', b'Final Curtain'),\n",
       " ('Mikey Day', b'I Love You, Iron Man/Ben 10 Franklin'),\n",
       " ('Mikey Day', b'iChronicle/Hulk Smash'),\n",
       " ('Mikey Day', b'The Amazing Spider-Minaj/Go, Dragon Ball, Go!'),\n",
       " ('Neil Patrick Harris', b'Spider-Man'),\n",
       " ('Neil Patrick Harris', b'Flash Memory'),\n",
       " ('Neil Patrick Harris', b'Head Over Heels'),\n",
       " ('Neil Patrick Harris', b'Heroes and Villains'),\n",
       " ('Neil Patrick Harris', b'Keeping Secrets'),\n",
       " ('Neil Patrick Harris', b'Law of the Jungle'),\n",
       " ('Neil Patrick Harris', b'Mind Games: Part 1'),\n",
       " ('Neil Patrick Harris', b'Mind Games: Part 2'),\n",
       " ('Neil Patrick Harris', b'Royal Scam'),\n",
       " ('Neil Patrick Harris', b'Spider-Man Dis-Abled'),\n",
       " ('Neil Patrick Harris', b'Sword of Shikata'),\n",
       " ('Neil Patrick Harris', b'The Party'),\n",
       " ('Neil Patrick Harris', b'Tight Squeeze'),\n",
       " ('Neil Patrick Harris', b'When Sparks Fly'),\n",
       " ('Rino Romano', b'Worlds Apart: Part 1'),\n",
       " ('Rino Romano', b'Ill-Met by Moonlight'),\n",
       " ('Rino Romano', b'Cry Vulture'),\n",
       " ('Rino Romano', b'Worlds Apart: Part 2'),\n",
       " ('Rino Romano', b'Spider-Man Unlimited'),\n",
       " ('Rino Romano', b'Matters of the Heart'),\n",
       " ('Rino Romano', b'Deadly Choices'),\n",
       " ('Rino Romano', b'Sustenance'),\n",
       " ('Rino Romano', b'Sins of the Fathers'),\n",
       " ('Rino Romano', b'One Is the Loneliest Number'),\n",
       " ('Rino Romano', b'Destiny Unleashed'),\n",
       " ('Rino Romano', b'Steel Cold Heart'),\n",
       " ('Rino Romano', b'Where Evil Nests'),\n",
       " ('Rino Romano', b'Enter the Hunter!'),\n",
       " ('Robbie Daymond', b'Brand New Day'),\n",
       " ('Robbie Daymond', b'The Cellar'),\n",
       " ('Robbie Daymond', b'The Road to Goblin War'),\n",
       " ('Robbie Daymond', b'Goblin War Part One'),\n",
       " ('Robbie Daymond', b'Goblin War Part Two'),\n",
       " ('Robbie Daymond', b'Goblin War Part Three'),\n",
       " ('Robbie Daymond', b'Goblin War Part Four'),\n",
       " ('Robbie Daymond', b'Web of Venom'),\n",
       " ('Robbie Daymond', b'Amazing Friends'),\n",
       " ('Robbie Daymond', b'Vengeance of Venom'),\n",
       " ('Robbie Daymond', b'Spider-Man Unmasked'),\n",
       " ('Robbie Daymond', b'Generations'),\n",
       " ('Robbie Daymond', b'Maximum Venom'),\n",
       " ('Robbie Daymond', b'Spider-Man'),\n",
       " ('Robbie Daymond', b'Horizon High: Part One'),\n",
       " ('Robbie Daymond', b'Horizon High: Part Two'),\n",
       " ('Robbie Daymond', b'Origins'),\n",
       " ('Robbie Daymond', b'Osborn Academy'),\n",
       " ('Robbie Daymond', b'Party Animals'),\n",
       " ('Robbie Daymond', b'A Day in the Life'),\n",
       " ('Robbie Daymond', b'Symbiotic Relationship'),\n",
       " ('Robbie Daymond', b'Sandman'),\n",
       " ('Robbie Daymond', b'Ultimate Spider-Man'),\n",
       " ('Robbie Daymond', b'Stark Expo'),\n",
       " ('Robbie Daymond', b\"Kraven's Amazing Hunt\"),\n",
       " ('Robbie Daymond', b'Halloween Moon'),\n",
       " ('Robbie Daymond', b'Spider-Man on Ice'),\n",
       " ('Robbie Daymond', b'Venom'),\n",
       " ('Robbie Daymond', b'Screwball Live'),\n",
       " ('Robbie Daymond', b'The Rise of Doc Ock: Part One'),\n",
       " ('Robbie Daymond', b'The Rise of Doc Ock: Part Two'),\n",
       " ('Robbie Daymond', b'The Rise of Doc Ock: Part Three'),\n",
       " ('Robbie Daymond', b'The Rise of Doc Ock: Part Four'),\n",
       " ('Robbie Daymond', b'Spider-Island: Part One'),\n",
       " ('Robbie Daymond', b'Spider-Island: Part Two'),\n",
       " ('Robbie Daymond', b'Spider-Island: Part Three'),\n",
       " ('Robbie Daymond', b'Spider-Island: Part Four'),\n",
       " ('Robbie Daymond', b'Spider-Island: Part Five'),\n",
       " ('Robbie Daymond', b'The Living Brain'),\n",
       " ('Robbie Daymond', b'The Hobgoblin: Part One'),\n",
       " ('Robbie Daymond', b'Take Two'),\n",
       " ('Robbie Daymond', b'How I Thwipped My Summer Vacation'),\n",
       " ('Robbie Daymond', b'Rise Above It All'),\n",
       " ('Robbie Daymond', b\"Dead Man's Party\"),\n",
       " ('Robbie Daymond', b'Between an Ock and a Hard Place'),\n",
       " ('Robbie Daymond', b'Venom Returns'),\n",
       " ('Robbie Daymond', b'School of Hard Knocks'),\n",
       " ('Robbie Daymond', b'Bring on the Bad Guys: Part Four'),\n",
       " ('Robbie Daymond', b'Bring on the Bad Guys: Part Three'),\n",
       " ('Robbie Daymond', b'The Hobgoblin: Part Two'),\n",
       " ('Robbie Daymond', b'Brain Drain'),\n",
       " ('Robbie Daymond', b'Vibranium Curtain: Part Two'),\n",
       " ('Robbie Daymond', b'Bring on the Bad Guys: Part Two'),\n",
       " ('Robbie Daymond', b'Bring on the Bad Guys: Part One'),\n",
       " ('Sean Chiplock', b'The Origin of Spider-Man'),\n",
       " ('Shane Dawson', b'The Lego Batman & Spider-Man Movie 2'),\n",
       " ('Stan Lee', b'Superheroes: A Never-Ending Battle'),\n",
       " ('Tobey Maguire', b'Spider-Man'),\n",
       " ('Tobey Maguire', b'Spider-Man 2'),\n",
       " ('Tobey Maguire', b'Spider-Man 3'),\n",
       " ('Tobey Maguire', b'Spider-Man 2'),\n",
       " ('Tobey Maguire', b'Top 11 Dumbasses in Distress'),\n",
       " ('Tom Holland', b'Spider-Man: No Way Home'),\n",
       " ('Tom Holland', b'Spider-Man: Homecoming'),\n",
       " ('Tom Holland', b'Spider-Man: Far from Home')]"
      ]
     },
     "execution_count": 17,
     "metadata": {},
     "output_type": "execute_result"
    }
   ],
   "source": [
    "%%sql\n",
    "SELECT N.name_ AS Name, T.primary_title AS Film \n",
    "FROM Names_ N\n",
    "JOIN Had_role H ON N.name_id = H.name_id\n",
    "JOIN Titles T ON T.title_id = H.title_id\n",
    "WHERE(H.role_ = \"Spider-Man\")\n",
    "ORDER BY(Name)"
   ]
  },
  {
   "cell_type": "code",
   "execution_count": 32,
   "id": "5e649196",
   "metadata": {},
   "outputs": [
    {
     "name": "stdout",
     "output_type": "stream",
     "text": [
      " * mysql+mysqlconnector://root:***@db\n",
      "17 rows affected.\n"
     ]
    },
    {
     "data": {
      "text/html": [
       "<table>\n",
       "    <tr>\n",
       "        <th>title_id</th>\n",
       "        <th>name_id</th>\n",
       "        <th>role_</th>\n",
       "    </tr>\n",
       "    <tr>\n",
       "        <td>tt0338647</td>\n",
       "        <td>nm0534134</td>\n",
       "        <td>b&#x27;Spiderman Movie Voice&#x27;</td>\n",
       "    </tr>\n",
       "    <tr>\n",
       "        <td>tt0463830</td>\n",
       "        <td>nm1965587</td>\n",
       "        <td>b&#x27;Spiderman #3&#x27;</td>\n",
       "    </tr>\n",
       "    <tr>\n",
       "        <td>tt0478072</td>\n",
       "        <td>nm5419071</td>\n",
       "        <td>b&#x27;Spiderman&#x27;</td>\n",
       "    </tr>\n",
       "    <tr>\n",
       "        <td>tt10283802</td>\n",
       "        <td>nm7132892</td>\n",
       "        <td>b&#x27;Black Spiderman&#x27;</td>\n",
       "    </tr>\n",
       "    <tr>\n",
       "        <td>tt10971790</td>\n",
       "        <td>nm9909105</td>\n",
       "        <td>b&#x27;Spiderman&#x27;</td>\n",
       "    </tr>\n",
       "    <tr>\n",
       "        <td>tt1199467</td>\n",
       "        <td>nm2226672</td>\n",
       "        <td>b&#x27;Spiderman&#x27;</td>\n",
       "    </tr>\n",
       "    <tr>\n",
       "        <td>tt13745948</td>\n",
       "        <td>nm8382647</td>\n",
       "        <td>b&#x27;Spiderman&#x27;</td>\n",
       "    </tr>\n",
       "    <tr>\n",
       "        <td>tt15010582</td>\n",
       "        <td>nm7989041</td>\n",
       "        <td>b&#x27;Spiderman (Spin)&#x27;</td>\n",
       "    </tr>\n",
       "    <tr>\n",
       "        <td>tt3587030</td>\n",
       "        <td>nm3592815</td>\n",
       "        <td>b&#x27;Spiderman&#x27;</td>\n",
       "    </tr>\n",
       "    <tr>\n",
       "        <td>tt5003664</td>\n",
       "        <td>nm2261082</td>\n",
       "        <td>b&#x27;Spiderman&#x27;</td>\n",
       "    </tr>\n",
       "    <tr>\n",
       "        <td>tt6889550</td>\n",
       "        <td>nm8993489</td>\n",
       "        <td>b&#x27;Spiderman&#x27;</td>\n",
       "    </tr>\n",
       "    <tr>\n",
       "        <td>tt7261310</td>\n",
       "        <td>nm1265067</td>\n",
       "        <td>b&#x27;Black Spiderman&#x27;</td>\n",
       "    </tr>\n",
       "    <tr>\n",
       "        <td>tt7275052</td>\n",
       "        <td>nm1265067</td>\n",
       "        <td>b&#x27;Black Spiderman&#x27;</td>\n",
       "    </tr>\n",
       "    <tr>\n",
       "        <td>tt7726152</td>\n",
       "        <td>nm7567700</td>\n",
       "        <td>b&#x27;Black Spiderman&#x27;</td>\n",
       "    </tr>\n",
       "    <tr>\n",
       "        <td>tt8175152</td>\n",
       "        <td>nm5654412</td>\n",
       "        <td>b&#x27;Spiderman&#x27;</td>\n",
       "    </tr>\n",
       "    <tr>\n",
       "        <td>tt9103688</td>\n",
       "        <td>nm4872784</td>\n",
       "        <td>b&#x27;Spiderman&#x27;</td>\n",
       "    </tr>\n",
       "    <tr>\n",
       "        <td>tt9146610</td>\n",
       "        <td>nm9383288</td>\n",
       "        <td>b&#x27;Discount Spiderman&#x27;</td>\n",
       "    </tr>\n",
       "</table>"
      ],
      "text/plain": [
       "[('tt0338647', 'nm0534134', b'Spiderman Movie Voice'),\n",
       " ('tt0463830', 'nm1965587', b'Spiderman #3'),\n",
       " ('tt0478072', 'nm5419071', b'Spiderman'),\n",
       " ('tt10283802', 'nm7132892', b'Black Spiderman'),\n",
       " ('tt10971790', 'nm9909105', b'Spiderman'),\n",
       " ('tt1199467', 'nm2226672', b'Spiderman'),\n",
       " ('tt13745948', 'nm8382647', b'Spiderman'),\n",
       " ('tt15010582', 'nm7989041', b'Spiderman (Spin)'),\n",
       " ('tt3587030', 'nm3592815', b'Spiderman'),\n",
       " ('tt5003664', 'nm2261082', b'Spiderman'),\n",
       " ('tt6889550', 'nm8993489', b'Spiderman'),\n",
       " ('tt7261310', 'nm1265067', b'Black Spiderman'),\n",
       " ('tt7275052', 'nm1265067', b'Black Spiderman'),\n",
       " ('tt7726152', 'nm7567700', b'Black Spiderman'),\n",
       " ('tt8175152', 'nm5654412', b'Spiderman'),\n",
       " ('tt9103688', 'nm4872784', b'Spiderman'),\n",
       " ('tt9146610', 'nm9383288', b'Discount Spiderman')]"
      ]
     },
     "execution_count": 32,
     "metadata": {},
     "output_type": "execute_result"
    }
   ],
   "source": [
    "%%sql\n",
    "SELECT * FROM Had_role where(role_ LIKE \"%Spiderman%\")"
   ]
  },
  {
   "cell_type": "markdown",
   "id": "db261245",
   "metadata": {},
   "source": [
    "#### 3 - List and count the 10 people who appeared the most in movies by \"Wes Anderson\""
   ]
  },
  {
   "cell_type": "code",
   "execution_count": 49,
   "id": "ecf939d2",
   "metadata": {},
   "outputs": [
    {
     "name": "stdout",
     "output_type": "stream",
     "text": [
      " * mysql+mysqlconnector://root:***@db\n",
      "7 rows affected.\n",
      "10 rows affected.\n"
     ]
    },
    {
     "data": {
      "text/html": [
       "<table>\n",
       "    <tr>\n",
       "        <th>name_id</th>\n",
       "    </tr>\n",
       "    <tr>\n",
       "        <td>nm0027572</td>\n",
       "    </tr>\n",
       "    <tr>\n",
       "        <td>nm0027572</td>\n",
       "    </tr>\n",
       "    <tr>\n",
       "        <td>nm0027572</td>\n",
       "    </tr>\n",
       "    <tr>\n",
       "        <td>nm0027572</td>\n",
       "    </tr>\n",
       "    <tr>\n",
       "        <td>nm0027572</td>\n",
       "    </tr>\n",
       "    <tr>\n",
       "        <td>nm0027572</td>\n",
       "    </tr>\n",
       "    <tr>\n",
       "        <td>nm0027572</td>\n",
       "    </tr>\n",
       "    <tr>\n",
       "        <td>nm0027572</td>\n",
       "    </tr>\n",
       "    <tr>\n",
       "        <td>nm0027572</td>\n",
       "    </tr>\n",
       "    <tr>\n",
       "        <td>nm0027572</td>\n",
       "    </tr>\n",
       "</table>"
      ],
      "text/plain": [
       "[('nm0027572',),\n",
       " ('nm0027572',),\n",
       " ('nm0027572',),\n",
       " ('nm0027572',),\n",
       " ('nm0027572',),\n",
       " ('nm0027572',),\n",
       " ('nm0027572',),\n",
       " ('nm0027572',),\n",
       " ('nm0027572',),\n",
       " ('nm0027572',)]"
      ]
     },
     "execution_count": 49,
     "metadata": {},
     "output_type": "execute_result"
    }
   ],
   "source": [
    "%%sql\n",
    "SHOW TABLES;\n"
   ]
  },
  {
   "cell_type": "code",
   "execution_count": 14,
   "id": "c0d000b7",
   "metadata": {},
   "outputs": [
    {
     "name": "stdout",
     "output_type": "stream",
     "text": [
      " * mysql+mysqlconnector://root:***@db\n",
      "7 rows affected.\n",
      "29 rows affected.\n"
     ]
    },
    {
     "data": {
      "text/html": [
       "<table>\n",
       "    <tr>\n",
       "        <th>name_</th>\n",
       "        <th>app</th>\n",
       "    </tr>\n",
       "    <tr>\n",
       "        <td>Bill Murray</td>\n",
       "        <td>4</td>\n",
       "    </tr>\n",
       "    <tr>\n",
       "        <td>Owen Wilson</td>\n",
       "        <td>3</td>\n",
       "    </tr>\n",
       "    <tr>\n",
       "        <td>Jason Schwartzman</td>\n",
       "        <td>3</td>\n",
       "    </tr>\n",
       "    <tr>\n",
       "        <td>Adrien Brody</td>\n",
       "        <td>3</td>\n",
       "    </tr>\n",
       "    <tr>\n",
       "        <td>Anjelica Huston</td>\n",
       "        <td>2</td>\n",
       "    </tr>\n",
       "    <tr>\n",
       "        <td>George Clooney</td>\n",
       "        <td>1</td>\n",
       "    </tr>\n",
       "    <tr>\n",
       "        <td>Benicio Del Toro</td>\n",
       "        <td>1</td>\n",
       "    </tr>\n",
       "    <tr>\n",
       "        <td>Léa Seydoux</td>\n",
       "        <td>1</td>\n",
       "    </tr>\n",
       "    <tr>\n",
       "        <td>Cate Blanchett</td>\n",
       "        <td>1</td>\n",
       "    </tr>\n",
       "    <tr>\n",
       "        <td>Amara Karan</td>\n",
       "        <td>1</td>\n",
       "    </tr>\n",
       "    <tr>\n",
       "        <td>Gene Hackman</td>\n",
       "        <td>1</td>\n",
       "    </tr>\n",
       "    <tr>\n",
       "        <td>Luke Wilson</td>\n",
       "        <td>1</td>\n",
       "    </tr>\n",
       "    <tr>\n",
       "        <td>Ned Dowd</td>\n",
       "        <td>1</td>\n",
       "    </tr>\n",
       "    <tr>\n",
       "        <td>Kara Hayward</td>\n",
       "        <td>1</td>\n",
       "    </tr>\n",
       "    <tr>\n",
       "        <td>Bryan Cranston</td>\n",
       "        <td>1</td>\n",
       "    </tr>\n",
       "    <tr>\n",
       "        <td>Edward Norton</td>\n",
       "        <td>1</td>\n",
       "    </tr>\n",
       "    <tr>\n",
       "        <td>Olivia Williams</td>\n",
       "        <td>1</td>\n",
       "    </tr>\n",
       "    <tr>\n",
       "        <td>Gwyneth Paltrow</td>\n",
       "        <td>1</td>\n",
       "    </tr>\n",
       "    <tr>\n",
       "        <td>Ralph Fiennes</td>\n",
       "        <td>1</td>\n",
       "    </tr>\n",
       "    <tr>\n",
       "        <td>Meryl Streep</td>\n",
       "        <td>1</td>\n",
       "    </tr>\n",
       "    <tr>\n",
       "        <td>Tilda Swinton</td>\n",
       "        <td>1</td>\n",
       "    </tr>\n",
       "    <tr>\n",
       "        <td>Bob Balaban</td>\n",
       "        <td>1</td>\n",
       "    </tr>\n",
       "    <tr>\n",
       "        <td>Shea Fowler</td>\n",
       "        <td>1</td>\n",
       "    </tr>\n",
       "    <tr>\n",
       "        <td>Mathieu Amalric</td>\n",
       "        <td>1</td>\n",
       "    </tr>\n",
       "    <tr>\n",
       "        <td>Seymour Cassel</td>\n",
       "        <td>1</td>\n",
       "    </tr>\n",
       "    <tr>\n",
       "        <td>Bruce Willis</td>\n",
       "        <td>1</td>\n",
       "    </tr>\n",
       "    <tr>\n",
       "        <td>Ben Stiller</td>\n",
       "        <td>1</td>\n",
       "    </tr>\n",
       "    <tr>\n",
       "        <td>Jared Gilman</td>\n",
       "        <td>1</td>\n",
       "    </tr>\n",
       "    <tr>\n",
       "        <td>F. Murray Abraham</td>\n",
       "        <td>1</td>\n",
       "    </tr>\n",
       "</table>"
      ],
      "text/plain": [
       "[('Bill Murray', 4),\n",
       " ('Owen Wilson', 3),\n",
       " ('Jason Schwartzman', 3),\n",
       " ('Adrien Brody', 3),\n",
       " ('Anjelica Huston', 2),\n",
       " ('George Clooney', 1),\n",
       " ('Benicio Del Toro', 1),\n",
       " ('Léa Seydoux', 1),\n",
       " ('Cate Blanchett', 1),\n",
       " ('Amara Karan', 1),\n",
       " ('Gene Hackman', 1),\n",
       " ('Luke Wilson', 1),\n",
       " ('Ned Dowd', 1),\n",
       " ('Kara Hayward', 1),\n",
       " ('Bryan Cranston', 1),\n",
       " ('Edward Norton', 1),\n",
       " ('Olivia Williams', 1),\n",
       " ('Gwyneth Paltrow', 1),\n",
       " ('Ralph Fiennes', 1),\n",
       " ('Meryl Streep', 1),\n",
       " ('Tilda Swinton', 1),\n",
       " ('Bob Balaban', 1),\n",
       " ('Shea Fowler', 1),\n",
       " ('Mathieu Amalric', 1),\n",
       " ('Seymour Cassel', 1),\n",
       " ('Bruce Willis', 1),\n",
       " ('Ben Stiller', 1),\n",
       " ('Jared Gilman', 1),\n",
       " ('F. Murray Abraham', 1)]"
      ]
     },
     "execution_count": 14,
     "metadata": {},
     "output_type": "execute_result"
    }
   ],
   "source": [
    "%%sql\n",
    "SHOW TABLES;\n",
    "SELECT N.name_, count(N.name_) AS app FROM (Had_role H JOIN Names_ N ON H.name_id = N.name_id)\n",
    "JOIN Directors D ON H.title_id = D.title_id\n",
    "\n",
    "WHERE D.name_id IN (\n",
    "    SELECT N.name_id FROM Names_ N\n",
    "    INNER JOIN Directors D ON D.name_id = N.name_id\n",
    "    WHERE(N.name_ = \"Wes Anderson\" )\n",
    ")\n",
    "\n",
    "GROUP BY(N.name_)\n",
    "ORDER BY(app) DESC"
   ]
  },
  {
   "cell_type": "code",
   "execution_count": 57,
   "id": "36a2f889",
   "metadata": {},
   "outputs": [
    {
     "name": "stdout",
     "output_type": "stream",
     "text": [
      " * mysql+mysqlconnector://root:***@db\n",
      "3 rows affected.\n"
     ]
    },
    {
     "data": {
      "text/html": [
       "<table>\n",
       "    <tr>\n",
       "        <th>Field</th>\n",
       "        <th>Type</th>\n",
       "        <th>Null</th>\n",
       "        <th>Key</th>\n",
       "        <th>Default</th>\n",
       "        <th>Extra</th>\n",
       "    </tr>\n",
       "    <tr>\n",
       "        <td>title_id</td>\n",
       "        <td>b&#x27;varchar(255)&#x27;</td>\n",
       "        <td>NO</td>\n",
       "        <td></td>\n",
       "        <td>None</td>\n",
       "        <td></td>\n",
       "    </tr>\n",
       "    <tr>\n",
       "        <td>name_id</td>\n",
       "        <td>b&#x27;varchar(255)&#x27;</td>\n",
       "        <td>NO</td>\n",
       "        <td></td>\n",
       "        <td>None</td>\n",
       "        <td></td>\n",
       "    </tr>\n",
       "    <tr>\n",
       "        <td>role_</td>\n",
       "        <td>b&#x27;text&#x27;</td>\n",
       "        <td>NO</td>\n",
       "        <td></td>\n",
       "        <td>None</td>\n",
       "        <td></td>\n",
       "    </tr>\n",
       "</table>"
      ],
      "text/plain": [
       "[('title_id', b'varchar(255)', 'NO', '', None, ''),\n",
       " ('name_id', b'varchar(255)', 'NO', '', None, ''),\n",
       " ('role_', b'text', 'NO', '', None, '')]"
      ]
     },
     "execution_count": 57,
     "metadata": {},
     "output_type": "execute_result"
    }
   ],
   "source": [
    "%%sql\n",
    "describe Had_role;"
   ]
  },
  {
   "cell_type": "markdown",
   "id": "00c0c411",
   "metadata": {},
   "source": [
    "### Is the IMDB only about movies? \n",
    "\n",
    "1. Check the number of different media types contained in the DB\n",
    "2. Plot an histogram about the number of media types per group\n",
    "3. Find the name and rating of the oldest videogame stored in the DB "
   ]
  },
  {
   "cell_type": "markdown",
   "id": "f963733e",
   "metadata": {},
   "source": [
    "#### 1 - Check the number of different media types contained in the DB"
   ]
  },
  {
   "cell_type": "code",
   "execution_count": 17,
   "id": "4d16e40f",
   "metadata": {},
   "outputs": [
    {
     "name": "stdout",
     "output_type": "stream",
     "text": [
      " * mysql+mysqlconnector://root:***@db\n",
      "5 rows affected.\n"
     ]
    },
    {
     "data": {
      "text/html": [
       "<table>\n",
       "    <tr>\n",
       "        <th>title_type</th>\n",
       "        <th>count(title_type)</th>\n",
       "    </tr>\n",
       "    <tr>\n",
       "        <td>movie</td>\n",
       "        <td>239353</td>\n",
       "    </tr>\n",
       "    <tr>\n",
       "        <td>tvEpisode</td>\n",
       "        <td>708598</td>\n",
       "    </tr>\n",
       "    <tr>\n",
       "        <td>tvSeries</td>\n",
       "        <td>59424</td>\n",
       "    </tr>\n",
       "    <tr>\n",
       "        <td>tvMiniSeries</td>\n",
       "        <td>11963</td>\n",
       "    </tr>\n",
       "    <tr>\n",
       "        <td>videoGame</td>\n",
       "        <td>257</td>\n",
       "    </tr>\n",
       "</table>"
      ],
      "text/plain": [
       "[('movie', 239353),\n",
       " ('tvEpisode', 708598),\n",
       " ('tvSeries', 59424),\n",
       " ('tvMiniSeries', 11963),\n",
       " ('videoGame', 257)]"
      ]
     },
     "execution_count": 17,
     "metadata": {},
     "output_type": "execute_result"
    }
   ],
   "source": [
    "%%sql \n",
    "SELECT title_type, count(title_type)\n",
    "FROM Titles\n",
    "GROUP BY title_type \n",
    "LIMIT 10"
   ]
  },
  {
   "cell_type": "markdown",
   "id": "2ce1e02e",
   "metadata": {},
   "source": [
    "#### 2 - Plot an histogram about the number of media types per group"
   ]
  },
  {
   "cell_type": "code",
   "execution_count": 17,
   "id": "ad5bc141",
   "metadata": {
    "scrolled": true
   },
   "outputs": [
    {
     "name": "stdout",
     "output_type": "stream",
     "text": [
      " * mysql+mysqlconnector://root:***@db\n",
      "5 rows affected.\n"
     ]
    },
    {
     "data": {
      "text/plain": [
       "<BarContainer object of 5 artists>"
      ]
     },
     "execution_count": 17,
     "metadata": {},
     "output_type": "execute_result"
    },
    {
     "data": {
      "image/png": "[encoded data removed]",
      "text/plain": [
       "<Figure size 640x480 with 1 Axes>"
      ]
     },
     "metadata": {},
     "output_type": "display_data"
    }
   ],
   "source": [
    "mtype = %sql SELECT title_type, count(title_type) AS n FROM Titles GROUP BY title_type ORDER BY n LIMIT 10\n",
    "mtype.bar()"
   ]
  },
  {
   "cell_type": "code",
   "execution_count": 30,
   "id": "3edc34d7",
   "metadata": {},
   "outputs": [
    {
     "name": "stdout",
     "output_type": "stream",
     "text": [
      " * mysql+mysqlconnector://root:***@db\n",
      "10 rows affected.\n"
     ]
    },
    {
     "data": {
      "text/html": [
       "<table>\n",
       "    <tr>\n",
       "        <th>title_id</th>\n",
       "        <th>average_rating</th>\n",
       "        <th>num_votes</th>\n",
       "    </tr>\n",
       "    <tr>\n",
       "        <td>tt0011216</td>\n",
       "        <td>6.9</td>\n",
       "        <td>30</td>\n",
       "    </tr>\n",
       "    <tr>\n",
       "        <td>tt0015724</td>\n",
       "        <td>6.2</td>\n",
       "        <td>25</td>\n",
       "    </tr>\n",
       "    <tr>\n",
       "        <td>tt0035423</td>\n",
       "        <td>6.4</td>\n",
       "        <td>82922</td>\n",
       "    </tr>\n",
       "    <tr>\n",
       "        <td>tt0059325</td>\n",
       "        <td>6.5</td>\n",
       "        <td>240</td>\n",
       "    </tr>\n",
       "    <tr>\n",
       "        <td>tt0059900</td>\n",
       "        <td>6.7</td>\n",
       "        <td>34</td>\n",
       "    </tr>\n",
       "    <tr>\n",
       "        <td>tt0062336</td>\n",
       "        <td>6.3</td>\n",
       "        <td>162</td>\n",
       "    </tr>\n",
       "    <tr>\n",
       "        <td>tt0063351</td>\n",
       "        <td>7.2</td>\n",
       "        <td>47</td>\n",
       "    </tr>\n",
       "    <tr>\n",
       "        <td>tt0065188</td>\n",
       "        <td>6.3</td>\n",
       "        <td>33</td>\n",
       "    </tr>\n",
       "    <tr>\n",
       "        <td>tt0067460</td>\n",
       "        <td>7.2</td>\n",
       "        <td>16</td>\n",
       "    </tr>\n",
       "    <tr>\n",
       "        <td>tt0068494</td>\n",
       "        <td>5.0</td>\n",
       "        <td>17</td>\n",
       "    </tr>\n",
       "</table>"
      ],
      "text/plain": [
       "[('tt0011216', 6.9, 30),\n",
       " ('tt0015724', 6.2, 25),\n",
       " ('tt0035423', 6.4, 82922),\n",
       " ('tt0059325', 6.5, 240),\n",
       " ('tt0059900', 6.7, 34),\n",
       " ('tt0062336', 6.3, 162),\n",
       " ('tt0063351', 7.2, 47),\n",
       " ('tt0065188', 6.3, 33),\n",
       " ('tt0067460', 7.2, 16),\n",
       " ('tt0068494', 5.0, 17)]"
      ]
     },
     "execution_count": 30,
     "metadata": {},
     "output_type": "execute_result"
    }
   ],
   "source": [
    "%%sql\n",
    "select * from Title_ratings limit 10"
   ]
  },
  {
   "cell_type": "code",
   "execution_count": 55,
   "id": "6fa1ff58",
   "metadata": {},
   "outputs": [
    {
     "name": "stdout",
     "output_type": "stream",
     "text": [
      " * mysql+mysqlconnector://root:***@db\n",
      "4 rows affected.\n"
     ]
    },
    {
     "data": {
      "text/html": [
       "<table>\n",
       "    <tr>\n",
       "        <th>Field</th>\n",
       "        <th>Type</th>\n",
       "        <th>Null</th>\n",
       "        <th>Key</th>\n",
       "        <th>Default</th>\n",
       "        <th>Extra</th>\n",
       "    </tr>\n",
       "    <tr>\n",
       "        <td>name_id</td>\n",
       "        <td>b&#x27;varchar(255)&#x27;</td>\n",
       "        <td>NO</td>\n",
       "        <td></td>\n",
       "        <td>None</td>\n",
       "        <td></td>\n",
       "    </tr>\n",
       "    <tr>\n",
       "        <td>name_</td>\n",
       "        <td>b&#x27;varchar(255)&#x27;</td>\n",
       "        <td>NO</td>\n",
       "        <td></td>\n",
       "        <td>None</td>\n",
       "        <td></td>\n",
       "    </tr>\n",
       "    <tr>\n",
       "        <td>birth_year</td>\n",
       "        <td>b&#x27;smallint&#x27;</td>\n",
       "        <td>YES</td>\n",
       "        <td></td>\n",
       "        <td>None</td>\n",
       "        <td></td>\n",
       "    </tr>\n",
       "    <tr>\n",
       "        <td>death_year</td>\n",
       "        <td>b&#x27;smallint&#x27;</td>\n",
       "        <td>YES</td>\n",
       "        <td></td>\n",
       "        <td>None</td>\n",
       "        <td></td>\n",
       "    </tr>\n",
       "</table>"
      ],
      "text/plain": [
       "[('name_id', b'varchar(255)', 'NO', '', None, ''),\n",
       " ('name_', b'varchar(255)', 'NO', '', None, ''),\n",
       " ('birth_year', b'smallint', 'YES', '', None, ''),\n",
       " ('death_year', b'smallint', 'YES', '', None, '')]"
      ]
     },
     "execution_count": 55,
     "metadata": {},
     "output_type": "execute_result"
    }
   ],
   "source": [
    "%%sql\n",
    "describe Names_"
   ]
  },
  {
   "cell_type": "markdown",
   "id": "37952def",
   "metadata": {},
   "source": [
    "#### 3 - Find the name and rating of the oldest videogame stored in the DB "
   ]
  },
  {
   "cell_type": "code",
   "execution_count": 59,
   "id": "a32cf1aa",
   "metadata": {},
   "outputs": [
    {
     "name": "stdout",
     "output_type": "stream",
     "text": [
      " * mysql+mysqlconnector://root:***@db\n",
      "10 rows affected.\n"
     ]
    },
    {
     "data": {
      "text/html": [
       "<table>\n",
       "    <tr>\n",
       "        <th>title_id</th>\n",
       "        <th>title_type</th>\n",
       "        <th>primary_title</th>\n",
       "        <th>start_year</th>\n",
       "        <th>runtime_minutes</th>\n",
       "        <th>title_id_1</th>\n",
       "        <th>average_rating</th>\n",
       "        <th>num_votes</th>\n",
       "    </tr>\n",
       "    <tr>\n",
       "        <td>tt0154789</td>\n",
       "        <td>videoGame</td>\n",
       "        <td>b&#x27;Lord of the Rings&#x27;</td>\n",
       "        <td>1990</td>\n",
       "        <td>235</td>\n",
       "        <td>tt0154789</td>\n",
       "        <td>6.9</td>\n",
       "        <td>162</td>\n",
       "    </tr>\n",
       "    <tr>\n",
       "        <td>tt3326048</td>\n",
       "        <td>videoGame</td>\n",
       "        <td>b&#x27;Four Million Memories: The 1991 Toronto Blue Jays Highlight Video&#x27;</td>\n",
       "        <td>1991</td>\n",
       "        <td>60</td>\n",
       "        <td>None</td>\n",
       "        <td>None</td>\n",
       "        <td>None</td>\n",
       "    </tr>\n",
       "    <tr>\n",
       "        <td>tt0296852</td>\n",
       "        <td>videoGame</td>\n",
       "        <td>b&#x27;The Simpsons&#x27;</td>\n",
       "        <td>1991</td>\n",
       "        <td>58</td>\n",
       "        <td>tt0296852</td>\n",
       "        <td>8.4</td>\n",
       "        <td>674</td>\n",
       "    </tr>\n",
       "    <tr>\n",
       "        <td>tt6050814</td>\n",
       "        <td>videoGame</td>\n",
       "        <td>b&#x27;Pacific Islands&#x27;</td>\n",
       "        <td>1992</td>\n",
       "        <td>46</td>\n",
       "        <td>None</td>\n",
       "        <td>None</td>\n",
       "        <td>None</td>\n",
       "    </tr>\n",
       "    <tr>\n",
       "        <td>tt14856064</td>\n",
       "        <td>videoGame</td>\n",
       "        <td>b&#x27;Rap Rat&#x27;</td>\n",
       "        <td>1992</td>\n",
       "        <td>56</td>\n",
       "        <td>None</td>\n",
       "        <td>None</td>\n",
       "        <td>None</td>\n",
       "    </tr>\n",
       "    <tr>\n",
       "        <td>tt9698142</td>\n",
       "        <td>videoGame</td>\n",
       "        <td>b&#x27;Garth Brooks: We Shall Be Free&#x27;</td>\n",
       "        <td>1992</td>\n",
       "        <td>4</td>\n",
       "        <td>None</td>\n",
       "        <td>None</td>\n",
       "        <td>None</td>\n",
       "    </tr>\n",
       "    <tr>\n",
       "        <td>tt5435234</td>\n",
       "        <td>videoGame</td>\n",
       "        <td>b&quot;Girl&#x27;s Club&quot;</td>\n",
       "        <td>1992</td>\n",
       "        <td>93</td>\n",
       "        <td>None</td>\n",
       "        <td>None</td>\n",
       "        <td>None</td>\n",
       "    </tr>\n",
       "    <tr>\n",
       "        <td>tt6066512</td>\n",
       "        <td>videoGame</td>\n",
       "        <td>b&#x27;B-17 Flying Fortress&#x27;</td>\n",
       "        <td>1992</td>\n",
       "        <td>53</td>\n",
       "        <td>None</td>\n",
       "        <td>None</td>\n",
       "        <td>None</td>\n",
       "    </tr>\n",
       "    <tr>\n",
       "        <td>tt2912662</td>\n",
       "        <td>videoGame</td>\n",
       "        <td>b&#x27;BlaZeon&#x27;</td>\n",
       "        <td>1992</td>\n",
       "        <td>38</td>\n",
       "        <td>None</td>\n",
       "        <td>None</td>\n",
       "        <td>None</td>\n",
       "    </tr>\n",
       "    <tr>\n",
       "        <td>tt2945568</td>\n",
       "        <td>videoGame</td>\n",
       "        <td>b&#x27;Shogun Warriors&#x27;</td>\n",
       "        <td>1992</td>\n",
       "        <td>101</td>\n",
       "        <td>None</td>\n",
       "        <td>None</td>\n",
       "        <td>None</td>\n",
       "    </tr>\n",
       "</table>"
      ],
      "text/plain": [
       "[('tt0154789', 'videoGame', b'Lord of the Rings', 1990, 235, 'tt0154789', 6.9, 162),\n",
       " ('tt3326048', 'videoGame', b'Four Million Memories: The 1991 Toronto Blue Jays Highlight Video', 1991, 60, None, None, None),\n",
       " ('tt0296852', 'videoGame', b'The Simpsons', 1991, 58, 'tt0296852', 8.4, 674),\n",
       " ('tt6050814', 'videoGame', b'Pacific Islands', 1992, 46, None, None, None),\n",
       " ('tt14856064', 'videoGame', b'Rap Rat', 1992, 56, None, None, None),\n",
       " ('tt9698142', 'videoGame', b'Garth Brooks: We Shall Be Free', 1992, 4, None, None, None),\n",
       " ('tt5435234', 'videoGame', b\"Girl's Club\", 1992, 93, None, None, None),\n",
       " ('tt6066512', 'videoGame', b'B-17 Flying Fortress', 1992, 53, None, None, None),\n",
       " ('tt2912662', 'videoGame', b'BlaZeon', 1992, 38, None, None, None),\n",
       " ('tt2945568', 'videoGame', b'Shogun Warriors', 1992, 101, None, None, None)]"
      ]
     },
     "execution_count": 59,
     "metadata": {},
     "output_type": "execute_result"
    }
   ],
   "source": [
    "%%sql\n",
    "SELECT *\n",
    "FROM Titles TT\n",
    "LEFT JOIN Title_ratings TR ON TT.title_id = TR.title_id\n",
    "WHERE(TT.title_type = \"videoGame\")\n",
    "ORDER BY (TT.start_year)\n",
    "LIMIT 10"
   ]
  },
  {
   "cell_type": "markdown",
   "id": "e2830a48",
   "metadata": {},
   "source": [
    "### Identify interesting outliers \n",
    "\n",
    "1. List the names of movies whose title begin with \"The\" have a runtime between 3 and 4 hours.\n",
    "2. What actor had the most roles as 'Self'?\n",
    "3. Identify what TV series had more than 1,000 episodes, and check the first- and last-episod year"
   ]
  },
  {
   "cell_type": "markdown",
   "id": "80811ded",
   "metadata": {},
   "source": [
    "#### 1 - List the names of movies whose title begin with \"The\" have a runtime between 3 and 4 hours."
   ]
  },
  {
   "cell_type": "code",
   "execution_count": 16,
   "id": "cb54fe28",
   "metadata": {},
   "outputs": [
    {
     "name": "stdout",
     "output_type": "stream",
     "text": [
      " * mysql+mysqlconnector://root:***@db\n",
      "10 rows affected.\n"
     ]
    },
    {
     "data": {
      "text/html": [
       "<table>\n",
       "    <tr>\n",
       "        <th>primary_title</th>\n",
       "        <th>runtime_minutes</th>\n",
       "    </tr>\n",
       "    <tr>\n",
       "        <td>b&#x27;The Marvel Experience&#x27;</td>\n",
       "        <td>240</td>\n",
       "    </tr>\n",
       "    <tr>\n",
       "        <td>b&#x27;The Way of Thorns&#x27;</td>\n",
       "        <td>240</td>\n",
       "    </tr>\n",
       "    <tr>\n",
       "        <td>b&#x27;The British &amp; Irish Lions: Uncovered&#x27;</td>\n",
       "        <td>240</td>\n",
       "    </tr>\n",
       "    <tr>\n",
       "        <td>b&#x27;The Beautiful Troublemaker&#x27;</td>\n",
       "        <td>238</td>\n",
       "    </tr>\n",
       "    <tr>\n",
       "        <td>b&#x27;The Story of Jonah and the Whale (Sort of...)&#x27;</td>\n",
       "        <td>238</td>\n",
       "    </tr>\n",
       "    <tr>\n",
       "        <td>b&#x27;The Jim Breuer Road Journals&#x27;</td>\n",
       "        <td>237</td>\n",
       "    </tr>\n",
       "    <tr>\n",
       "        <td>b&#x27;The Girl Who Picks Flowers and the Girl Who Kills Insects&#x27;</td>\n",
       "        <td>236</td>\n",
       "    </tr>\n",
       "    <tr>\n",
       "        <td>b&#x27;The Hamburg Ballet John Neumeier - A Young Choreographers Evening 2021&#x27;</td>\n",
       "        <td>235</td>\n",
       "    </tr>\n",
       "    <tr>\n",
       "        <td>b&#x27;The Uncertain Kingdom&#x27;</td>\n",
       "        <td>235</td>\n",
       "    </tr>\n",
       "    <tr>\n",
       "        <td>b&#x27;The Future of Freedom: An Interview with NSA Whistleblower William Binney&#x27;</td>\n",
       "        <td>235</td>\n",
       "    </tr>\n",
       "</table>"
      ],
      "text/plain": [
       "[(b'The Marvel Experience', 240),\n",
       " (b'The Way of Thorns', 240),\n",
       " (b'The British & Irish Lions: Uncovered', 240),\n",
       " (b'The Beautiful Troublemaker', 238),\n",
       " (b'The Story of Jonah and the Whale (Sort of...)', 238),\n",
       " (b'The Jim Breuer Road Journals', 237),\n",
       " (b'The Girl Who Picks Flowers and the Girl Who Kills Insects', 236),\n",
       " (b'The Hamburg Ballet John Neumeier - A Young Choreographers Evening 2021', 235),\n",
       " (b'The Uncertain Kingdom', 235),\n",
       " (b'The Future of Freedom: An Interview with NSA Whistleblower William Binney', 235)]"
      ]
     },
     "execution_count": 16,
     "metadata": {},
     "output_type": "execute_result"
    }
   ],
   "source": [
    "%%sql\n",
    "SELECT primary_title, runtime_minutes FROM Titles\n",
    "WHERE(title_type = \"movie\") AND (primary_title like \"The %\") AND (runtime_minutes BETWEEN 3*60 AND 4*60) \n",
    "ORDER BY(runtime_minutes) DESC\n",
    "LIMIT 10"
   ]
  },
  {
   "cell_type": "markdown",
   "id": "b0b10f31",
   "metadata": {},
   "source": [
    "#### 2 - What actor had the most roles as 'Self'?"
   ]
  },
  {
   "cell_type": "code",
   "execution_count": 43,
   "id": "fc47a7b9",
   "metadata": {},
   "outputs": [
    {
     "name": "stdout",
     "output_type": "stream",
     "text": [
      " * mysql+mysqlconnector://root:***@db\n",
      "10 rows affected.\n"
     ]
    },
    {
     "data": {
      "text/html": [
       "<table>\n",
       "    <tr>\n",
       "        <th>name_</th>\n",
       "        <th>n</th>\n",
       "        <th>role_</th>\n",
       "    </tr>\n",
       "    <tr>\n",
       "        <td>Scott Morrison</td>\n",
       "        <td>3197</td>\n",
       "        <td>b&#x27;Self&#x27;</td>\n",
       "    </tr>\n",
       "    <tr>\n",
       "        <td>Tony Abbott</td>\n",
       "        <td>2763</td>\n",
       "        <td>b&#x27;Self&#x27;</td>\n",
       "    </tr>\n",
       "    <tr>\n",
       "        <td>Donald Trump</td>\n",
       "        <td>2210</td>\n",
       "        <td>b&#x27;Self&#x27;</td>\n",
       "    </tr>\n",
       "    <tr>\n",
       "        <td>John Howard</td>\n",
       "        <td>1162</td>\n",
       "        <td>b&#x27;Self&#x27;</td>\n",
       "    </tr>\n",
       "    <tr>\n",
       "        <td>Pauline Hanson</td>\n",
       "        <td>1099</td>\n",
       "        <td>b&#x27;Self&#x27;</td>\n",
       "    </tr>\n",
       "    <tr>\n",
       "        <td>Peter Dutton</td>\n",
       "        <td>1044</td>\n",
       "        <td>b&#x27;Self&#x27;</td>\n",
       "    </tr>\n",
       "    <tr>\n",
       "        <td>Barnaby Joyce</td>\n",
       "        <td>998</td>\n",
       "        <td>b&#x27;Self&#x27;</td>\n",
       "    </tr>\n",
       "    <tr>\n",
       "        <td>Paul Bowman</td>\n",
       "        <td>798</td>\n",
       "        <td>b&#x27;Self&#x27;</td>\n",
       "    </tr>\n",
       "    <tr>\n",
       "        <td>Arin Hanson</td>\n",
       "        <td>792</td>\n",
       "        <td>b&#x27;Self&#x27;</td>\n",
       "    </tr>\n",
       "    <tr>\n",
       "        <td>Brad Jones</td>\n",
       "        <td>751</td>\n",
       "        <td>b&#x27;Self&#x27;</td>\n",
       "    </tr>\n",
       "</table>"
      ],
      "text/plain": [
       "[('Scott Morrison', 3197, b'Self'),\n",
       " ('Tony Abbott', 2763, b'Self'),\n",
       " ('Donald Trump', 2210, b'Self'),\n",
       " ('John Howard', 1162, b'Self'),\n",
       " ('Pauline Hanson', 1099, b'Self'),\n",
       " ('Peter Dutton', 1044, b'Self'),\n",
       " ('Barnaby Joyce', 998, b'Self'),\n",
       " ('Paul Bowman', 798, b'Self'),\n",
       " ('Arin Hanson', 792, b'Self'),\n",
       " ('Brad Jones', 751, b'Self')]"
      ]
     },
     "execution_count": 43,
     "metadata": {},
     "output_type": "execute_result"
    }
   ],
   "source": [
    "%%sql\n",
    "SELECT N.name_, count(N.name_) AS n, H.role_ FROM Names_ N\n",
    "JOIN Had_role H ON H.name_id = N.name_id\n",
    "WHERE(H.role_ = \"Self\")\n",
    "GROUP BY(N.name_)\n",
    "ORDER BY n DESC\n",
    "LIMIT 10"
   ]
  },
  {
   "cell_type": "markdown",
   "id": "0b55feae",
   "metadata": {},
   "source": [
    "#### 3 - Identify what TV series had more than 1,000 episodes, and check the first- and last-episod year"
   ]
  },
  {
   "cell_type": "code",
   "execution_count": 60,
   "id": "9a687338",
   "metadata": {},
   "outputs": [
    {
     "name": "stdout",
     "output_type": "stream",
     "text": [
      " * mysql+mysqlconnector://root:***@db\n",
      "0 rows affected.\n"
     ]
    },
    {
     "data": {
      "text/plain": [
       "[]"
      ]
     },
     "execution_count": 60,
     "metadata": {},
     "output_type": "execute_result"
    }
   ],
   "source": [
    "%%sql\n",
    "DROP VIEW Serie"
   ]
  },
  {
   "cell_type": "code",
   "execution_count": 61,
   "id": "2bebd9bd",
   "metadata": {},
   "outputs": [
    {
     "name": "stdout",
     "output_type": "stream",
     "text": [
      " * mysql+mysqlconnector://root:***@db\n",
      "0 rows affected.\n"
     ]
    },
    {
     "data": {
      "text/plain": [
       "[]"
      ]
     },
     "execution_count": 61,
     "metadata": {},
     "output_type": "execute_result"
    }
   ],
   "source": [
    "%%sql\n",
    "CREATE VIEW Serie AS\n",
    "SELECT parent_tv_show_title_id, count(episode_title_id) AS count, max(start_year) AS stop, min(start_year) AS start\n",
    "FROM Episode_belongs_to E \n",
    "LEFT JOIN Titles T ON E.episode_title_id=T.title_id\n",
    "GROUP BY parent_tv_show_title_id HAVING count > 1000\n",
    "ORDER BY count DESC"
   ]
  },
  {
   "cell_type": "code",
   "execution_count": 66,
   "id": "2ccdd5f4",
   "metadata": {},
   "outputs": [
    {
     "name": "stdout",
     "output_type": "stream",
     "text": [
      " * mysql+mysqlconnector://root:***@db\n",
      "10 rows affected.\n"
     ]
    },
    {
     "data": {
      "text/html": [
       "<table>\n",
       "    <tr>\n",
       "        <th>primary_title</th>\n",
       "        <th>count</th>\n",
       "        <th>start</th>\n",
       "        <th>stop</th>\n",
       "    </tr>\n",
       "    <tr>\n",
       "        <td>b&#x27;Charlie Rose&#x27;</td>\n",
       "        <td>9884</td>\n",
       "        <td>1992</td>\n",
       "        <td>2017</td>\n",
       "    </tr>\n",
       "    <tr>\n",
       "        <td>b&#x27;Gute Zeiten, schlechte Zeiten&#x27;</td>\n",
       "        <td>7455</td>\n",
       "        <td>1992</td>\n",
       "        <td>2020</td>\n",
       "    </tr>\n",
       "    <tr>\n",
       "        <td>b&#x27;Judge Judy&#x27;</td>\n",
       "        <td>7282</td>\n",
       "        <td>2014</td>\n",
       "        <td>2016</td>\n",
       "    </tr>\n",
       "    <tr>\n",
       "        <td>b&#x27;Unter uns&#x27;</td>\n",
       "        <td>6803</td>\n",
       "        <td>1998</td>\n",
       "        <td>2012</td>\n",
       "    </tr>\n",
       "    <tr>\n",
       "        <td>b&#x27;Late Show with David Letterman&#x27;</td>\n",
       "        <td>6691</td>\n",
       "        <td>1994</td>\n",
       "        <td>2015</td>\n",
       "    </tr>\n",
       "    <tr>\n",
       "        <td>b&#x27;Goede tijden, slechte tijden&#x27;</td>\n",
       "        <td>6550</td>\n",
       "        <td>1990</td>\n",
       "        <td>2020</td>\n",
       "    </tr>\n",
       "    <tr>\n",
       "        <td>b&#x27;Young Hearts&#x27;</td>\n",
       "        <td>6247</td>\n",
       "        <td>1996</td>\n",
       "        <td>2018</td>\n",
       "    </tr>\n",
       "    <tr>\n",
       "        <td>b&#x27;DAS!&#x27;</td>\n",
       "        <td>5433</td>\n",
       "        <td>2007</td>\n",
       "        <td>2020</td>\n",
       "    </tr>\n",
       "    <tr>\n",
       "        <td>b&quot;L&#x27;invit\\xc3\\xa9&quot;</td>\n",
       "        <td>5273</td>\n",
       "        <td>2007</td>\n",
       "        <td>2018</td>\n",
       "    </tr>\n",
       "    <tr>\n",
       "        <td>b&#x27;Volle Kanne&#x27;</td>\n",
       "        <td>5111</td>\n",
       "        <td>None</td>\n",
       "        <td>None</td>\n",
       "    </tr>\n",
       "</table>"
      ],
      "text/plain": [
       "[(b'Charlie Rose', 9884, 1992, 2017),\n",
       " (b'Gute Zeiten, schlechte Zeiten', 7455, 1992, 2020),\n",
       " (b'Judge Judy', 7282, 2014, 2016),\n",
       " (b'Unter uns', 6803, 1998, 2012),\n",
       " (b'Late Show with David Letterman', 6691, 1994, 2015),\n",
       " (b'Goede tijden, slechte tijden', 6550, 1990, 2020),\n",
       " (b'Young Hearts', 6247, 1996, 2018),\n",
       " (b'DAS!', 5433, 2007, 2020),\n",
       " (b\"L'invit\\xc3\\xa9\", 5273, 2007, 2018),\n",
       " (b'Volle Kanne', 5111, None, None)]"
      ]
     },
     "execution_count": 66,
     "metadata": {},
     "output_type": "execute_result"
    }
   ],
   "source": [
    "%%sql\n",
    "SELECT T.primary_title, S.count, S.start, S.stop\n",
    "FROM Serie S\n",
    "LEFT JOIN Titles T ON S.parent_tv_show_title_id=T.title_id\n",
    "ORDER BY count DESC\n",
    "LIMIT 10"
   ]
  },
  {
   "cell_type": "code",
   "execution_count": 63,
   "id": "aa89aac4",
   "metadata": {},
   "outputs": [
    {
     "name": "stdout",
     "output_type": "stream",
     "text": [
      " * mysql+mysqlconnector://root:***@db\n",
      "10 rows affected.\n"
     ]
    },
    {
     "data": {
      "text/html": [
       "<table>\n",
       "    <tr>\n",
       "        <th>parent_tv_show_title_id</th>\n",
       "        <th>count</th>\n",
       "        <th>stop</th>\n",
       "        <th>start</th>\n",
       "    </tr>\n",
       "    <tr>\n",
       "        <td>tt0270116</td>\n",
       "        <td>9884</td>\n",
       "        <td>2017</td>\n",
       "        <td>1992</td>\n",
       "    </tr>\n",
       "    <tr>\n",
       "        <td>tt0103434</td>\n",
       "        <td>7455</td>\n",
       "        <td>2020</td>\n",
       "        <td>1992</td>\n",
       "    </tr>\n",
       "    <tr>\n",
       "        <td>tt0115227</td>\n",
       "        <td>7282</td>\n",
       "        <td>2016</td>\n",
       "        <td>2014</td>\n",
       "    </tr>\n",
       "    <tr>\n",
       "        <td>tt0108977</td>\n",
       "        <td>6803</td>\n",
       "        <td>2012</td>\n",
       "        <td>1998</td>\n",
       "    </tr>\n",
       "    <tr>\n",
       "        <td>tt0106053</td>\n",
       "        <td>6691</td>\n",
       "        <td>2015</td>\n",
       "        <td>1994</td>\n",
       "    </tr>\n",
       "    <tr>\n",
       "        <td>tt0096597</td>\n",
       "        <td>6550</td>\n",
       "        <td>2020</td>\n",
       "        <td>1990</td>\n",
       "    </tr>\n",
       "    <tr>\n",
       "        <td>tt0144724</td>\n",
       "        <td>6247</td>\n",
       "        <td>2018</td>\n",
       "        <td>1996</td>\n",
       "    </tr>\n",
       "    <tr>\n",
       "        <td>tt0289801</td>\n",
       "        <td>5433</td>\n",
       "        <td>2020</td>\n",
       "        <td>2007</td>\n",
       "    </tr>\n",
       "    <tr>\n",
       "        <td>tt4816922</td>\n",
       "        <td>5273</td>\n",
       "        <td>2018</td>\n",
       "        <td>2007</td>\n",
       "    </tr>\n",
       "    <tr>\n",
       "        <td>tt0498891</td>\n",
       "        <td>5111</td>\n",
       "        <td>None</td>\n",
       "        <td>None</td>\n",
       "    </tr>\n",
       "</table>"
      ],
      "text/plain": [
       "[('tt0270116', 9884, 2017, 1992),\n",
       " ('tt0103434', 7455, 2020, 1992),\n",
       " ('tt0115227', 7282, 2016, 2014),\n",
       " ('tt0108977', 6803, 2012, 1998),\n",
       " ('tt0106053', 6691, 2015, 1994),\n",
       " ('tt0096597', 6550, 2020, 1990),\n",
       " ('tt0144724', 6247, 2018, 1996),\n",
       " ('tt0289801', 5433, 2020, 2007),\n",
       " ('tt4816922', 5273, 2018, 2007),\n",
       " ('tt0498891', 5111, None, None)]"
      ]
     },
     "execution_count": 63,
     "metadata": {},
     "output_type": "execute_result"
    }
   ],
   "source": [
    "%%sql\n",
    "SELECT * FROM Serie\n",
    "LIMIT 10"
   ]
  },
  {
   "cell_type": "code",
   "execution_count": 56,
   "id": "54778c34",
   "metadata": {},
   "outputs": [
    {
     "name": "stdout",
     "output_type": "stream",
     "text": [
      " * mysql+mysqlconnector://root:***@db\n",
      "10 rows affected.\n"
     ]
    },
    {
     "data": {
      "text/html": [
       "<table>\n",
       "    <tr>\n",
       "        <th>parent_tv_show_title_id</th>\n",
       "        <th>count</th>\n",
       "    </tr>\n",
       "    <tr>\n",
       "        <td>tt0270116</td>\n",
       "        <td>9884</td>\n",
       "    </tr>\n",
       "    <tr>\n",
       "        <td>tt0103434</td>\n",
       "        <td>7455</td>\n",
       "    </tr>\n",
       "    <tr>\n",
       "        <td>tt0115227</td>\n",
       "        <td>7282</td>\n",
       "    </tr>\n",
       "    <tr>\n",
       "        <td>tt0108977</td>\n",
       "        <td>6803</td>\n",
       "    </tr>\n",
       "    <tr>\n",
       "        <td>tt0106053</td>\n",
       "        <td>6691</td>\n",
       "    </tr>\n",
       "    <tr>\n",
       "        <td>tt0096597</td>\n",
       "        <td>6550</td>\n",
       "    </tr>\n",
       "    <tr>\n",
       "        <td>tt0144724</td>\n",
       "        <td>6247</td>\n",
       "    </tr>\n",
       "    <tr>\n",
       "        <td>tt0289801</td>\n",
       "        <td>5433</td>\n",
       "    </tr>\n",
       "    <tr>\n",
       "        <td>tt4816922</td>\n",
       "        <td>5273</td>\n",
       "    </tr>\n",
       "    <tr>\n",
       "        <td>tt0498891</td>\n",
       "        <td>5111</td>\n",
       "    </tr>\n",
       "</table>"
      ],
      "text/plain": [
       "[('tt0270116', 9884),\n",
       " ('tt0103434', 7455),\n",
       " ('tt0115227', 7282),\n",
       " ('tt0108977', 6803),\n",
       " ('tt0106053', 6691),\n",
       " ('tt0096597', 6550),\n",
       " ('tt0144724', 6247),\n",
       " ('tt0289801', 5433),\n",
       " ('tt4816922', 5273),\n",
       " ('tt0498891', 5111)]"
      ]
     },
     "execution_count": 56,
     "metadata": {},
     "output_type": "execute_result"
    }
   ],
   "source": [
    "%%sql\n",
    "SELECT parent_tv_show_title_id, COUNT(episode_title_id) AS count\n",
    "FROM Episode_belongs_to E\n",
    "LEFT JOIN Titles T ON T.title_id=E.episode_title_id\n",
    "GROUP BY parent_tv_show_title_id\n",
    "HAVING count > 1000\n",
    "ORDER BY count DESC\n",
    "LIMIT 10;"
   ]
  },
  {
   "cell_type": "markdown",
   "id": "b82192a7",
   "metadata": {},
   "source": [
    "### It's all about the ratings \n",
    "\n",
    "1. Group all movies by decade and plot the rating distribution. Limit the query to the movies with at least 1000 ratings.\n",
    "2. Plot the average rating of each episode of Games of Thrones. Group by season and compute the average and std for each season\n",
    "3. Plot the total numer of movies per year, divided by genre (Action, Comedy, Drama, Thriller, Fantasy), and the yearly rating average per genre"
   ]
  },
  {
   "cell_type": "markdown",
   "id": "dada1b9b",
   "metadata": {},
   "source": [
    "#### 1 - Group all movies by decade and plot the rating distribution. Limit the query to the movies with at least 1000 ratings."
   ]
  },
  {
   "cell_type": "code",
   "execution_count": 11,
   "id": "1d292b05",
   "metadata": {},
   "outputs": [
    {
     "name": "stdout",
     "output_type": "stream",
     "text": [
      " * mysql+mysqlconnector://root:***@db\n",
      "0 rows affected.\n",
      "7 rows affected.\n"
     ]
    },
    {
     "data": {
      "text/html": [
       "<table>\n",
       "    <tr>\n",
       "        <th>Tables_in_IMDb</th>\n",
       "    </tr>\n",
       "    <tr>\n",
       "        <td>Directors</td>\n",
       "    </tr>\n",
       "    <tr>\n",
       "        <td>Episode_belongs_to</td>\n",
       "    </tr>\n",
       "    <tr>\n",
       "        <td>Had_role</td>\n",
       "    </tr>\n",
       "    <tr>\n",
       "        <td>Names_</td>\n",
       "    </tr>\n",
       "    <tr>\n",
       "        <td>Title_genres</td>\n",
       "    </tr>\n",
       "    <tr>\n",
       "        <td>Title_ratings</td>\n",
       "    </tr>\n",
       "    <tr>\n",
       "        <td>Titles</td>\n",
       "    </tr>\n",
       "</table>"
      ],
      "text/plain": [
       "[('Directors',),\n",
       " ('Episode_belongs_to',),\n",
       " ('Had_role',),\n",
       " ('Names_',),\n",
       " ('Title_genres',),\n",
       " ('Title_ratings',),\n",
       " ('Titles',)]"
      ]
     },
     "execution_count": 11,
     "metadata": {},
     "output_type": "execute_result"
    }
   ],
   "source": [
    "%%sql\n",
    "USE IMDb;\n",
    "SHOW TABLES;"
   ]
  },
  {
   "cell_type": "markdown",
   "id": "0545fe7b",
   "metadata": {},
   "source": [
    "#### 2 - Plot the average rating of each episode of Games of Thrones. Group by season and compute the average and std for each season"
   ]
  },
  {
   "cell_type": "code",
   "execution_count": 31,
   "id": "f3d04fa7",
   "metadata": {},
   "outputs": [
    {
     "name": "stdout",
     "output_type": "stream",
     "text": [
      " * mysql+mysqlconnector://root:***@db\n",
      "73 rows affected.\n"
     ]
    },
    {
     "data": {
      "text/plain": [
       "1"
      ]
     },
     "execution_count": 31,
     "metadata": {},
     "output_type": "execute_result"
    }
   ],
   "source": [
    "import numpy as np\n",
    "\n",
    "res = %sql \\\n",
    "SELECT E.season_number, E.episode_number, R.average_rating \\\n",
    "FROM (Title_ratings R INNER JOIN Episode_belongs_to E ON E.episode_title_id = R.title_id) \\\n",
    "INNER JOIN Titles T ON E.parent_tv_show_title_id = T.title_id \\\n",
    "WHERE(primary_title = \"Game of Thrones\") \\\n",
    "ORDER BY E.season_number, E.episode_number;"
   ]
  },
  {
   "cell_type": "code",
   "execution_count": 41,
   "id": "a25f4824",
   "metadata": {},
   "outputs": [
    {
     "data": {
      "text/plain": [
       "[<matplotlib.lines.Line2D at 0x7faffc82b5b0>]"
      ]
     },
     "execution_count": 41,
     "metadata": {},
     "output_type": "execute_result"
    },
    {
     "data": {
      "image/png": "[encoded data removed]",
      "text/plain": [
       "<Figure size 640x480 with 1 Axes>"
      ]
     },
     "metadata": {},
     "output_type": "display_data"
    }
   ],
   "source": [
    "plt.plot(np.array(res)[:,0]*10+np.array(res)[:,1], np.array(res)[:,2])"
   ]
  },
  {
   "cell_type": "code",
   "execution_count": 61,
   "id": "ff11cde0",
   "metadata": {},
   "outputs": [
    {
     "name": "stdout",
     "output_type": "stream",
     "text": [
      " * mysql+mysqlconnector://root:***@db\n",
      "73 rows affected.\n"
     ]
    },
    {
     "data": {
      "text/html": [
       "<table>\n",
       "    <tr>\n",
       "        <th>primary_title</th>\n",
       "        <th>season_number</th>\n",
       "        <th>episode_number</th>\n",
       "        <th>average_rating</th>\n",
       "    </tr>\n",
       "    <tr>\n",
       "        <td>b&#x27;Winter Is Coming&#x27;</td>\n",
       "        <td>1</td>\n",
       "        <td>1</td>\n",
       "        <td>9.1</td>\n",
       "    </tr>\n",
       "    <tr>\n",
       "        <td>b&#x27;The Kingsroad&#x27;</td>\n",
       "        <td>1</td>\n",
       "        <td>2</td>\n",
       "        <td>8.8</td>\n",
       "    </tr>\n",
       "    <tr>\n",
       "        <td>b&#x27;Lord Snow&#x27;</td>\n",
       "        <td>1</td>\n",
       "        <td>3</td>\n",
       "        <td>8.7</td>\n",
       "    </tr>\n",
       "    <tr>\n",
       "        <td>b&#x27;Cripples, Bastards, and Broken Things&#x27;</td>\n",
       "        <td>1</td>\n",
       "        <td>4</td>\n",
       "        <td>8.8</td>\n",
       "    </tr>\n",
       "    <tr>\n",
       "        <td>b&#x27;The Wolf and the Lion&#x27;</td>\n",
       "        <td>1</td>\n",
       "        <td>5</td>\n",
       "        <td>9.1</td>\n",
       "    </tr>\n",
       "    <tr>\n",
       "        <td>b&#x27;A Golden Crown&#x27;</td>\n",
       "        <td>1</td>\n",
       "        <td>6</td>\n",
       "        <td>9.2</td>\n",
       "    </tr>\n",
       "    <tr>\n",
       "        <td>b&#x27;You Win or You Die&#x27;</td>\n",
       "        <td>1</td>\n",
       "        <td>7</td>\n",
       "        <td>9.2</td>\n",
       "    </tr>\n",
       "    <tr>\n",
       "        <td>b&#x27;The Pointy End&#x27;</td>\n",
       "        <td>1</td>\n",
       "        <td>8</td>\n",
       "        <td>9.0</td>\n",
       "    </tr>\n",
       "    <tr>\n",
       "        <td>b&#x27;Baelor&#x27;</td>\n",
       "        <td>1</td>\n",
       "        <td>9</td>\n",
       "        <td>9.6</td>\n",
       "    </tr>\n",
       "    <tr>\n",
       "        <td>b&#x27;Fire and Blood&#x27;</td>\n",
       "        <td>1</td>\n",
       "        <td>10</td>\n",
       "        <td>9.5</td>\n",
       "    </tr>\n",
       "    <tr>\n",
       "        <td>b&#x27;The North Remembers&#x27;</td>\n",
       "        <td>2</td>\n",
       "        <td>1</td>\n",
       "        <td>8.8</td>\n",
       "    </tr>\n",
       "    <tr>\n",
       "        <td>b&#x27;The Night Lands&#x27;</td>\n",
       "        <td>2</td>\n",
       "        <td>2</td>\n",
       "        <td>8.5</td>\n",
       "    </tr>\n",
       "    <tr>\n",
       "        <td>b&#x27;What Is Dead May Never Die&#x27;</td>\n",
       "        <td>2</td>\n",
       "        <td>3</td>\n",
       "        <td>8.8</td>\n",
       "    </tr>\n",
       "    <tr>\n",
       "        <td>b&#x27;Garden of Bones&#x27;</td>\n",
       "        <td>2</td>\n",
       "        <td>4</td>\n",
       "        <td>8.8</td>\n",
       "    </tr>\n",
       "    <tr>\n",
       "        <td>b&#x27;The Ghost of Harrenhal&#x27;</td>\n",
       "        <td>2</td>\n",
       "        <td>5</td>\n",
       "        <td>8.8</td>\n",
       "    </tr>\n",
       "    <tr>\n",
       "        <td>b&#x27;The Old Gods and the New&#x27;</td>\n",
       "        <td>2</td>\n",
       "        <td>6</td>\n",
       "        <td>9.1</td>\n",
       "    </tr>\n",
       "    <tr>\n",
       "        <td>b&#x27;A Man Without Honor&#x27;</td>\n",
       "        <td>2</td>\n",
       "        <td>7</td>\n",
       "        <td>8.9</td>\n",
       "    </tr>\n",
       "    <tr>\n",
       "        <td>b&#x27;The Prince of Winterfell&#x27;</td>\n",
       "        <td>2</td>\n",
       "        <td>8</td>\n",
       "        <td>8.8</td>\n",
       "    </tr>\n",
       "    <tr>\n",
       "        <td>b&#x27;Blackwater&#x27;</td>\n",
       "        <td>2</td>\n",
       "        <td>9</td>\n",
       "        <td>9.7</td>\n",
       "    </tr>\n",
       "    <tr>\n",
       "        <td>b&#x27;Valar Morghulis&#x27;</td>\n",
       "        <td>2</td>\n",
       "        <td>10</td>\n",
       "        <td>9.4</td>\n",
       "    </tr>\n",
       "    <tr>\n",
       "        <td>b&#x27;Valar Dohaeris&#x27;</td>\n",
       "        <td>3</td>\n",
       "        <td>1</td>\n",
       "        <td>8.8</td>\n",
       "    </tr>\n",
       "    <tr>\n",
       "        <td>b&#x27;Dark Wings, Dark Words&#x27;</td>\n",
       "        <td>3</td>\n",
       "        <td>2</td>\n",
       "        <td>8.6</td>\n",
       "    </tr>\n",
       "    <tr>\n",
       "        <td>b&#x27;Walk of Punishment&#x27;</td>\n",
       "        <td>3</td>\n",
       "        <td>3</td>\n",
       "        <td>8.9</td>\n",
       "    </tr>\n",
       "    <tr>\n",
       "        <td>b&#x27;And Now His Watch Is Ended&#x27;</td>\n",
       "        <td>3</td>\n",
       "        <td>4</td>\n",
       "        <td>9.6</td>\n",
       "    </tr>\n",
       "    <tr>\n",
       "        <td>b&#x27;Kissed by Fire&#x27;</td>\n",
       "        <td>3</td>\n",
       "        <td>5</td>\n",
       "        <td>9.0</td>\n",
       "    </tr>\n",
       "    <tr>\n",
       "        <td>b&#x27;The Climb&#x27;</td>\n",
       "        <td>3</td>\n",
       "        <td>6</td>\n",
       "        <td>8.8</td>\n",
       "    </tr>\n",
       "    <tr>\n",
       "        <td>b&#x27;The Bear and the Maiden Fair&#x27;</td>\n",
       "        <td>3</td>\n",
       "        <td>7</td>\n",
       "        <td>8.7</td>\n",
       "    </tr>\n",
       "    <tr>\n",
       "        <td>b&#x27;Second Sons&#x27;</td>\n",
       "        <td>3</td>\n",
       "        <td>8</td>\n",
       "        <td>9.0</td>\n",
       "    </tr>\n",
       "    <tr>\n",
       "        <td>b&#x27;The Rains of Castamere&#x27;</td>\n",
       "        <td>3</td>\n",
       "        <td>9</td>\n",
       "        <td>9.9</td>\n",
       "    </tr>\n",
       "    <tr>\n",
       "        <td>b&#x27;Mhysa&#x27;</td>\n",
       "        <td>3</td>\n",
       "        <td>10</td>\n",
       "        <td>9.2</td>\n",
       "    </tr>\n",
       "    <tr>\n",
       "        <td>b&#x27;Two Swords&#x27;</td>\n",
       "        <td>4</td>\n",
       "        <td>1</td>\n",
       "        <td>9.1</td>\n",
       "    </tr>\n",
       "    <tr>\n",
       "        <td>b&#x27;The Lion and the Rose&#x27;</td>\n",
       "        <td>4</td>\n",
       "        <td>2</td>\n",
       "        <td>9.7</td>\n",
       "    </tr>\n",
       "    <tr>\n",
       "        <td>b&#x27;Breaker of Chains&#x27;</td>\n",
       "        <td>4</td>\n",
       "        <td>3</td>\n",
       "        <td>8.9</td>\n",
       "    </tr>\n",
       "    <tr>\n",
       "        <td>b&#x27;Oathkeeper&#x27;</td>\n",
       "        <td>4</td>\n",
       "        <td>4</td>\n",
       "        <td>8.8</td>\n",
       "    </tr>\n",
       "    <tr>\n",
       "        <td>b&#x27;First of His Name&#x27;</td>\n",
       "        <td>4</td>\n",
       "        <td>5</td>\n",
       "        <td>8.8</td>\n",
       "    </tr>\n",
       "    <tr>\n",
       "        <td>b&#x27;The Laws of Gods and Men&#x27;</td>\n",
       "        <td>4</td>\n",
       "        <td>6</td>\n",
       "        <td>9.7</td>\n",
       "    </tr>\n",
       "    <tr>\n",
       "        <td>b&#x27;Mockingbird&#x27;</td>\n",
       "        <td>4</td>\n",
       "        <td>7</td>\n",
       "        <td>9.1</td>\n",
       "    </tr>\n",
       "    <tr>\n",
       "        <td>b&#x27;The Mountain and the Viper&#x27;</td>\n",
       "        <td>4</td>\n",
       "        <td>8</td>\n",
       "        <td>9.7</td>\n",
       "    </tr>\n",
       "    <tr>\n",
       "        <td>b&#x27;The Watchers on the Wall&#x27;</td>\n",
       "        <td>4</td>\n",
       "        <td>9</td>\n",
       "        <td>9.6</td>\n",
       "    </tr>\n",
       "    <tr>\n",
       "        <td>b&#x27;The Children&#x27;</td>\n",
       "        <td>4</td>\n",
       "        <td>10</td>\n",
       "        <td>9.7</td>\n",
       "    </tr>\n",
       "    <tr>\n",
       "        <td>b&#x27;The Wars to Come&#x27;</td>\n",
       "        <td>5</td>\n",
       "        <td>1</td>\n",
       "        <td>8.5</td>\n",
       "    </tr>\n",
       "    <tr>\n",
       "        <td>b&#x27;The House of Black and White&#x27;</td>\n",
       "        <td>5</td>\n",
       "        <td>2</td>\n",
       "        <td>8.5</td>\n",
       "    </tr>\n",
       "    <tr>\n",
       "        <td>b&#x27;High Sparrow&#x27;</td>\n",
       "        <td>5</td>\n",
       "        <td>3</td>\n",
       "        <td>8.5</td>\n",
       "    </tr>\n",
       "    <tr>\n",
       "        <td>b&#x27;Sons of the Harpy&#x27;</td>\n",
       "        <td>5</td>\n",
       "        <td>4</td>\n",
       "        <td>8.7</td>\n",
       "    </tr>\n",
       "    <tr>\n",
       "        <td>b&#x27;Kill the Boy&#x27;</td>\n",
       "        <td>5</td>\n",
       "        <td>5</td>\n",
       "        <td>8.6</td>\n",
       "    </tr>\n",
       "    <tr>\n",
       "        <td>b&#x27;Unbowed, Unbent, Unbroken&#x27;</td>\n",
       "        <td>5</td>\n",
       "        <td>6</td>\n",
       "        <td>8.0</td>\n",
       "    </tr>\n",
       "    <tr>\n",
       "        <td>b&#x27;The Gift&#x27;</td>\n",
       "        <td>5</td>\n",
       "        <td>7</td>\n",
       "        <td>9.0</td>\n",
       "    </tr>\n",
       "    <tr>\n",
       "        <td>b&#x27;Hardhome&#x27;</td>\n",
       "        <td>5</td>\n",
       "        <td>8</td>\n",
       "        <td>9.9</td>\n",
       "    </tr>\n",
       "    <tr>\n",
       "        <td>b&#x27;The Dance of Dragons&#x27;</td>\n",
       "        <td>5</td>\n",
       "        <td>9</td>\n",
       "        <td>9.5</td>\n",
       "    </tr>\n",
       "    <tr>\n",
       "        <td>b&quot;Mother&#x27;s Mercy&quot;</td>\n",
       "        <td>5</td>\n",
       "        <td>10</td>\n",
       "        <td>9.1</td>\n",
       "    </tr>\n",
       "    <tr>\n",
       "        <td>b&#x27;The Red Woman&#x27;</td>\n",
       "        <td>6</td>\n",
       "        <td>1</td>\n",
       "        <td>8.5</td>\n",
       "    </tr>\n",
       "    <tr>\n",
       "        <td>b&#x27;Home&#x27;</td>\n",
       "        <td>6</td>\n",
       "        <td>2</td>\n",
       "        <td>9.4</td>\n",
       "    </tr>\n",
       "    <tr>\n",
       "        <td>b&#x27;Oathbreaker&#x27;</td>\n",
       "        <td>6</td>\n",
       "        <td>3</td>\n",
       "        <td>8.7</td>\n",
       "    </tr>\n",
       "    <tr>\n",
       "        <td>b&#x27;Book of the Stranger&#x27;</td>\n",
       "        <td>6</td>\n",
       "        <td>4</td>\n",
       "        <td>9.1</td>\n",
       "    </tr>\n",
       "    <tr>\n",
       "        <td>b&#x27;The Door&#x27;</td>\n",
       "        <td>6</td>\n",
       "        <td>5</td>\n",
       "        <td>9.7</td>\n",
       "    </tr>\n",
       "    <tr>\n",
       "        <td>b&#x27;Blood of My Blood&#x27;</td>\n",
       "        <td>6</td>\n",
       "        <td>6</td>\n",
       "        <td>8.4</td>\n",
       "    </tr>\n",
       "    <tr>\n",
       "        <td>b&#x27;The Broken Man&#x27;</td>\n",
       "        <td>6</td>\n",
       "        <td>7</td>\n",
       "        <td>8.6</td>\n",
       "    </tr>\n",
       "    <tr>\n",
       "        <td>b&#x27;No One&#x27;</td>\n",
       "        <td>6</td>\n",
       "        <td>8</td>\n",
       "        <td>8.4</td>\n",
       "    </tr>\n",
       "    <tr>\n",
       "        <td>b&#x27;Battle of the Bastards&#x27;</td>\n",
       "        <td>6</td>\n",
       "        <td>9</td>\n",
       "        <td>9.9</td>\n",
       "    </tr>\n",
       "    <tr>\n",
       "        <td>b&#x27;The Winds of Winter&#x27;</td>\n",
       "        <td>6</td>\n",
       "        <td>10</td>\n",
       "        <td>9.9</td>\n",
       "    </tr>\n",
       "    <tr>\n",
       "        <td>b&#x27;Dragonstone&#x27;</td>\n",
       "        <td>7</td>\n",
       "        <td>1</td>\n",
       "        <td>8.6</td>\n",
       "    </tr>\n",
       "    <tr>\n",
       "        <td>b&#x27;Stormborn&#x27;</td>\n",
       "        <td>7</td>\n",
       "        <td>2</td>\n",
       "        <td>8.9</td>\n",
       "    </tr>\n",
       "    <tr>\n",
       "        <td>b&quot;The Queen&#x27;s Justice&quot;</td>\n",
       "        <td>7</td>\n",
       "        <td>3</td>\n",
       "        <td>9.2</td>\n",
       "    </tr>\n",
       "    <tr>\n",
       "        <td>b&#x27;The Spoils of War&#x27;</td>\n",
       "        <td>7</td>\n",
       "        <td>4</td>\n",
       "        <td>9.8</td>\n",
       "    </tr>\n",
       "    <tr>\n",
       "        <td>b&#x27;Eastwatch&#x27;</td>\n",
       "        <td>7</td>\n",
       "        <td>5</td>\n",
       "        <td>8.8</td>\n",
       "    </tr>\n",
       "    <tr>\n",
       "        <td>b&#x27;Beyond the Wall&#x27;</td>\n",
       "        <td>7</td>\n",
       "        <td>6</td>\n",
       "        <td>9.0</td>\n",
       "    </tr>\n",
       "    <tr>\n",
       "        <td>b&#x27;The Dragon and the Wolf&#x27;</td>\n",
       "        <td>7</td>\n",
       "        <td>7</td>\n",
       "        <td>9.4</td>\n",
       "    </tr>\n",
       "    <tr>\n",
       "        <td>b&#x27;Winterfell&#x27;</td>\n",
       "        <td>8</td>\n",
       "        <td>1</td>\n",
       "        <td>7.5</td>\n",
       "    </tr>\n",
       "    <tr>\n",
       "        <td>b&#x27;A Knight of the Seven Kingdoms&#x27;</td>\n",
       "        <td>8</td>\n",
       "        <td>2</td>\n",
       "        <td>7.8</td>\n",
       "    </tr>\n",
       "    <tr>\n",
       "        <td>b&#x27;The Long Night&#x27;</td>\n",
       "        <td>8</td>\n",
       "        <td>3</td>\n",
       "        <td>7.4</td>\n",
       "    </tr>\n",
       "    <tr>\n",
       "        <td>b&#x27;The Last of the Starks&#x27;</td>\n",
       "        <td>8</td>\n",
       "        <td>4</td>\n",
       "        <td>5.4</td>\n",
       "    </tr>\n",
       "    <tr>\n",
       "        <td>b&#x27;The Bells&#x27;</td>\n",
       "        <td>8</td>\n",
       "        <td>5</td>\n",
       "        <td>5.9</td>\n",
       "    </tr>\n",
       "    <tr>\n",
       "        <td>b&#x27;The Iron Throne&#x27;</td>\n",
       "        <td>8</td>\n",
       "        <td>6</td>\n",
       "        <td>4.0</td>\n",
       "    </tr>\n",
       "</table>"
      ],
      "text/plain": [
       "[(b'Winter Is Coming', 1, 1, 9.1),\n",
       " (b'The Kingsroad', 1, 2, 8.8),\n",
       " (b'Lord Snow', 1, 3, 8.7),\n",
       " (b'Cripples, Bastards, and Broken Things', 1, 4, 8.8),\n",
       " (b'The Wolf and the Lion', 1, 5, 9.1),\n",
       " (b'A Golden Crown', 1, 6, 9.2),\n",
       " (b'You Win or You Die', 1, 7, 9.2),\n",
       " (b'The Pointy End', 1, 8, 9.0),\n",
       " (b'Baelor', 1, 9, 9.6),\n",
       " (b'Fire and Blood', 1, 10, 9.5),\n",
       " (b'The North Remembers', 2, 1, 8.8),\n",
       " (b'The Night Lands', 2, 2, 8.5),\n",
       " (b'What Is Dead May Never Die', 2, 3, 8.8),\n",
       " (b'Garden of Bones', 2, 4, 8.8),\n",
       " (b'The Ghost of Harrenhal', 2, 5, 8.8),\n",
       " (b'The Old Gods and the New', 2, 6, 9.1),\n",
       " (b'A Man Without Honor', 2, 7, 8.9),\n",
       " (b'The Prince of Winterfell', 2, 8, 8.8),\n",
       " (b'Blackwater', 2, 9, 9.7),\n",
       " (b'Valar Morghulis', 2, 10, 9.4),\n",
       " (b'Valar Dohaeris', 3, 1, 8.8),\n",
       " (b'Dark Wings, Dark Words', 3, 2, 8.6),\n",
       " (b'Walk of Punishment', 3, 3, 8.9),\n",
       " (b'And Now His Watch Is Ended', 3, 4, 9.6),\n",
       " (b'Kissed by Fire', 3, 5, 9.0),\n",
       " (b'The Climb', 3, 6, 8.8),\n",
       " (b'The Bear and the Maiden Fair', 3, 7, 8.7),\n",
       " (b'Second Sons', 3, 8, 9.0),\n",
       " (b'The Rains of Castamere', 3, 9, 9.9),\n",
       " (b'Mhysa', 3, 10, 9.2),\n",
       " (b'Two Swords', 4, 1, 9.1),\n",
       " (b'The Lion and the Rose', 4, 2, 9.7),\n",
       " (b'Breaker of Chains', 4, 3, 8.9),\n",
       " (b'Oathkeeper', 4, 4, 8.8),\n",
       " (b'First of His Name', 4, 5, 8.8),\n",
       " (b'The Laws of Gods and Men', 4, 6, 9.7),\n",
       " (b'Mockingbird', 4, 7, 9.1),\n",
       " (b'The Mountain and the Viper', 4, 8, 9.7),\n",
       " (b'The Watchers on the Wall', 4, 9, 9.6),\n",
       " (b'The Children', 4, 10, 9.7),\n",
       " (b'The Wars to Come', 5, 1, 8.5),\n",
       " (b'The House of Black and White', 5, 2, 8.5),\n",
       " (b'High Sparrow', 5, 3, 8.5),\n",
       " (b'Sons of the Harpy', 5, 4, 8.7),\n",
       " (b'Kill the Boy', 5, 5, 8.6),\n",
       " (b'Unbowed, Unbent, Unbroken', 5, 6, 8.0),\n",
       " (b'The Gift', 5, 7, 9.0),\n",
       " (b'Hardhome', 5, 8, 9.9),\n",
       " (b'The Dance of Dragons', 5, 9, 9.5),\n",
       " (b\"Mother's Mercy\", 5, 10, 9.1),\n",
       " (b'The Red Woman', 6, 1, 8.5),\n",
       " (b'Home', 6, 2, 9.4),\n",
       " (b'Oathbreaker', 6, 3, 8.7),\n",
       " (b'Book of the Stranger', 6, 4, 9.1),\n",
       " (b'The Door', 6, 5, 9.7),\n",
       " (b'Blood of My Blood', 6, 6, 8.4),\n",
       " (b'The Broken Man', 6, 7, 8.6),\n",
       " (b'No One', 6, 8, 8.4),\n",
       " (b'Battle of the Bastards', 6, 9, 9.9),\n",
       " (b'The Winds of Winter', 6, 10, 9.9),\n",
       " (b'Dragonstone', 7, 1, 8.6),\n",
       " (b'Stormborn', 7, 2, 8.9),\n",
       " (b\"The Queen's Justice\", 7, 3, 9.2),\n",
       " (b'The Spoils of War', 7, 4, 9.8),\n",
       " (b'Eastwatch', 7, 5, 8.8),\n",
       " (b'Beyond the Wall', 7, 6, 9.0),\n",
       " (b'The Dragon and the Wolf', 7, 7, 9.4),\n",
       " (b'Winterfell', 8, 1, 7.5),\n",
       " (b'A Knight of the Seven Kingdoms', 8, 2, 7.8),\n",
       " (b'The Long Night', 8, 3, 7.4),\n",
       " (b'The Last of the Starks', 8, 4, 5.4),\n",
       " (b'The Bells', 8, 5, 5.9),\n",
       " (b'The Iron Throne', 8, 6, 4.0)]"
      ]
     },
     "execution_count": 61,
     "metadata": {},
     "output_type": "execute_result"
    }
   ],
   "source": [
    "%%sql\n",
    "\n",
    "SELECT T.primary_title, E.season_number, E.episode_number, R.average_rating\n",
    "FROM Episode_belongs_to E\n",
    "INNER JOIN Titles T ON T.title_id = E.episode_title_id\n",
    "INNER JOIN Title_ratings R ON R.title_id = E.episode_title_id\n",
    "WHERE parent_tv_show_title_id = (\n",
    "    SELECT title_id\n",
    "    FROM Titles\n",
    "    WHERE primary_title = 'Game of Thrones'\n",
    "    AND title_type = 'tvSeries'\n",
    ")\n",
    "ORDER BY E.season_number, E.episode_number;"
   ]
  },
  {
   "cell_type": "markdown",
   "id": "b9b7a15b",
   "metadata": {},
   "source": [
    "#### 3 - Plot the total numer of movies per year, divided by genre (Action, Comedy, Drama, Thriller, Fantasy), and the yearly rating average per genre"
   ]
  },
  {
   "cell_type": "code",
   "execution_count": 74,
   "id": "a9073bb5",
   "metadata": {},
   "outputs": [
    {
     "name": "stdout",
     "output_type": "stream",
     "text": [
      " * mysql+mysqlconnector://root:***@db\n",
      "165 rows affected.\n"
     ]
    }
   ],
   "source": [
    "res = %sql \\\n",
    "SELECT T.start_year, G.genre, AVG(R.average_rating) AS rating, STD(average_rating) AS std, count(*) AS count \\\n",
    "FROM Title_genres G \\\n",
    "INNER JOIN Title_ratings R ON G.title_id = R.title_id \\\n",
    "INNER JOIN Titles T ON G.title_id = T.title_id \\\n",
    "WHERE (T.title_type = \"movie\")  \\\n",
    "AND (T.start_year IS NOT NULL) \\\n",
    "AND (G.genre IN (\"Action\", \"Comedy\", \"Drama\", \"Thriller\", \"Fantasy\") ) \\\n",
    "GROUP BY T.start_year, G.genre \\\n",
    "ORDER BY T.start_year, G.genre\n"
   ]
  },
  {
   "cell_type": "code",
   "execution_count": 75,
   "id": "1b133db2",
   "metadata": {},
   "outputs": [
    {
     "data": {
      "image/png": "[encoded data removed]",
      "text/plain": [
       "<Figure size 640x480 with 1 Axes>"
      ]
     },
     "metadata": {},
     "output_type": "display_data"
    }
   ],
   "source": [
    "df = res.DataFrame()\n",
    "for g in df.genre.unique():\n",
    "    plt.plot(df[df.genre == g].start_year, df[df.genre == g].rating)"
   ]
  },
  {
   "cell_type": "code",
   "execution_count": null,
   "id": "6697bc8e",
   "metadata": {},
   "outputs": [],
   "source": []
  }
 ],
 "metadata": {
  "kernelspec": {
   "display_name": "Python 3 (ipykernel)",
   "language": "python",
   "name": "python3"
  },
  "language_info": {
   "codemirror_mode": {
    "name": "ipython",
    "version": 3
   },
   "file_extension": ".py",
   "mimetype": "text/x-python",
   "name": "python",
   "nbconvert_exporter": "python",
   "pygments_lexer": "ipython3",
   "version": "3.9.12"
  }
 },
 "nbformat": 4,
 "nbformat_minor": 5
}
